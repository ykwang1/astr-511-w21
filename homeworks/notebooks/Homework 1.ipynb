{
 "cells": [
  {
   "cell_type": "code",
   "execution_count": 35,
   "metadata": {},
   "outputs": [],
   "source": [
    "import pandas as pd\n",
    "import numpy as np\n",
    "import astropy.units as u\n",
    "import matplotlib.pyplot as plt"
   ]
  },
  {
   "cell_type": "markdown",
   "metadata": {},
   "source": [
    "## Read data as pd DataFrame"
   ]
  },
  {
   "cell_type": "code",
   "execution_count": 2,
   "metadata": {},
   "outputs": [],
   "source": [
    "with open('../Astr511HW1data.dat', 'r') as ff:\n",
    "    line1 = ff.readline()\n",
    "    cols = line1.strip('#').split()\n",
    "\n",
    "df = pd.read_csv('../Astr511HW1data.dat', comment='#', delim_whitespace=True, names=cols)"
   ]
  },
  {
   "cell_type": "code",
   "execution_count": 3,
   "metadata": {},
   "outputs": [
    {
     "data": {
      "text/html": [
       "<div>\n",
       "<style scoped>\n",
       "    .dataframe tbody tr th:only-of-type {\n",
       "        vertical-align: middle;\n",
       "    }\n",
       "\n",
       "    .dataframe tbody tr th {\n",
       "        vertical-align: top;\n",
       "    }\n",
       "\n",
       "    .dataframe thead th {\n",
       "        text-align: right;\n",
       "    }\n",
       "</style>\n",
       "<table border=\"1\" class=\"dataframe\">\n",
       "  <thead>\n",
       "    <tr style=\"text-align: right;\">\n",
       "      <th></th>\n",
       "      <th>ra</th>\n",
       "      <th>dec</th>\n",
       "      <th>run</th>\n",
       "      <th>Ar</th>\n",
       "      <th>u</th>\n",
       "      <th>g</th>\n",
       "      <th>r</th>\n",
       "      <th>i</th>\n",
       "      <th>z</th>\n",
       "      <th>uErr</th>\n",
       "      <th>gErr</th>\n",
       "      <th>rErr</th>\n",
       "      <th>iErr</th>\n",
       "      <th>zErr</th>\n",
       "      <th>pmL</th>\n",
       "      <th>pmB</th>\n",
       "      <th>pmErr</th>\n",
       "    </tr>\n",
       "  </thead>\n",
       "  <tbody>\n",
       "    <tr>\n",
       "      <th>0</th>\n",
       "      <td>181.61220</td>\n",
       "      <td>27.57260</td>\n",
       "      <td>5087</td>\n",
       "      <td>0.05</td>\n",
       "      <td>16.40</td>\n",
       "      <td>15.24</td>\n",
       "      <td>14.80</td>\n",
       "      <td>14.73</td>\n",
       "      <td>14.69</td>\n",
       "      <td>0.02</td>\n",
       "      <td>0.02</td>\n",
       "      <td>0.02</td>\n",
       "      <td>0.02</td>\n",
       "      <td>0.01</td>\n",
       "      <td>5.16</td>\n",
       "      <td>-1.45</td>\n",
       "      <td>2.72</td>\n",
       "    </tr>\n",
       "    <tr>\n",
       "      <th>1</th>\n",
       "      <td>181.61303</td>\n",
       "      <td>27.60770</td>\n",
       "      <td>5087</td>\n",
       "      <td>0.05</td>\n",
       "      <td>21.84</td>\n",
       "      <td>19.55</td>\n",
       "      <td>18.40</td>\n",
       "      <td>18.04</td>\n",
       "      <td>17.79</td>\n",
       "      <td>0.18</td>\n",
       "      <td>0.02</td>\n",
       "      <td>0.02</td>\n",
       "      <td>0.02</td>\n",
       "      <td>0.02</td>\n",
       "      <td>5.48</td>\n",
       "      <td>4.73</td>\n",
       "      <td>3.16</td>\n",
       "    </tr>\n",
       "    <tr>\n",
       "      <th>2</th>\n",
       "      <td>181.61416</td>\n",
       "      <td>27.35956</td>\n",
       "      <td>5112</td>\n",
       "      <td>0.05</td>\n",
       "      <td>19.76</td>\n",
       "      <td>17.56</td>\n",
       "      <td>16.61</td>\n",
       "      <td>16.23</td>\n",
       "      <td>16.07</td>\n",
       "      <td>0.03</td>\n",
       "      <td>0.01</td>\n",
       "      <td>0.02</td>\n",
       "      <td>0.03</td>\n",
       "      <td>0.03</td>\n",
       "      <td>3.14</td>\n",
       "      <td>7.92</td>\n",
       "      <td>2.79</td>\n",
       "    </tr>\n",
       "    <tr>\n",
       "      <th>3</th>\n",
       "      <td>181.61640</td>\n",
       "      <td>27.82464</td>\n",
       "      <td>5112</td>\n",
       "      <td>0.06</td>\n",
       "      <td>21.73</td>\n",
       "      <td>20.63</td>\n",
       "      <td>20.19</td>\n",
       "      <td>19.99</td>\n",
       "      <td>20.04</td>\n",
       "      <td>0.16</td>\n",
       "      <td>0.03</td>\n",
       "      <td>0.03</td>\n",
       "      <td>0.03</td>\n",
       "      <td>0.13</td>\n",
       "      <td>19.13</td>\n",
       "      <td>-1.08</td>\n",
       "      <td>5.08</td>\n",
       "    </tr>\n",
       "    <tr>\n",
       "      <th>4</th>\n",
       "      <td>181.62112</td>\n",
       "      <td>28.01623</td>\n",
       "      <td>5087</td>\n",
       "      <td>0.05</td>\n",
       "      <td>21.37</td>\n",
       "      <td>20.38</td>\n",
       "      <td>20.11</td>\n",
       "      <td>20.05</td>\n",
       "      <td>19.87</td>\n",
       "      <td>0.11</td>\n",
       "      <td>0.04</td>\n",
       "      <td>0.03</td>\n",
       "      <td>0.03</td>\n",
       "      <td>0.09</td>\n",
       "      <td>-3.65</td>\n",
       "      <td>-8.00</td>\n",
       "      <td>4.91</td>\n",
       "    </tr>\n",
       "  </tbody>\n",
       "</table>\n",
       "</div>"
      ],
      "text/plain": [
       "          ra       dec   run    Ar      u      g      r      i      z  uErr  \\\n",
       "0  181.61220  27.57260  5087  0.05  16.40  15.24  14.80  14.73  14.69  0.02   \n",
       "1  181.61303  27.60770  5087  0.05  21.84  19.55  18.40  18.04  17.79  0.18   \n",
       "2  181.61416  27.35956  5112  0.05  19.76  17.56  16.61  16.23  16.07  0.03   \n",
       "3  181.61640  27.82464  5112  0.06  21.73  20.63  20.19  19.99  20.04  0.16   \n",
       "4  181.62112  28.01623  5087  0.05  21.37  20.38  20.11  20.05  19.87  0.11   \n",
       "\n",
       "   gErr  rErr  iErr  zErr    pmL   pmB  pmErr  \n",
       "0  0.02  0.02  0.02  0.01   5.16 -1.45   2.72  \n",
       "1  0.02  0.02  0.02  0.02   5.48  4.73   3.16  \n",
       "2  0.01  0.02  0.03  0.03   3.14  7.92   2.79  \n",
       "3  0.03  0.03  0.03  0.13  19.13 -1.08   5.08  \n",
       "4  0.04  0.03  0.03  0.09  -3.65 -8.00   4.91  "
      ]
     },
     "execution_count": 3,
     "metadata": {},
     "output_type": "execute_result"
    }
   ],
   "source": [
    "df.head()"
   ]
  },
  {
   "cell_type": "markdown",
   "metadata": {},
   "source": [
    "\n",
    "\n",
    "\n",
    "\n",
    "\n",
    "\n"
   ]
  },
  {
   "cell_type": "markdown",
   "metadata": {},
   "source": [
    "## Calculate Metalliticites Fe/H\n",
    "\n",
    "\\begin{equation}\n",
    "[Fe/H] = A + Bx + Cy + Dxy + Ex^2 + Fy^2 + Gx^2y + Hxy^2 + Ix^3 + Jy^3\n",
    "\\end{equation}\n",
    "$x = (u - g) \\\\\n",
    "y = (g - r) \\\\\n",
    "(A - J) = (-13.13, 14.09, 28.04, -5.51, -5.90, -58.68, 9.14, -20.61, 0.0, 58.20)$"
   ]
  },
  {
   "cell_type": "code",
   "execution_count": 4,
   "metadata": {},
   "outputs": [],
   "source": [
    "df['x'] = df['u'] - df['g']\n",
    "df['y'] = df['g'] - df['r']\n",
    "\n",
    "coeff = (-13.13, 14.09, 28.04, -5.51, -5.90, -58.68, 9.14, -20.61, 0.0, 58.20)\n",
    "A, B, C, D, E, F, G, H, I, J = coeff\n",
    "\n",
    "metallicity = lambda x, y: A + B*x + C*y + D*x*y + E*x**2 + F*y**2 + G*x**2*y + H*x*y**2 + I*x**3 + J*y**3\n",
    "\n",
    "df['Fe/H'] = -0.6\n",
    "df.loc[(df['y'] < 0.6), 'Fe/H'] = metallicity(df.loc[(df['y'] < 0.6), 'x'], df.loc[(df['y'] < 0.6), 'y'])"
   ]
  },
  {
   "cell_type": "markdown",
   "metadata": {},
   "source": [
    "## Calculate Absolute Mag in r from Fe/H and g - r\n",
    "\n",
    "#### Fiducial Abs Mag in r $M^0_r$\n",
    "A7\n",
    "\\begin{equation}\n",
    "M^0_r (g - i) = -5.06 + 14.32x - 12.97x^2 + 6.127x^3 - 1.267x^4 + 0.0967x^5\n",
    "\\end{equation}\n",
    "\n",
    "#### Metalicity Correction $\\Delta M_r$\n",
    "A2\n",
    "\\begin{equation}\n",
    "\\Delta M_r([Fe/H]) = 4.50 - 1.11 [Fe/H] - 0.18[Fe/H]^2\n",
    "\\end{equation}\n",
    "\n",
    "#### Fitted Abs Mag in r $M_r$\n",
    "A3\n",
    "\\begin{equation}\n",
    "M_r(g - i, [Fe/H]) = M^0_r (g - i) + \\Delta M_r([Fe/H])\n",
    "\\end{equation}\n",
    "\n",
    "\n"
   ]
  },
  {
   "cell_type": "code",
   "execution_count": 6,
   "metadata": {},
   "outputs": [],
   "source": [
    "# A2\n",
    "df['DelMr'] = 4.50 - 1.11 * df['Fe/H'] - 0.18 * df['Fe/H'] ** 2\n",
    "\n",
    "# A7\n",
    "fiducial_M_r = lambda x: -5.06 + 14.32*x - 12.97*x**2 + 6.127*x**3 - 1.267*x**4 + 0.0967*x**5\n",
    "df['FidcMr'] = fiducial_M_r(df['g'] - df['i'])\n",
    "\n",
    "# A3\n",
    "df['Mr'] = df['FidcMr'] + df['DelMr']"
   ]
  },
  {
   "cell_type": "markdown",
   "metadata": {},
   "source": [
    "## Calculate Z, distance above galactic plane\n",
    "\n",
    "For distance from galactic plane Z\n",
    "\n",
    "We assume \n",
    "\n",
    "$Z = D$\n",
    "\n",
    "and \n",
    "\n",
    "$r - M_r = 5 * log(D/(10pc))$\n",
    "\n",
    "Solving for D:\n",
    "\n",
    "$D = 10^{0.2 * (r - M_r) + 1} pc$\n"
   ]
  },
  {
   "cell_type": "code",
   "execution_count": 7,
   "metadata": {},
   "outputs": [],
   "source": [
    "df['D'] = 10 ** ((df['r'] - df['Mr']) / 5) * 10  # pc"
   ]
  },
  {
   "cell_type": "markdown",
   "metadata": {},
   "source": [
    "## Problem 1\n",
    "For stars with $0.2 < g - r < 0.4$, plot $ln(\\rho)$ vs. $Z$ where $\\rho$ is the stellar number density in a given bin, Approximate \n",
    "\n",
    "$\\rho(Z) = N(Z) / V(Z)$\n",
    "\n",
    "where N is the number of stars in a given bin, V is the bin volume."
   ]
  },
  {
   "cell_type": "code",
   "execution_count": 13,
   "metadata": {},
   "outputs": [],
   "source": [
    "gr24 = df.loc[((df['g'] - df['r']) < 0.4) & ((df['g'] - df['r']) > 0.2)]"
   ]
  },
  {
   "cell_type": "code",
   "execution_count": 107,
   "metadata": {},
   "outputs": [],
   "source": [
    "sa = (314 * u.deg **2).to(u.sr).value\n",
    "dV = (np.arange(1, 25) **2 * sa * 1 + np.arange(0, 24) **2 * sa * 1) / 2\n"
   ]
  },
  {
   "cell_type": "code",
   "execution_count": 108,
   "metadata": {},
   "outputs": [
    {
     "data": {
      "text/plain": [
       "array([4.78249349e-02, 2.39124675e-01, 6.21724154e-01, 1.19562337e+00,\n",
       "       1.96082233e+00, 2.91732103e+00, 4.06511947e+00, 5.40421764e+00,\n",
       "       6.93461556e+00, 8.65631322e+00, 1.05693106e+01, 1.26736078e+01,\n",
       "       1.49692046e+01, 1.74561012e+01, 2.01342976e+01, 2.30037937e+01,\n",
       "       2.60645895e+01, 2.93166851e+01, 3.27600804e+01, 3.63947755e+01,\n",
       "       4.02207703e+01, 4.42380648e+01, 4.84466591e+01, 5.28465531e+01])"
      ]
     },
     "execution_count": 108,
     "metadata": {},
     "output_type": "execute_result"
    }
   ],
   "source": [
    "dV"
   ]
  },
  {
   "cell_type": "code",
   "execution_count": 88,
   "metadata": {},
   "outputs": [
    {
     "data": {
      "text/plain": [
       "array([ 0,  1,  2,  3,  4,  5,  6,  7,  8,  9, 10, 11, 12, 13, 14, 15, 16,\n",
       "       17, 18, 19, 20, 21, 22, 23])"
      ]
     },
     "execution_count": 88,
     "metadata": {},
     "output_type": "execute_result"
    }
   ],
   "source": [
    "np.arange(24)"
   ]
  },
  {
   "cell_type": "code",
   "execution_count": 89,
   "metadata": {},
   "outputs": [],
   "source": [
    "V = 1/3 * np.pi * sa * np.arange(2, 26)**3 - (1/3 * np.pi * sa * np.arange(1, 25)**3)"
   ]
  },
  {
   "cell_type": "code",
   "execution_count": 109,
   "metadata": {
    "scrolled": true
   },
   "outputs": [
    {
     "data": {
      "text/plain": [
       "array([14.66075195,  7.95869391,  5.96096508,  5.11031925,  4.6485311 ,\n",
       "        4.36045784,  4.16414635,  4.0219762 ,  3.91434855,  3.83007805,\n",
       "        3.76232613,  3.70668068,  3.66016947,  3.620718  ,  3.5868348 ,\n",
       "        3.55742036,  3.53164641,  3.50887724,  3.48861689,  3.47047272,\n",
       "        3.45412994,  3.43933316,  3.42587307,  3.4135765 ])"
      ]
     },
     "execution_count": 109,
     "metadata": {},
     "output_type": "execute_result"
    }
   ],
   "source": [
    "V/dV"
   ]
  },
  {
   "cell_type": "code",
   "execution_count": 171,
   "metadata": {},
   "outputs": [],
   "source": [
    "def get_vol_elements(n, bin_size, bin_start, solid_angle, method='avg', disp=False):\n",
    "    def puck_vol(distance, sa, thickness):\n",
    "        return sa * distance ** 2 * thickness\n",
    "    def cone_vol(distance, sa):\n",
    "        return 1/3 * np.pi * distance ** 2 * sa * distance\n",
    "    \n",
    "    lower_bound = np.arange(bin_start, round(bin_size * n + bin_start, 6), bin_size)\n",
    "    upper_bound = np.arange(bin_start + bin_size, round(bin_size * (n + 1) + bin_start, 6), bin_size)\n",
    "    lower_bound = np.round(lower_bound, 6)\n",
    "    upper_bound = np.round(upper_bound, 6)\n",
    "    \n",
    "    \n",
    "    if method == 'avg':\n",
    "        dVs =  0.5 * (puck_vol(lower_bound, solid_angle, bin_size) + \n",
    "                      puck_vol(upper_bound, solid_angle, bin_size))\n",
    "        \n",
    "    elif method == 'lower':\n",
    "        dVs = puck_vol(lower_bound, solid_angle, bin_size)\n",
    "            \n",
    "    elif method == 'upper':\n",
    "        dVs = puck_vol(upper_bound, solid_angle, bin_size)\n",
    "        \n",
    "    elif method = 'cone':\n",
    "        dVs = cone_vol(upper_bound) - cone_vol(lower_bound, solid_angle)\n",
    "    \n",
    "    if disp:\n",
    "        for ii in range(n):\n",
    "            print(f'from {lower_bound[ii]} to {upper_bound[ii]}:\\t {dVs[ii]}')\n",
    "    \n",
    "    \n"
   ]
  },
  {
   "cell_type": "code",
   "execution_count": 174,
   "metadata": {
    "scrolled": true
   },
   "outputs": [
    {
     "name": "stdout",
     "output_type": "stream",
     "text": [
      "from 0.8 to 1.2:\t 0.03979034584221902\n",
      "from 1.2 to 1.6:\t 0.07651989585042121\n",
      "from 1.6 to 2.0:\t 0.12549262919469079\n",
      "from 2.0 to 2.4:\t 0.18670854587502772\n",
      "from 2.4 to 2.8:\t 0.26016764589143204\n",
      "from 2.8 to 3.2:\t 0.3458699292439038\n",
      "from 3.2 to 3.6:\t 0.443815395932443\n",
      "from 3.6 to 4.0:\t 0.5540040459570494\n",
      "from 4.0 to 4.4:\t 0.6764358793177234\n",
      "from 4.4 to 4.8:\t 0.8111108960144648\n",
      "from 4.8 to 5.2:\t 0.9580290960472735\n",
      "from 5.2 to 5.6:\t 1.1171904794161494\n",
      "from 5.6 to 6.0:\t 1.2885950461210929\n",
      "from 6.0 to 6.4:\t 1.4722427961621039\n",
      "from 6.4 to 6.8:\t 1.668133729539182\n",
      "from 6.8 to 7.2:\t 1.8762678462523277\n",
      "from 7.2 to 7.6:\t 2.0966451463015408\n",
      "from 7.6 to 8.0:\t 2.3292656296868213\n",
      "from 8.0 to 8.4:\t 2.5741292964081692\n",
      "from 8.4 to 8.8:\t 2.831236146465585\n",
      "from 8.8 to 9.2:\t 3.100586179859067\n",
      "from 9.2 to 9.6:\t 3.382179396588617\n",
      "from 9.6 to 10.0:\t 3.6760157966542346\n",
      "from 10.0 to 10.4:\t 3.9820953800559193\n",
      "from 10.4 to 10.8:\t 4.300418146793672\n",
      "from 10.8 to 11.2:\t 4.630984096867492\n",
      "from 11.2 to 11.6:\t 4.973793230277378\n",
      "from 11.6 to 12.0:\t 5.328845547023333\n",
      "from 12.0 to 12.4:\t 5.696141047105354\n",
      "from 12.4 to 12.8:\t 6.075679730523444\n",
      "from 12.8 to 13.2:\t 6.4674615972776\n",
      "from 13.2 to 13.6:\t 6.871486647367822\n",
      "from 13.6 to 14.0:\t 7.287754880794115\n",
      "from 14.0 to 14.4:\t 7.716266297556473\n",
      "from 14.4 to 14.8:\t 8.1570208976549\n",
      "from 14.8 to 15.2:\t 8.610018681089393\n",
      "from 15.2 to 15.6:\t 9.075259647859953\n",
      "from 15.6 to 16.0:\t 9.552743797966581\n",
      "from 16.0 to 16.4:\t 10.042471131409277\n",
      "from 16.4 to 16.8:\t 10.544441648188041\n"
     ]
    }
   ],
   "source": [
    "get_vol_elements(40, 0.4, 0.8, sa, 'avg', disp=True)"
   ]
  },
  {
   "cell_type": "code",
   "execution_count": 110,
   "metadata": {},
   "outputs": [
    {
     "data": {
      "text/plain": [
       "11.999999999999998"
      ]
     },
     "execution_count": 110,
     "metadata": {},
     "output_type": "execute_result"
    }
   ],
   "source": [
    "np.clip(4.8/.4"
   ]
  },
  {
   "cell_type": "code",
   "execution_count": 91,
   "metadata": {
    "scrolled": true
   },
   "outputs": [
    {
     "data": {
      "text/plain": [
       "<matplotlib.collections.PathCollection at 0x18914d8af10>"
      ]
     },
     "execution_count": 91,
     "metadata": {},
     "output_type": "execute_result"
    },
    {
     "data": {
      "image/png": "[encoded data removed]",
      "text/plain": [
       "<Figure size 432x288 with 1 Axes>"
      ]
     },
     "metadata": {
      "needs_background": "light"
     },
     "output_type": "display_data"
    }
   ],
   "source": [
    "plt.scatter(V, dV)"
   ]
  },
  {
   "cell_type": "code",
   "execution_count": 85,
   "metadata": {},
   "outputs": [
    {
     "data": {
      "text/plain": [
       "array([1.00164215e-01, 7.01149507e-01, 1.90312009e+00, 3.70607597e+00,\n",
       "       6.11001714e+00, 9.11494360e+00, 1.27208553e+01, 1.69277524e+01,\n",
       "       2.17356347e+01, 2.71445024e+01, 3.31543553e+01, 3.97651935e+01,\n",
       "       4.69770170e+01, 5.47898258e+01, 6.32036199e+01, 7.22183993e+01,\n",
       "       8.18341639e+01, 9.20509139e+01, 1.02868649e+02, 1.14287370e+02,\n",
       "       1.26307076e+02, 1.38927767e+02, 1.52149443e+02, 1.65972105e+02])"
      ]
     },
     "execution_count": 85,
     "metadata": {},
     "output_type": "execute_result"
    }
   ],
   "source": [
    "V"
   ]
  },
  {
   "cell_type": "code",
   "execution_count": 84,
   "metadata": {},
   "outputs": [
    {
     "data": {
      "text/plain": [
       "2590"
      ]
     },
     "execution_count": 84,
     "metadata": {},
     "output_type": "execute_result"
    }
   ],
   "source": [
    "sum((gr24['D(kpc)'] < 5.2) & (gr24['D(kpc)'] > 4.8)) "
   ]
  },
  {
   "cell_type": "code",
   "execution_count": 18,
   "metadata": {
    "scrolled": true
   },
   "outputs": [
    {
     "data": {
      "text/plain": [
       "array([ 0.09564978,  0.38259912,  0.86084802,  1.53039648,  2.3912445 ,\n",
       "        3.44339208,  4.68683922,  6.12158592,  7.74763218,  9.564978  ,\n",
       "       11.57362338, 13.77356832, 16.16481281, 18.74735687, 21.52120049,\n",
       "       24.48634367, 27.64278641, 30.99052871, 34.52957057, 38.25991199,\n",
       "       42.18155296, 46.2944935 , 50.5987336 , 55.09427326, 59.78111248])"
      ]
     },
     "execution_count": 18,
     "metadata": {},
     "output_type": "execute_result"
    }
   ],
   "source": [
    "gr24 # kpc ^ 3"
   ]
  },
  {
   "cell_type": "code",
   "execution_count": 40,
   "metadata": {},
   "outputs": [
    {
     "data": {
      "text/plain": [
       "(array([7952., 8015., 6797., 6608., 6715., 7039., 7278., 7498., 7137.,\n",
       "        6649., 5885., 5041., 4354., 3451., 2846., 2295., 1986., 1581.,\n",
       "        1275., 1037.,  808.,  728.,  570.,  479.]),\n",
       " array([ 1,  2,  3,  4,  5,  6,  7,  8,  9, 10, 11, 12, 13, 14, 15, 16, 17,\n",
       "        18, 19, 20, 21, 22, 23, 24, 25]),\n",
       " <a list of 24 Patch objects>)"
      ]
     },
     "execution_count": 40,
     "metadata": {},
     "output_type": "execute_result"
    },
    {
     "data": {
      "image/png": "[encoded data removed]",
      "text/plain": [
       "<Figure size 432x288 with 1 Axes>"
      ]
     },
     "metadata": {
      "needs_background": "light"
     },
     "output_type": "display_data"
    }
   ],
   "source": [
    "plt.hist(gr24['D(kpc)'], bins=np.arange(1,26))"
   ]
  },
  {
   "cell_type": "code",
   "execution_count": 38,
   "metadata": {},
   "outputs": [
    {
     "data": {
      "image/png": "[encoded data removed]",
      "text/plain": [
       "<Figure size 432x288 with 1 Axes>"
      ]
     },
     "metadata": {
      "needs_background": "light"
     },
     "output_type": "display_data"
    }
   ],
   "source": [
    "n, b, p = plt.hist(gr24['D(kpc)'], bins=np.arange(1,26))"
   ]
  },
  {
   "cell_type": "code",
   "execution_count": 95,
   "metadata": {},
   "outputs": [
    {
     "data": {
      "text/plain": [
       "array([9.33621289, 8.34557537, 7.51426299, 6.98610674, 6.60218389,\n",
       "       6.31597859, 6.06365695, 5.84343853, 5.57187326, 5.30104766,\n",
       "       4.99717003, 4.67570127, 4.37534573, 4.00005775, 3.67397493,\n",
       "       3.33379331, 3.07153601, 2.73235991, 2.41198539, 2.10537116,\n",
       "       1.76060792, 1.56543783, 1.23381663, 0.97654754])"
      ]
     },
     "execution_count": 95,
     "metadata": {},
     "output_type": "execute_result"
    }
   ],
   "source": [
    "np.log(n/V)"
   ]
  },
  {
   "cell_type": "code",
   "execution_count": 94,
   "metadata": {},
   "outputs": [
    {
     "data": {
      "text/plain": [
       "Text(0, 0.5, '$ln(\\\\rho/\\\\rho_0)$')"
      ]
     },
     "execution_count": 94,
     "metadata": {},
     "output_type": "execute_result"
    },
    {
     "data": {
      "image/png": "[encoded data removed]",
      "text/plain": [
       "<Figure size 432x288 with 1 Axes>"
      ]
     },
     "metadata": {
      "needs_background": "light"
     },
     "output_type": "display_data"
    }
   ],
   "source": [
    "plt.step(np.arange(1,25), np.log(n/V))\n",
    "plt.xlabel('Distance (kpc)')\n",
    "plt.ylabel(r'$ln(\\rho/\\rho_0)$')"
   ]
  },
  {
   "cell_type": "code",
   "execution_count": 78,
   "metadata": {},
   "outputs": [
    {
     "data": {
      "text/plain": [
       "Text(0, 0.5, '$ln(\\\\rho/\\\\rho_0)$')"
      ]
     },
     "execution_count": 78,
     "metadata": {},
     "output_type": "execute_result"
    },
    {
     "data": {
      "image/png": "[encoded data removed]",
      "text/plain": [
       "<Figure size 432x288 with 1 Axes>"
      ]
     },
     "metadata": {
      "needs_background": "light"
     },
     "output_type": "display_data"
    }
   ],
   "source": [
    "dens = np.log(n/V)\n",
    "plt.plot(np.arange(1,25), dens/max(dens))\n",
    "plt.xlabel('Distance (kpc)')\n",
    "plt.ylabel(r'$ln(\\rho/\\rho_0)$')"
   ]
  },
  {
   "cell_type": "markdown",
   "metadata": {
    "scrolled": true
   },
   "source": [
    "#### len(dV)"
   ]
  },
  {
   "cell_type": "code",
   "execution_count": 25,
   "metadata": {},
   "outputs": [
    {
     "data": {
      "text/plain": [
       "0.09564977996530628"
      ]
     },
     "execution_count": 25,
     "metadata": {},
     "output_type": "execute_result"
    }
   ],
   "source": [
    "sa"
   ]
  },
  {
   "cell_type": "code",
   "execution_count": 24,
   "metadata": {},
   "outputs": [
    {
     "name": "stderr",
     "output_type": "stream",
     "text": [
      "<ipython-input-24-bf1b8f757584>:1: SettingWithCopyWarning: \n",
      "A value is trying to be set on a copy of a slice from a DataFrame.\n",
      "Try using .loc[row_indexer,col_indexer] = value instead\n",
      "\n",
      "See the caveats in the documentation: https://pandas.pydata.org/pandas-docs/stable/user_guide/indexing.html#returning-a-view-versus-a-copy\n",
      "  gr24['D(kpc)'] = gr24['D'] / 1000\n"
     ]
    }
   ],
   "source": [
    "gr24['D(kpc)'] = gr24['D'] / 1000"
   ]
  },
  {
   "cell_type": "code",
   "execution_count": null,
   "metadata": {},
   "outputs": [],
   "source": []
  },
  {
   "cell_type": "code",
   "execution_count": null,
   "metadata": {},
   "outputs": [],
   "source": [
    "gr24['bin'] = gr24."
   ]
  },
  {
   "cell_type": "code",
   "execution_count": 28,
   "metadata": {},
   "outputs": [],
   "source": [
    "test = np.array([])"
   ]
  },
  {
   "cell_type": "code",
   "execution_count": 18,
   "metadata": {},
   "outputs": [
    {
     "data": {
      "text/plain": [
       "array([[ 1.8161220e+02,  2.7572600e+01,  5.0870000e+03, ...,\n",
       "         5.1600000e+00, -1.4500000e+00,  2.7200000e+00],\n",
       "       [ 1.8161303e+02,  2.7607700e+01,  5.0870000e+03, ...,\n",
       "         5.4800000e+00,  4.7300000e+00,  3.1600000e+00],\n",
       "       [ 1.8161416e+02,  2.7359560e+01,  5.1120000e+03, ...,\n",
       "         3.1400000e+00,  7.9200000e+00,  2.7900000e+00],\n",
       "       ...,\n",
       "       [ 2.0409455e+02,  2.7858230e+01,  4.6490000e+03, ...,\n",
       "         9.9999000e+02,  9.9999000e+02,  9.9999000e+02],\n",
       "       [ 2.0409851e+02,  2.8014000e+01,  4.6460000e+03, ...,\n",
       "         9.9999000e+02,  9.9999000e+02,  9.9999000e+02],\n",
       "       [ 2.0410122e+02,  2.7556730e+01,  4.6460000e+03, ...,\n",
       "         9.9999000e+02,  9.9999000e+02,  9.9999000e+02]])"
      ]
     },
     "execution_count": 18,
     "metadata": {},
     "output_type": "execute_result"
    }
   ],
   "source": [
    "np.loadtxt('../Astr511HW1data.dat')"
   ]
  },
  {
   "cell_type": "code",
   "execution_count": 32,
   "metadata": {},
   "outputs": [],
   "source": [
    "from astropy.table import Table"
   ]
  },
  {
   "cell_type": "code",
   "execution_count": 37,
   "metadata": {},
   "outputs": [],
   "source": [
    "data = Table.read('../Astr511HW1data.dat', format='ascii')"
   ]
  },
  {
   "cell_type": "code",
   "execution_count": 36,
   "metadata": {},
   "outputs": [
    {
     "data": {
      "text/plain": [
       "<_io.TextIOWrapper name='../Astr511HW1data.dat' mode='r' encoding='cp1252'>"
      ]
     },
     "execution_count": 36,
     "metadata": {},
     "output_type": "execute_result"
    }
   ],
   "source": [
    "data"
   ]
  },
  {
   "cell_type": "code",
   "execution_count": 29,
   "metadata": {},
   "outputs": [
    {
     "data": {
      "text/latex": [
       "$0.09564987 \\; \\mathrm{sr}$"
      ],
      "text/plain": [
       "<Quantity 0.09564987 sr>"
      ]
     },
     "execution_count": 29,
     "metadata": {},
     "output_type": "execute_result"
    }
   ],
   "source": [
    "(314 * u.deg ** 2).to(u.sr)"
   ]
  },
  {
   "cell_type": "code",
   "execution_count": null,
   "metadata": {},
   "outputs": [],
   "source": []
  }
 ],
 "metadata": {
  "kernelspec": {
   "display_name": "Python 3",
   "language": "python",
   "name": "python3"
  },
  "language_info": {
   "codemirror_mode": {
    "name": "ipython",
    "version": 3
   },
   "file_extension": ".py",
   "mimetype": "text/x-python",
   "name": "python",
   "nbconvert_exporter": "python",
   "pygments_lexer": "ipython3",
   "version": "3.8.3"
  }
 },
 "nbformat": 4,
 "nbformat_minor": 4
}
