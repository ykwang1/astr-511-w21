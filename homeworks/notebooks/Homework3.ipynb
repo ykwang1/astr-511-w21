{
 "cells": [
  {
   "cell_type": "code",
   "execution_count": 1,
   "metadata": {},
   "outputs": [],
   "source": [
    "%matplotlib inline\n",
    "import matplotlib.pyplot as plt\n",
    "plt.rc('image', origin='lower')\n",
    "plt.rc('figure', figsize=(10, 6))\n",
    "font = {'family' : 'normal',\n",
    "        'size'   : 20}\n",
    "\n",
    "plt.rc('font', **font)"
   ]
  },
  {
   "cell_type": "code",
   "execution_count": 2,
   "metadata": {},
   "outputs": [],
   "source": [
    "import pandas as pd\n",
    "import numpy as np\n",
    "import astropy.units as u"
   ]
  },
  {
   "cell_type": "markdown",
   "metadata": {},
   "source": [
    "## Read in files and fix formatting"
   ]
  },
  {
   "cell_type": "code",
   "execution_count": 3,
   "metadata": {},
   "outputs": [],
   "source": [
    "def file2df(file):\n",
    "    with open(file, 'r') as ff:\n",
    "        line = ff.readline()\n",
    "        cols = line.strip('#').split()\n",
    "    return pd.read_csv(file, comment='#', delim_whitespace=True, names=cols)\n",
    "\n",
    "\n",
    "obs = file2df('../LSSTsimWDobs60.dat')\n",
    "truth = file2df('../LSSTsimWDtruth60.dat')\n",
    "\n",
    "obs.reset_index(inplace=True)\n",
    "obs.columns = ['ra', 'dec', 'uObs', 'uErr', 'gObs', 'gErr', 'rObs', 'rErr', 'iObs', 'iErr', 'zObs', 'zErr', 'yObs', 'yErr', 'piObs', 'piErr', 'muRAObs', 'muDecObs', 'muErr']"
   ]
  },
  {
   "cell_type": "code",
   "execution_count": 4,
   "metadata": {
    "scrolled": true
   },
   "outputs": [
    {
     "data": {
      "text/html": [
       "<div>\n",
       "<style scoped>\n",
       "    .dataframe tbody tr th:only-of-type {\n",
       "        vertical-align: middle;\n",
       "    }\n",
       "\n",
       "    .dataframe tbody tr th {\n",
       "        vertical-align: top;\n",
       "    }\n",
       "\n",
       "    .dataframe thead th {\n",
       "        text-align: right;\n",
       "    }\n",
       "</style>\n",
       "<table border=\"1\" class=\"dataframe\">\n",
       "  <thead>\n",
       "    <tr style=\"text-align: right;\">\n",
       "      <th></th>\n",
       "      <th>ra</th>\n",
       "      <th>dec</th>\n",
       "      <th>uObs</th>\n",
       "      <th>uErr</th>\n",
       "      <th>gObs</th>\n",
       "      <th>gErr</th>\n",
       "      <th>rObs</th>\n",
       "      <th>rErr</th>\n",
       "      <th>iObs</th>\n",
       "      <th>iErr</th>\n",
       "      <th>zObs</th>\n",
       "      <th>zErr</th>\n",
       "      <th>yObs</th>\n",
       "      <th>yErr</th>\n",
       "      <th>piObs</th>\n",
       "      <th>piErr</th>\n",
       "      <th>muRAObs</th>\n",
       "      <th>muDecObs</th>\n",
       "      <th>muErr</th>\n",
       "    </tr>\n",
       "  </thead>\n",
       "  <tbody>\n",
       "    <tr>\n",
       "      <th>0</th>\n",
       "      <td>183.487</td>\n",
       "      <td>-1.36738</td>\n",
       "      <td>22.462</td>\n",
       "      <td>0.009</td>\n",
       "      <td>22.274</td>\n",
       "      <td>0.005</td>\n",
       "      <td>22.572</td>\n",
       "      <td>0.005</td>\n",
       "      <td>22.842</td>\n",
       "      <td>0.007</td>\n",
       "      <td>23.127</td>\n",
       "      <td>0.013</td>\n",
       "      <td>23.408</td>\n",
       "      <td>0.048</td>\n",
       "      <td>1.02</td>\n",
       "      <td>0.91</td>\n",
       "      <td>-1.60</td>\n",
       "      <td>-6.76</td>\n",
       "      <td>0.32</td>\n",
       "    </tr>\n",
       "    <tr>\n",
       "      <th>1</th>\n",
       "      <td>183.261</td>\n",
       "      <td>-1.25781</td>\n",
       "      <td>25.574</td>\n",
       "      <td>0.106</td>\n",
       "      <td>25.173</td>\n",
       "      <td>0.024</td>\n",
       "      <td>25.251</td>\n",
       "      <td>0.022</td>\n",
       "      <td>25.338</td>\n",
       "      <td>0.046</td>\n",
       "      <td>25.570</td>\n",
       "      <td>0.112</td>\n",
       "      <td>25.723</td>\n",
       "      <td>0.400</td>\n",
       "      <td>1.17</td>\n",
       "      <td>8.95</td>\n",
       "      <td>-3.19</td>\n",
       "      <td>-9.73</td>\n",
       "      <td>3.09</td>\n",
       "    </tr>\n",
       "    <tr>\n",
       "      <th>2</th>\n",
       "      <td>183.038</td>\n",
       "      <td>-1.32316</td>\n",
       "      <td>24.688</td>\n",
       "      <td>0.050</td>\n",
       "      <td>24.341</td>\n",
       "      <td>0.012</td>\n",
       "      <td>24.302</td>\n",
       "      <td>0.010</td>\n",
       "      <td>24.356</td>\n",
       "      <td>0.019</td>\n",
       "      <td>24.442</td>\n",
       "      <td>0.042</td>\n",
       "      <td>24.845</td>\n",
       "      <td>0.140</td>\n",
       "      <td>2.90</td>\n",
       "      <td>3.84</td>\n",
       "      <td>1.84</td>\n",
       "      <td>0.17</td>\n",
       "      <td>1.32</td>\n",
       "    </tr>\n",
       "    <tr>\n",
       "      <th>3</th>\n",
       "      <td>183.127</td>\n",
       "      <td>-1.13602</td>\n",
       "      <td>23.267</td>\n",
       "      <td>0.015</td>\n",
       "      <td>22.912</td>\n",
       "      <td>0.006</td>\n",
       "      <td>22.835</td>\n",
       "      <td>0.006</td>\n",
       "      <td>22.867</td>\n",
       "      <td>0.007</td>\n",
       "      <td>22.966</td>\n",
       "      <td>0.012</td>\n",
       "      <td>23.066</td>\n",
       "      <td>0.035</td>\n",
       "      <td>0.24</td>\n",
       "      <td>1.11</td>\n",
       "      <td>-12.58</td>\n",
       "      <td>3.17</td>\n",
       "      <td>0.38</td>\n",
       "    </tr>\n",
       "    <tr>\n",
       "      <th>4</th>\n",
       "      <td>183.339</td>\n",
       "      <td>-1.39733</td>\n",
       "      <td>23.504</td>\n",
       "      <td>0.018</td>\n",
       "      <td>23.093</td>\n",
       "      <td>0.006</td>\n",
       "      <td>22.963</td>\n",
       "      <td>0.006</td>\n",
       "      <td>22.957</td>\n",
       "      <td>0.007</td>\n",
       "      <td>23.034</td>\n",
       "      <td>0.012</td>\n",
       "      <td>23.088</td>\n",
       "      <td>0.036</td>\n",
       "      <td>-0.23</td>\n",
       "      <td>1.22</td>\n",
       "      <td>-8.69</td>\n",
       "      <td>-10.08</td>\n",
       "      <td>0.42</td>\n",
       "    </tr>\n",
       "  </tbody>\n",
       "</table>\n",
       "</div>"
      ],
      "text/plain": [
       "        ra      dec    uObs   uErr    gObs   gErr    rObs   rErr    iObs  \\\n",
       "0  183.487 -1.36738  22.462  0.009  22.274  0.005  22.572  0.005  22.842   \n",
       "1  183.261 -1.25781  25.574  0.106  25.173  0.024  25.251  0.022  25.338   \n",
       "2  183.038 -1.32316  24.688  0.050  24.341  0.012  24.302  0.010  24.356   \n",
       "3  183.127 -1.13602  23.267  0.015  22.912  0.006  22.835  0.006  22.867   \n",
       "4  183.339 -1.39733  23.504  0.018  23.093  0.006  22.963  0.006  22.957   \n",
       "\n",
       "    iErr    zObs   zErr    yObs   yErr  piObs  piErr  muRAObs  muDecObs  muErr  \n",
       "0  0.007  23.127  0.013  23.408  0.048   1.02   0.91    -1.60     -6.76   0.32  \n",
       "1  0.046  25.570  0.112  25.723  0.400   1.17   8.95    -3.19     -9.73   3.09  \n",
       "2  0.019  24.442  0.042  24.845  0.140   2.90   3.84     1.84      0.17   1.32  \n",
       "3  0.007  22.966  0.012  23.066  0.035   0.24   1.11   -12.58      3.17   0.38  \n",
       "4  0.007  23.034  0.012  23.088  0.036  -0.23   1.22    -8.69    -10.08   0.42  "
      ]
     },
     "execution_count": 4,
     "metadata": {},
     "output_type": "execute_result"
    }
   ],
   "source": [
    "obs.head()"
   ]
  },
  {
   "cell_type": "code",
   "execution_count": 5,
   "metadata": {},
   "outputs": [
    {
     "data": {
      "text/html": [
       "<div>\n",
       "<style scoped>\n",
       "    .dataframe tbody tr th:only-of-type {\n",
       "        vertical-align: middle;\n",
       "    }\n",
       "\n",
       "    .dataframe tbody tr th {\n",
       "        vertical-align: top;\n",
       "    }\n",
       "\n",
       "    .dataframe thead th {\n",
       "        text-align: right;\n",
       "    }\n",
       "</style>\n",
       "<table border=\"1\" class=\"dataframe\">\n",
       "  <thead>\n",
       "    <tr style=\"text-align: right;\">\n",
       "      <th></th>\n",
       "      <th>ra</th>\n",
       "      <th>dec</th>\n",
       "      <th>u</th>\n",
       "      <th>g</th>\n",
       "      <th>r</th>\n",
       "      <th>i</th>\n",
       "      <th>z</th>\n",
       "      <th>y</th>\n",
       "      <th>Mr</th>\n",
       "      <th>logg</th>\n",
       "      <th>vR</th>\n",
       "      <th>vPhi</th>\n",
       "      <th>vZ</th>\n",
       "      <th>T</th>\n",
       "      <th>P</th>\n",
       "    </tr>\n",
       "  </thead>\n",
       "  <tbody>\n",
       "    <tr>\n",
       "      <th>0</th>\n",
       "      <td>183.487</td>\n",
       "      <td>-1.36738</td>\n",
       "      <td>22.454</td>\n",
       "      <td>22.269</td>\n",
       "      <td>22.566</td>\n",
       "      <td>22.846</td>\n",
       "      <td>23.133</td>\n",
       "      <td>23.420</td>\n",
       "      <td>11.338</td>\n",
       "      <td>8.0</td>\n",
       "      <td>-50.89</td>\n",
       "      <td>-134.57</td>\n",
       "      <td>40.51</td>\n",
       "      <td>1</td>\n",
       "      <td>1</td>\n",
       "    </tr>\n",
       "    <tr>\n",
       "      <th>1</th>\n",
       "      <td>183.261</td>\n",
       "      <td>-1.25781</td>\n",
       "      <td>25.549</td>\n",
       "      <td>25.183</td>\n",
       "      <td>25.235</td>\n",
       "      <td>25.364</td>\n",
       "      <td>25.546</td>\n",
       "      <td>25.729</td>\n",
       "      <td>12.346</td>\n",
       "      <td>8.0</td>\n",
       "      <td>-51.56</td>\n",
       "      <td>-53.51</td>\n",
       "      <td>-3.59</td>\n",
       "      <td>1</td>\n",
       "      <td>1</td>\n",
       "    </tr>\n",
       "    <tr>\n",
       "      <th>2</th>\n",
       "      <td>183.038</td>\n",
       "      <td>-1.32316</td>\n",
       "      <td>24.718</td>\n",
       "      <td>24.354</td>\n",
       "      <td>24.301</td>\n",
       "      <td>24.356</td>\n",
       "      <td>24.471</td>\n",
       "      <td>24.587</td>\n",
       "      <td>12.867</td>\n",
       "      <td>8.0</td>\n",
       "      <td>-47.11</td>\n",
       "      <td>-170.19</td>\n",
       "      <td>94.17</td>\n",
       "      <td>1</td>\n",
       "      <td>1</td>\n",
       "    </tr>\n",
       "    <tr>\n",
       "      <th>3</th>\n",
       "      <td>183.127</td>\n",
       "      <td>-1.13602</td>\n",
       "      <td>23.288</td>\n",
       "      <td>22.913</td>\n",
       "      <td>22.834</td>\n",
       "      <td>22.871</td>\n",
       "      <td>22.972</td>\n",
       "      <td>23.073</td>\n",
       "      <td>12.989</td>\n",
       "      <td>8.0</td>\n",
       "      <td>29.71</td>\n",
       "      <td>-196.22</td>\n",
       "      <td>33.81</td>\n",
       "      <td>1</td>\n",
       "      <td>1</td>\n",
       "    </tr>\n",
       "    <tr>\n",
       "      <th>4</th>\n",
       "      <td>183.339</td>\n",
       "      <td>-1.39733</td>\n",
       "      <td>23.517</td>\n",
       "      <td>23.099</td>\n",
       "      <td>22.959</td>\n",
       "      <td>22.960</td>\n",
       "      <td>23.030</td>\n",
       "      <td>23.100</td>\n",
       "      <td>13.249</td>\n",
       "      <td>8.0</td>\n",
       "      <td>-4.74</td>\n",
       "      <td>-187.17</td>\n",
       "      <td>-37.27</td>\n",
       "      <td>1</td>\n",
       "      <td>1</td>\n",
       "    </tr>\n",
       "  </tbody>\n",
       "</table>\n",
       "</div>"
      ],
      "text/plain": [
       "        ra      dec       u       g       r       i       z       y      Mr  \\\n",
       "0  183.487 -1.36738  22.454  22.269  22.566  22.846  23.133  23.420  11.338   \n",
       "1  183.261 -1.25781  25.549  25.183  25.235  25.364  25.546  25.729  12.346   \n",
       "2  183.038 -1.32316  24.718  24.354  24.301  24.356  24.471  24.587  12.867   \n",
       "3  183.127 -1.13602  23.288  22.913  22.834  22.871  22.972  23.073  12.989   \n",
       "4  183.339 -1.39733  23.517  23.099  22.959  22.960  23.030  23.100  13.249   \n",
       "\n",
       "   logg     vR    vPhi     vZ  T  P  \n",
       "0   8.0 -50.89 -134.57  40.51  1  1  \n",
       "1   8.0 -51.56  -53.51  -3.59  1  1  \n",
       "2   8.0 -47.11 -170.19  94.17  1  1  \n",
       "3   8.0  29.71 -196.22  33.81  1  1  \n",
       "4   8.0  -4.74 -187.17 -37.27  1  1  "
      ]
     },
     "execution_count": 5,
     "metadata": {},
     "output_type": "execute_result"
    }
   ],
   "source": [
    "truth.head()"
   ]
  },
  {
   "cell_type": "markdown",
   "metadata": {},
   "source": [
    "# Problem A\n",
    "\n",
    "## Define \"Gold Sample\" and Find Distance\n",
    "Define a gold parallax sample\" by requiring a signal-to-noise ratio of at least 10 for the trigonometric parallax measurement (i.e., piObs/piErr > 10). \n",
    "\n",
    "Compute the distance and distance modulus from the parallax measurement (D/kpc=1 milliarcsec/piObs) and compare it to the distance modulus determined from r and Mr listed in the \\truth\" file. "
   ]
  },
  {
   "cell_type": "code",
   "execution_count": 6,
   "metadata": {},
   "outputs": [
    {
     "name": "stderr",
     "output_type": "stream",
     "text": [
      "<ipython-input-6-db5136659f55>:7: SettingWithCopyWarning: \n",
      "A value is trying to be set on a copy of a slice from a DataFrame.\n",
      "Try using .loc[row_indexer,col_indexer] = value instead\n",
      "\n",
      "See the caveats in the documentation: https://pandas.pydata.org/pandas-docs/stable/user_guide/indexing.html#returning-a-view-versus-a-copy\n",
      "  obs_gold['D(kpc)'] = 1 / obs_gold['piObs']\n",
      "<ipython-input-6-db5136659f55>:8: SettingWithCopyWarning: \n",
      "A value is trying to be set on a copy of a slice from a DataFrame.\n",
      "Try using .loc[row_indexer,col_indexer] = value instead\n",
      "\n",
      "See the caveats in the documentation: https://pandas.pydata.org/pandas-docs/stable/user_guide/indexing.html#returning-a-view-versus-a-copy\n",
      "  obs_gold['DM'] = 5 * np.log10(obs_gold['D(kpc)'] * 1000) - 5\n"
     ]
    }
   ],
   "source": [
    "# Calculate SNR and define a new dataframe with only gold sample WDs\n",
    "obs['SNR'] = obs['piObs'] / obs['piErr']\n",
    "gold_mask = np.abs(obs['SNR']) > 10\n",
    "obs_gold = obs[gold_mask]\n",
    "\n",
    "# Calculate the DM of these WDs\n",
    "obs_gold['D(kpc)'] = 1 / obs_gold['piObs']\n",
    "obs_gold['DM'] = 5 * np.log10(obs_gold['D(kpc)'] * 1000) - 5\n",
    "\n",
    "# Calculate the truth DM values\n",
    "truth['DM'] = truth['r'] - truth['Mr']\n",
    "\n",
    "# Select the rows corresponding to the gold sample\n",
    "truth_gold = truth[gold_mask]"
   ]
  },
  {
   "cell_type": "markdown",
   "metadata": {},
   "source": [
    "### Compare observed and truth distances"
   ]
  },
  {
   "cell_type": "code",
   "execution_count": 8,
   "metadata": {},
   "outputs": [
    {
     "data": {
      "text/plain": [
       "<matplotlib.collections.PathCollection at 0x13780f615b0>"
      ]
     },
     "execution_count": 8,
     "metadata": {},
     "output_type": "execute_result"
    },
    {
     "name": "stderr",
     "output_type": "stream",
     "text": [
      "findfont: Font family ['normal'] not found. Falling back to DejaVu Sans.\n"
     ]
    },
    {
     "data": {
      "image/png": "[encoded data removed]",
      "text/plain": [
       "<Figure size 720x432 with 1 Axes>"
      ]
     },
     "metadata": {
      "needs_background": "light"
     },
     "output_type": "display_data"
    }
   ],
   "source": [
    "# Plot obs DM vs truth DM for gold sample\n",
    "plt.scatter(obs_gold['DM'], truth_gold['DM'])\n"
   ]
  },
  {
   "cell_type": "code",
   "execution_count": 571,
   "metadata": {},
   "outputs": [
    {
     "data": {
      "text/plain": [
       "7156"
      ]
     },
     "execution_count": 571,
     "metadata": {},
     "output_type": "execute_result"
    }
   ],
   "source": [
    "# spot check on # in gold sample:\n",
    "len(obs_gold)"
   ]
  },
  {
   "cell_type": "markdown",
   "metadata": {},
   "source": [
    "## Examine distribution of distance modulus"
   ]
  },
  {
   "cell_type": "markdown",
   "metadata": {},
   "source": [
    "Plot the distribution of the distance modulus difference and compute its median and root-mean-square scatter (hint: beware of outliers and clip at 3sig!). \n",
    "- Are they interestingly\" small? Is the distribution deviating from a gaussian? \n",
    "- Would you expect it to? Why?"
   ]
  },
  {
   "cell_type": "code",
   "execution_count": 9,
   "metadata": {},
   "outputs": [],
   "source": [
    "diffs_gold = obs_gold['DM'] - truth_gold['DM']"
   ]
  },
  {
   "cell_type": "code",
   "execution_count": 10,
   "metadata": {},
   "outputs": [],
   "source": [
    "mean =diffs_gold.mean()\n",
    "mean"
   ]
  },
  {
   "cell_type": "code",
   "execution_count": 11,
   "metadata": {},
   "outputs": [
    {
     "data": {
      "text/plain": [
       "-0.023409482528964354"
      ]
     },
     "execution_count": 11,
     "metadata": {},
     "output_type": "execute_result"
    }
   ],
   "source": [
    "med = diffs_gold.median()\n",
    "med"
   ]
  },
  {
   "cell_type": "code",
   "execution_count": 12,
   "metadata": {},
   "outputs": [
    {
     "data": {
      "text/plain": [
       "0.1577687249231165"
      ]
     },
     "execution_count": 12,
     "metadata": {},
     "output_type": "execute_result"
    }
   ],
   "source": [
    "rms = diffs_gold.std(ddof=0)\n",
    "rms"
   ]
  },
  {
   "cell_type": "code",
   "execution_count": 13,
   "metadata": {},
   "outputs": [
    {
     "data": {
      "text/plain": [
       "[<matplotlib.lines.Line2D at 0x13781e862b0>]"
      ]
     },
     "execution_count": 13,
     "metadata": {},
     "output_type": "execute_result"
    },
    {
     "data": {
      "image/png": "[encoded data removed]",
      "text/plain": [
       "<Figure size 720x432 with 1 Axes>"
      ]
     },
     "metadata": {
      "needs_background": "light"
     },
     "output_type": "display_data"
    }
   ],
   "source": [
    "from scipy.stats import norm\n",
    "plt.hist(diffs_gold, bins=50, density=True)\n",
    "plt.plot(np.linspace(-.8, .6, 100), norm(mean, rms).pdf(np.linspace(-.8, .6, 100)))"
   ]
  },
  {
   "cell_type": "markdown",
   "metadata": {},
   "source": [
    "### Calculate number of stars expected in full sample\n",
    "How many white dwarfs would you expect in a \\gold parallax sample\" from the full LSST survey area of 20,000 deg2 (hint: simply scale by the area because the distance cutoff is smaller than the thin disk scaleheight)? \n",
    "\n"
   ]
  },
  {
   "cell_type": "markdown",
   "metadata": {},
   "source": [
    "Integrating the surface area of a sphere:\n",
    "\\begin{equation}\n",
    "\\int_{0}^{2\\pi}\\int_{\\frac{5\\pi}{6}}^{\\pi} sin(b) db dl\n",
    "\\end{equation}\n",
    "We get $2\\pi(1-\\frac{\\sqrt{3}}{2}) \\approx 0.8418 Sr$, or roughly $2763 deg^2$"
   ]
  },
  {
   "cell_type": "code",
   "execution_count": 14,
   "metadata": {},
   "outputs": [],
   "source": [
    "# spot check with monte carlo\n",
    "def run_mc(obs, n=100000, dec_bounds=None):\n",
    "    if dec_bounds is None:\n",
    "        bounds = {round(ra,1): obs.loc[(obs['ra'] < round(ra, 1) + .1) & (obs['ra'] > round(ra, 1)-.1), 'dec'].quantile([0,1]) for ra in np.linspace(158, 228, 701)}\n",
    "        dec_bounds = pd.DataFrame(bounds).T.dropna()\n",
    "        dec_bounds.columns = ['dec_min', 'dec_max']\n",
    "\n",
    "    ra_min, ra_max = obs['ra'].quantile([0,1])\n",
    "    dec_min, dec_max = obs['dec'].quantile([0,1])\n",
    "    \n",
    "    ras = np.random.choice(np.linspace(0, 359, 360), n)\n",
    "    decs_weights = np.cos(np.linspace(-np.pi/2, np.pi/2, 91))/sum(np.cos(np.linspace(-np.pi/2, np.pi/2, 91)))\n",
    "    decs = np.random.choice(np.linspace(-90, 90, 91),n,  p=decs_weights)\n",
    "    \n",
    "    mask = (ras > ra_min) & (ras < ra_max) & (decs > dec_min) & (decs < dec_max)\n",
    "    num = 0\n",
    "    for ra, dec in zi\n",
    "    p(ras[mask], decs[mask]):\n",
    "        # sub = obs.loc[(obs['ra'] < ra + 1) & (obs['ra'] > ra-1)]\n",
    "        dec_min, dec_max = dec_bounds.loc[round(ra,1)]\n",
    "        if (dec < dec_max) and (dec > dec_min):\n",
    "            num+=1\n",
    "    return num / n\n",
    "\n",
    "\n",
    "\n",
    "# coords.append((decs, ras))"
   ]
  },
  {
   "cell_type": "code",
   "execution_count": 15,
   "metadata": {},
   "outputs": [
    {
     "data": {
      "text/plain": [
       "2758.438736"
      ]
     },
     "execution_count": 15,
     "metadata": {},
     "output_type": "execute_result"
    }
   ],
   "source": [
    "# monte carlo agrees prety well\n",
    "run_mc(obs, n=1000000) * 41252"
   ]
  },
  {
   "cell_type": "markdown",
   "metadata": {},
   "source": [
    "### Scale number of gold sample by area"
   ]
  },
  {
   "cell_type": "code",
   "execution_count": 16,
   "metadata": {},
   "outputs": [
    {
     "data": {
      "text/plain": [
       "51798.769453492576"
      ]
     },
     "execution_count": 16,
     "metadata": {},
     "output_type": "execute_result"
    }
   ],
   "source": [
    "20000/2763 * len(obs_gold)"
   ]
  },
  {
   "cell_type": "markdown",
   "metadata": {},
   "source": [
    "We expect to see roughly 51800 white dwarfs in the full LSST sample meeting our gold standard of SNR > 10."
   ]
  },
  {
   "cell_type": "markdown",
   "metadata": {},
   "source": [
    "## Gold sample color color plot\n",
    "Plot the (g-r) vs. (u-g) color-color diagram (using observed photometry) for this sample. Does it look crisper than the SDSS distribution 1https://ls.st/lop\n",
    "2 shown in the bottom left corner of fig. 23 in Ivezic et al. (2007, AJ, 134, 973)?"
   ]
  },
  {
   "cell_type": "code",
   "execution_count": 17,
   "metadata": {},
   "outputs": [
    {
     "data": {
      "text/plain": [
       "Text(0.5, 1.0, 'Gold sample $g-r$ vs. $u-g$')"
      ]
     },
     "execution_count": 17,
     "metadata": {},
     "output_type": "execute_result"
    },
    {
     "name": "stderr",
     "output_type": "stream",
     "text": [
      "findfont: Font family ['normal'] not found. Falling back to DejaVu Sans.\n"
     ]
    },
    {
     "data": {
      "image/png": "[encoded data removed]",
      "text/plain": [
       "<Figure size 720x432 with 1 Axes>"
      ]
     },
     "metadata": {
      "needs_background": "light"
     },
     "output_type": "display_data"
    }
   ],
   "source": [
    "plt.scatter(obs_gold['gObs'] - obs_gold['rObs'], obs_gold['uObs'] - obs_gold['gObs'])\n",
    "plt.xlabel(r'$g-r$')\n",
    "plt.ylabel(r'$u-g$')\n",
    "plt.title(r'Gold sample $g-r$ vs. $u-g$')"
   ]
  },
  {
   "cell_type": "markdown",
   "metadata": {},
   "source": [
    "# Question B\n",
    "\n",
    "## Estimate absolute magnitude from gObs-rObs\n",
    "Using the “gold parallax sample” from A, estimate the absolute r band magnitude as Mobs = rObs − DMobs, with the observed distance modulus, DMobs, determined using the “measured” trigonometric parallax, piObs. Plot Mobs vs. (gObs−rObs) color for stars with T=1 (i.e., hydrogen white WDs; while this is a shortcut based on model input, it is possible to photometrically distinguish hydrogen from helium WDs by considering their four-dimensional color loci; however, this is beyond the scope of this project and hence this shortcut). "
   ]
  },
  {
   "cell_type": "markdown",
   "metadata": {},
   "source": [
    "### Select only hydrogen white dwarfs, plot g-r vs Mr"
   ]
  },
  {
   "cell_type": "code",
   "execution_count": 18,
   "metadata": {},
   "outputs": [
    {
     "name": "stderr",
     "output_type": "stream",
     "text": [
      "<ipython-input-18-ed6645b17f02>:1: SettingWithCopyWarning: \n",
      "A value is trying to be set on a copy of a slice from a DataFrame.\n",
      "Try using .loc[row_indexer,col_indexer] = value instead\n",
      "\n",
      "See the caveats in the documentation: https://pandas.pydata.org/pandas-docs/stable/user_guide/indexing.html#returning-a-view-versus-a-copy\n",
      "  obs_gold['MrObs'] = obs_gold['rObs'] - obs_gold['DM']\n"
     ]
    }
   ],
   "source": [
    "obs_gold['MrObs'] = obs_gold['rObs'] - obs_gold['DM']\n",
    "hydrogen_WDs = obs_gold.loc[truth_gold['T'] == 1]"
   ]
  },
  {
   "cell_type": "code",
   "execution_count": 19,
   "metadata": {
    "scrolled": false
   },
   "outputs": [
    {
     "data": {
      "text/plain": [
       "<matplotlib.collections.PathCollection at 0x13782047b80>"
      ]
     },
     "execution_count": 19,
     "metadata": {},
     "output_type": "execute_result"
    },
    {
     "data": {
      "image/png": "[encoded data removed]",
      "text/plain": [
       "<Figure size 720x432 with 1 Axes>"
      ]
     },
     "metadata": {
      "needs_background": "light"
     },
     "output_type": "display_data"
    }
   ],
   "source": [
    "plt.scatter(hydrogen_WDs['gObs'] - hydrogen_WDs['rObs'], hydrogen_WDs['MrObs'])"
   ]
  },
  {
   "cell_type": "markdown",
   "metadata": {},
   "source": [
    "### Fit function to binned g-r vs Mr"
   ]
  },
  {
   "cell_type": "markdown",
   "metadata": {},
   "source": [
    "Fit a low-order polynomial to derive a photometric parallax relation, Mr(g−r) (hint: you may want to first compute the median Mr in about 0.1 mag wide bins of the g − r color, and then fit a polynomial to these median values vs. g −r bin value). How did you choose the order of your polynomial fit? In what range of Mr and (g − r) is your relation valid?"
   ]
  },
  {
   "cell_type": "code",
   "execution_count": 21,
   "metadata": {
    "scrolled": true
   },
   "outputs": [
    {
     "name": "stderr",
     "output_type": "stream",
     "text": [
      "<ipython-input-21-c5e024769356>:1: SettingWithCopyWarning: \n",
      "A value is trying to be set on a copy of a slice from a DataFrame.\n",
      "Try using .loc[row_indexer,col_indexer] = value instead\n",
      "\n",
      "See the caveats in the documentation: https://pandas.pydata.org/pandas-docs/stable/user_guide/indexing.html#returning-a-view-versus-a-copy\n",
      "  hydrogen_WDs['g-r'] = hydrogen_WDs['gObs'] - hydrogen_WDs['rObs']\n"
     ]
    }
   ],
   "source": [
    "# Calculate g-r\n",
    "hydrogen_WDs['g-r'] = hydrogen_WDs['gObs'] - hydrogen_WDs['rObs']\n"
   ]
  },
  {
   "cell_type": "code",
   "execution_count": 23,
   "metadata": {},
   "outputs": [
    {
     "name": "stderr",
     "output_type": "stream",
     "text": [
      "<ipython-input-23-fb5ad0899a6e>:6: SettingWithCopyWarning: \n",
      "A value is trying to be set on a copy of a slice from a DataFrame.\n",
      "Try using .loc[row_indexer,col_indexer] = value instead\n",
      "\n",
      "See the caveats in the documentation: https://pandas.pydata.org/pandas-docs/stable/user_guide/indexing.html#returning-a-view-versus-a-copy\n",
      "  hydrogen_WDs['bin'] = pd.cut(hydrogen_WDs['g-r'], bins, labels=centers).astype(float)\n"
     ]
    }
   ],
   "source": [
    "# Make bins of size ~.1 mag in g-r, find median Mr per bin\n",
    "\n",
    "bins = np.arange(-.5, 1.1, .1)\n",
    "bins = np.arange(hydrogen_WDs['g-r'].min(), hydrogen_WDs['g-r'].max(), .1)\n",
    "# bins = np.array([-0.474, -0.37346667, -0.27293333, -0.1724, -0.07186667, 0.02866667, 0.1292, 0.22973333, 0.33026667, 0.4308, 0.53133333, 0.63186667, 0.7324, 0.83293333, 0.93346667, 1.034])\n",
    "centers = (bins[1:] + bins[:-1]) / 2\n",
    "\n",
    "hydrogen_WDs['bin'] = pd.cut(hydrogen_WDs['g-r'], bins, labels=centers).astype(float)\n",
    "bin_meds = hydrogen_WDs.groupby('bin')['MrObs'].apply(np.median)"
   ]
  },
  {
   "cell_type": "markdown",
   "metadata": {},
   "source": [
    "Calculate summary statistics per bin"
   ]
  },
  {
   "cell_type": "code",
   "execution_count": 24,
   "metadata": {},
   "outputs": [],
   "source": [
    "bin_meds = hydrogen_WDs.groupby('bin')['MrObs'].apply(np.median)\n",
    "bin_stds = hydrogen_WDs.groupby('bin')['MrObs'].apply(np.std)  # not necessary\n",
    "bin_counts = hydrogen_WDs.groupby('bin')['MrObs'].agg('count')  # not necessary"
   ]
  },
  {
   "cell_type": "markdown",
   "metadata": {},
   "source": [
    "##### Optional\n",
    "Use standard error of the mean as uncertainy in later calculation of reduced $\\chi^2$"
   ]
  },
  {
   "cell_type": "code",
   "execution_count": 25,
   "metadata": {},
   "outputs": [],
   "source": [
    "bin_sterr = bin_stds / np.sqrt(bin_counts)"
   ]
  },
  {
   "cell_type": "markdown",
   "metadata": {},
   "source": [
    "### Fit polynomials from n=1 to n=4\n",
    "Also calculate reduced-$\\chi^2$"
   ]
  },
  {
   "cell_type": "code",
   "execution_count": 26,
   "metadata": {},
   "outputs": [
    {
     "data": {
      "image/png": "[encoded data removed]",
      "text/plain": [
       "<Figure size 1440x864 with 1 Axes>"
      ]
     },
     "metadata": {
      "needs_background": "light"
     },
     "output_type": "display_data"
    },
    {
     "data": {
      "image/png": "[encoded data removed]",
      "text/plain": [
       "<Figure size 1440x432 with 1 Axes>"
      ]
     },
     "metadata": {
      "needs_background": "light"
     },
     "output_type": "display_data"
    }
   ],
   "source": [
    "from scipy.optimize import curve_fit\n",
    "from scipy.stats import chisquare\n",
    "\n",
    "def lin(x, a, b):\n",
    "    return a * x + b\n",
    "\n",
    "def quad(x, a, b, c):\n",
    "    return a * x ** 2 + b * x + c\n",
    "\n",
    "def cubic(x, a, b, c, d):\n",
    "    return a * x ** 3 + b * x ** 2 + c * x  + d\n",
    "\n",
    "def quar(x, a, b, c, d, e):\n",
    "    return a * x ** 4 + b * x ** 3 + c * x **2  + d * x + e\n",
    "\n",
    "def red_chi_sq(obs, exp, err, dof):\n",
    "    return sum((obs - exp) ** 2 / err ** 2) / (len(obs) - 1- dof)\n",
    "\n",
    "popt_lin, pcov_lin = curve_fit(lin, bin_meds.index, bin_meds)\n",
    "popt_quad, pcov_quad = curve_fit(quad, bin_meds.index, bin_meds)\n",
    "popt_cubic, pcov_cubic = curve_fit(cubic, bin_meds.index, bin_meds)\n",
    "popt_quar, pcov_quar = curve_fit(quar, bin_meds.index, bin_meds)\n",
    "\n",
    "lin_chi2 = red_chi_sq(bin_meds, lin(bin_meds.index, *popt_lin), bin_sterr, 2)\n",
    "quad_chi2 = red_chi_sq(bin_meds, quad(bin_meds.index, *popt_quad), bin_sterr, 3)\n",
    "cubic_chi2 = red_chi_sq(bin_meds, cubic(bin_meds.index, *popt_cubic), bin_sterr, 4)\n",
    "quar_chi2 = red_chi_sq(bin_meds, quar(bin_meds.index, *popt_quar), bin_sterr, 5)\n",
    "\n"
   ]
  },
  {
   "cell_type": "markdown",
   "metadata": {},
   "source": [
    "### Plot fit and residuals"
   ]
  },
  {
   "cell_type": "code",
   "execution_count": null,
   "metadata": {},
   "outputs": [],
   "source": [
    "plt.figure(figsize=(20,12))\n",
    "plt.errorbar(bin_meds.index, bin_meds.values, yerr=bin_sterr, fmt='.', color='k', capsize=3, )\n",
    "plt.plot(bin_meds.index, lin(bin_meds.index, *popt_lin), label=r'$y = {:.2f}x + {:.2f}$'.format(*popt_lin), color='orange', linestyle='--')\n",
    "plt.plot(bin_meds.index, quad(bin_meds.index, *popt_quad), label=r'$y = {:.2f}x^2 + {:.2f}x + {:.2f}$'.format(*popt_quad), color='b', linestyle='--')\n",
    "plt.plot(bin_meds.index, cubic(bin_meds.index, *popt_cubic), label=r'$y = {:.3f}x^3 + {:.2f}x^2 + {:.2f}x + {:.2f}$'.format(*popt_cubic), color='r', linestyle='--')\n",
    "plt.plot(bin_meds.index, cubic(bin_meds.index, *popt_cubic), label='quartic', color='g', linestyle='--')\n",
    "plt.legend()\n",
    "plt.xlabel(r'$g-r$')\n",
    "plt.ylabel(r'$M_rObs$')\n",
    "plt.show()\n",
    "\n",
    "def resid(exp, obs=bin_meds.values):\n",
    "    return obs - exp\n",
    "\n",
    "plt.figure(figsize=(20,6))\n",
    "# plt.errorbar(bin_meds.index, bin_meds.values, yerr=bin_sterr.values, fmt='.', color='k', capsize=3, )\n",
    "plt.errorbar(bin_meds.index, resid(lin(bin_meds.index, *popt_lin)), yerr=bin_sterr, label='lin fit', color='orange', capsize=3, fmt='o')\n",
    "plt.errorbar(bin_meds.index, resid(quad(bin_meds.index, *popt_quad)), yerr=bin_sterr, label='quad fit', color='b', capsize=3, fmt='o')\n",
    "plt.errorbar(bin_meds.index, resid(cubic(bin_meds.index, *popt_cubic)), yerr=bin_sterr, label='cubic fit', color='r', capsize=3, fmt='o')\n",
    "plt.errorbar(bin_meds.index, resid(quar(bin_meds.index, *popt_quar)), yerr=bin_sterr, label='quartic fit', color='g', capsize=3, fmt='o')\n",
    "plt.axhline(0, color='k', ls='--')\n",
    "plt.legend()\n",
    "plt.xlabel(r'$g-r$')\n",
    "plt.ylabel(r'$M_rObs - fit$')\n",
    "plt.show()"
   ]
  },
  {
   "cell_type": "markdown",
   "metadata": {},
   "source": [
    "### Compare $\\chi^2$"
   ]
  },
  {
   "cell_type": "code",
   "execution_count": 28,
   "metadata": {},
   "outputs": [
    {
     "data": {
      "text/plain": [
       "150.21242094850916"
      ]
     },
     "execution_count": 28,
     "metadata": {},
     "output_type": "execute_result"
    }
   ],
   "source": [
    "lin_chi2"
   ]
  },
  {
   "cell_type": "code",
   "execution_count": 29,
   "metadata": {},
   "outputs": [
    {
     "data": {
      "text/plain": [
       "36.31947130284686"
      ]
     },
     "execution_count": 29,
     "metadata": {},
     "output_type": "execute_result"
    }
   ],
   "source": [
    "quad_chi2"
   ]
  },
  {
   "cell_type": "code",
   "execution_count": 30,
   "metadata": {
    "scrolled": true
   },
   "outputs": [
    {
     "data": {
      "text/plain": [
       "17.407909475752657"
      ]
     },
     "execution_count": 30,
     "metadata": {},
     "output_type": "execute_result"
    }
   ],
   "source": [
    "cubic_chi2"
   ]
  },
  {
   "cell_type": "code",
   "execution_count": 31,
   "metadata": {},
   "outputs": [
    {
     "data": {
      "text/plain": [
       "11.686492476818918"
      ]
     },
     "execution_count": 31,
     "metadata": {},
     "output_type": "execute_result"
    }
   ],
   "source": [
    "quar_chi2"
   ]
  },
  {
   "cell_type": "markdown",
   "metadata": {},
   "source": [
    "### Get Mr bounds this fit is valid on"
   ]
  },
  {
   "cell_type": "code",
   "execution_count": 32,
   "metadata": {},
   "outputs": [
    {
     "name": "stdout",
     "output_type": "stream",
     "text": [
      "Valid from -.4  < g-r < to 1\n",
      "and from 10.85 < M_r <  16.16\n"
     ]
    }
   ],
   "source": [
    "print(f\"Valid from -.4  < g-r < to 1\")\n",
    "print(f\"and from {cubic(-.4, *popt_cubic):.2f} < M_r <  {cubic(1, *popt_cubic):.2f}\")"
   ]
  },
  {
   "cell_type": "markdown",
   "metadata": {},
   "source": [
    "# Question C\n",
    "Define a “gold proper motion sample” by requiring rObs < 24.5. What fraction of this sample has the observed proper motion measured witha signal-to-noise ratio (to compute SNR: add the two proper motion components in quadrature and divide by the listed proper motion error) of at least 3? "
   ]
  },
  {
   "cell_type": "code",
   "execution_count": 33,
   "metadata": {},
   "outputs": [
    {
     "data": {
      "text/plain": [
       "Index(['ra', 'dec', 'uObs', 'uErr', 'gObs', 'gErr', 'rObs', 'rErr', 'iObs',\n",
       "       'iErr', 'zObs', 'zErr', 'yObs', 'yErr', 'piObs', 'piErr', 'muRAObs',\n",
       "       'muDecObs', 'muErr', 'SNR'],\n",
       "      dtype='object')"
      ]
     },
     "execution_count": 33,
     "metadata": {},
     "output_type": "execute_result"
    }
   ],
   "source": [
    "obs.columns"
   ]
  },
  {
   "cell_type": "markdown",
   "metadata": {},
   "source": [
    "### Define gold proper motion sample\n",
    "Also look % with SNR > 3"
   ]
  },
  {
   "cell_type": "code",
   "execution_count": 329,
   "metadata": {
    "scrolled": false
   },
   "outputs": [
    {
     "name": "stdout",
     "output_type": "stream",
     "text": [
      "Proportion of gold proper motion sample with SNR > 3: 0.975\n"
     ]
    },
    {
     "name": "stderr",
     "output_type": "stream",
     "text": [
      "<ipython-input-329-9aaf3f96b313>:3: SettingWithCopyWarning: \n",
      "A value is trying to be set on a copy of a slice from a DataFrame.\n",
      "Try using .loc[row_indexer,col_indexer] = value instead\n",
      "\n",
      "See the caveats in the documentation: https://pandas.pydata.org/pandas-docs/stable/user_guide/indexing.html#returning-a-view-versus-a-copy\n",
      "  ps_gold['mu'] = np.sqrt(ps_gold['muRAObs'] ** 2 + ps_gold['muDecObs'] ** 2)\n"
     ]
    }
   ],
   "source": [
    "ps_mask = obs['rObs'] < 24.5\n",
    "ps_gold = obs[ps_mask]\n",
    "ps_gold['mu'] = np.sqrt(ps_gold['muRAObs'] ** 2 + ps_gold['muDecObs'] ** 2)\n",
    "print('Proportion of gold proper motion sample with SNR > 3: {:.3f}'.format((ps_gold['mu'] / ps_gold['muErr'] > 3).mean()))"
   ]
  },
  {
   "cell_type": "markdown",
   "metadata": {},
   "source": [
    "drop SNR < 3"
   ]
  },
  {
   "cell_type": "code",
   "execution_count": 330,
   "metadata": {},
   "outputs": [],
   "source": [
    "ps_gold = ps_gold.query('mu/muErr > 3')\n",
    "ps_mask = [x in ps_gold.index for x in obs.index]"
   ]
  },
  {
   "cell_type": "code",
   "execution_count": 331,
   "metadata": {},
   "outputs": [
    {
     "data": {
      "text/plain": [
       "178244"
      ]
     },
     "execution_count": 331,
     "metadata": {},
     "output_type": "execute_result"
    }
   ],
   "source": [
    "# Spot check number of values\n",
    "sum(ps_mask)"
   ]
  },
  {
   "cell_type": "markdown",
   "metadata": {},
   "source": [
    "### Apply photometric relation from B to get Mr\n",
    "Apply your photometric parallax relation from B to estimate Mr and distance (using Mr and rObs). Use this distance to compute tangential velocity, vtan (of course, you also need the observed proper motion; be careful about units!). "
   ]
  },
  {
   "cell_type": "code",
   "execution_count": 355,
   "metadata": {
    "scrolled": true
   },
   "outputs": [
    {
     "name": "stderr",
     "output_type": "stream",
     "text": [
      "<ipython-input-355-61d409b997f1>:8: SettingWithCopyWarning: \n",
      "A value is trying to be set on a copy of a slice from a DataFrame.\n",
      "Try using .loc[row_indexer,col_indexer] = value instead\n",
      "\n",
      "See the caveats in the documentation: https://pandas.pydata.org/pandas-docs/stable/user_guide/indexing.html#returning-a-view-versus-a-copy\n",
      "  ps_gold['Phot_Mr'] = quar(ps_gold['g-r'], *popt_quar)\n",
      "<ipython-input-355-61d409b997f1>:9: SettingWithCopyWarning: \n",
      "A value is trying to be set on a copy of a slice from a DataFrame.\n",
      "Try using .loc[row_indexer,col_indexer] = value instead\n",
      "\n",
      "See the caveats in the documentation: https://pandas.pydata.org/pandas-docs/stable/user_guide/indexing.html#returning-a-view-versus-a-copy\n",
      "  ps_gold['D(pc)'] = 10 ** ((ps_gold['rObs'] - ps_gold['Phot_Mr']) / 5 + 1)\n"
     ]
    }
   ],
   "source": [
    "ps_gold['g-r'] = ps_gold['gObs'] - ps_gold['rObs']\n",
    "\n",
    "# backticks on query to treat quantity as string\n",
    "# cut our sample to the range over which our Photometric relation holds\n",
    "ps_gold = ps_gold.query(\"(`g-r` > -0.42) & (`g-r` < .98)\")\n",
    "ps_mask = [x in ps_gold.index for x in obs.index]\n",
    "\n",
    "ps_gold['Phot_Mr'] = quar(ps_gold['g-r'], *popt_quar)\n",
    "ps_gold['D(pc)'] = 10 ** ((ps_gold['rObs'] - ps_gold['Phot_Mr']) / 5 + 1)"
   ]
  },
  {
   "cell_type": "code",
   "execution_count": 356,
   "metadata": {},
   "outputs": [
    {
     "data": {
      "text/html": [
       "<div>\n",
       "<style scoped>\n",
       "    .dataframe tbody tr th:only-of-type {\n",
       "        vertical-align: middle;\n",
       "    }\n",
       "\n",
       "    .dataframe tbody tr th {\n",
       "        vertical-align: top;\n",
       "    }\n",
       "\n",
       "    .dataframe thead th {\n",
       "        text-align: right;\n",
       "    }\n",
       "</style>\n",
       "<table border=\"1\" class=\"dataframe\">\n",
       "  <thead>\n",
       "    <tr style=\"text-align: right;\">\n",
       "      <th></th>\n",
       "      <th>ra</th>\n",
       "      <th>dec</th>\n",
       "      <th>uObs</th>\n",
       "      <th>uErr</th>\n",
       "      <th>gObs</th>\n",
       "      <th>gErr</th>\n",
       "      <th>rObs</th>\n",
       "      <th>rErr</th>\n",
       "      <th>iObs</th>\n",
       "      <th>iErr</th>\n",
       "      <th>...</th>\n",
       "      <th>muRAObs</th>\n",
       "      <th>muDecObs</th>\n",
       "      <th>muErr</th>\n",
       "      <th>SNR</th>\n",
       "      <th>mu</th>\n",
       "      <th>g-r</th>\n",
       "      <th>Phot_Mr</th>\n",
       "      <th>D(pc)</th>\n",
       "      <th>DM</th>\n",
       "      <th>vTan</th>\n",
       "    </tr>\n",
       "  </thead>\n",
       "  <tbody>\n",
       "    <tr>\n",
       "      <th>0</th>\n",
       "      <td>183.487</td>\n",
       "      <td>-1.36738</td>\n",
       "      <td>22.462</td>\n",
       "      <td>0.009</td>\n",
       "      <td>22.274</td>\n",
       "      <td>0.005</td>\n",
       "      <td>22.572</td>\n",
       "      <td>0.005</td>\n",
       "      <td>22.842</td>\n",
       "      <td>0.007</td>\n",
       "      <td>...</td>\n",
       "      <td>-1.60</td>\n",
       "      <td>-6.76</td>\n",
       "      <td>0.32</td>\n",
       "      <td>1.120879</td>\n",
       "      <td>6.946769</td>\n",
       "      <td>-0.298</td>\n",
       "      <td>11.335388</td>\n",
       "      <td>1767.348933</td>\n",
       "      <td>11.236612</td>\n",
       "      <td>58.239047</td>\n",
       "    </tr>\n",
       "    <tr>\n",
       "      <th>3</th>\n",
       "      <td>183.127</td>\n",
       "      <td>-1.13602</td>\n",
       "      <td>23.267</td>\n",
       "      <td>0.015</td>\n",
       "      <td>22.912</td>\n",
       "      <td>0.006</td>\n",
       "      <td>22.835</td>\n",
       "      <td>0.006</td>\n",
       "      <td>22.867</td>\n",
       "      <td>0.007</td>\n",
       "      <td>...</td>\n",
       "      <td>-12.58</td>\n",
       "      <td>3.17</td>\n",
       "      <td>0.38</td>\n",
       "      <td>0.216216</td>\n",
       "      <td>12.973253</td>\n",
       "      <td>0.077</td>\n",
       "      <td>12.985650</td>\n",
       "      <td>932.975029</td>\n",
       "      <td>9.849350</td>\n",
       "      <td>57.415350</td>\n",
       "    </tr>\n",
       "    <tr>\n",
       "      <th>4</th>\n",
       "      <td>183.339</td>\n",
       "      <td>-1.39733</td>\n",
       "      <td>23.504</td>\n",
       "      <td>0.018</td>\n",
       "      <td>23.093</td>\n",
       "      <td>0.006</td>\n",
       "      <td>22.963</td>\n",
       "      <td>0.006</td>\n",
       "      <td>22.957</td>\n",
       "      <td>0.007</td>\n",
       "      <td>...</td>\n",
       "      <td>-8.69</td>\n",
       "      <td>-10.08</td>\n",
       "      <td>0.42</td>\n",
       "      <td>-0.188525</td>\n",
       "      <td>13.308738</td>\n",
       "      <td>0.130</td>\n",
       "      <td>13.196236</td>\n",
       "      <td>898.158025</td>\n",
       "      <td>9.766764</td>\n",
       "      <td>56.702045</td>\n",
       "    </tr>\n",
       "    <tr>\n",
       "      <th>5</th>\n",
       "      <td>183.624</td>\n",
       "      <td>-1.42716</td>\n",
       "      <td>24.233</td>\n",
       "      <td>0.031</td>\n",
       "      <td>23.762</td>\n",
       "      <td>0.008</td>\n",
       "      <td>23.599</td>\n",
       "      <td>0.007</td>\n",
       "      <td>23.588</td>\n",
       "      <td>0.010</td>\n",
       "      <td>...</td>\n",
       "      <td>-7.61</td>\n",
       "      <td>3.03</td>\n",
       "      <td>0.72</td>\n",
       "      <td>1.125604</td>\n",
       "      <td>8.191032</td>\n",
       "      <td>0.163</td>\n",
       "      <td>13.323885</td>\n",
       "      <td>1135.070922</td>\n",
       "      <td>10.275115</td>\n",
       "      <td>44.103261</td>\n",
       "    </tr>\n",
       "    <tr>\n",
       "      <th>11</th>\n",
       "      <td>183.776</td>\n",
       "      <td>-1.55913</td>\n",
       "      <td>25.296</td>\n",
       "      <td>0.084</td>\n",
       "      <td>24.697</td>\n",
       "      <td>0.016</td>\n",
       "      <td>24.364</td>\n",
       "      <td>0.011</td>\n",
       "      <td>24.274</td>\n",
       "      <td>0.018</td>\n",
       "      <td>...</td>\n",
       "      <td>-2.48</td>\n",
       "      <td>10.55</td>\n",
       "      <td>1.41</td>\n",
       "      <td>0.283619</td>\n",
       "      <td>10.837569</td>\n",
       "      <td>0.333</td>\n",
       "      <td>13.940513</td>\n",
       "      <td>1215.338802</td>\n",
       "      <td>10.423487</td>\n",
       "      <td>62.479614</td>\n",
       "    </tr>\n",
       "    <tr>\n",
       "      <th>...</th>\n",
       "      <td>...</td>\n",
       "      <td>...</td>\n",
       "      <td>...</td>\n",
       "      <td>...</td>\n",
       "      <td>...</td>\n",
       "      <td>...</td>\n",
       "      <td>...</td>\n",
       "      <td>...</td>\n",
       "      <td>...</td>\n",
       "      <td>...</td>\n",
       "      <td>...</td>\n",
       "      <td>...</td>\n",
       "      <td>...</td>\n",
       "      <td>...</td>\n",
       "      <td>...</td>\n",
       "      <td>...</td>\n",
       "      <td>...</td>\n",
       "      <td>...</td>\n",
       "      <td>...</td>\n",
       "      <td>...</td>\n",
       "      <td>...</td>\n",
       "    </tr>\n",
       "    <tr>\n",
       "      <th>905971</th>\n",
       "      <td>220.372</td>\n",
       "      <td>48.20000</td>\n",
       "      <td>24.935</td>\n",
       "      <td>0.066</td>\n",
       "      <td>24.602</td>\n",
       "      <td>0.015</td>\n",
       "      <td>24.404</td>\n",
       "      <td>0.011</td>\n",
       "      <td>24.421</td>\n",
       "      <td>0.020</td>\n",
       "      <td>...</td>\n",
       "      <td>-19.55</td>\n",
       "      <td>-14.13</td>\n",
       "      <td>1.47</td>\n",
       "      <td>0.164319</td>\n",
       "      <td>24.121762</td>\n",
       "      <td>0.198</td>\n",
       "      <td>13.456361</td>\n",
       "      <td>1547.133340</td>\n",
       "      <td>10.947639</td>\n",
       "      <td>177.029594</td>\n",
       "    </tr>\n",
       "    <tr>\n",
       "      <th>906097</th>\n",
       "      <td>216.576</td>\n",
       "      <td>51.05020</td>\n",
       "      <td>24.266</td>\n",
       "      <td>0.032</td>\n",
       "      <td>23.869</td>\n",
       "      <td>0.009</td>\n",
       "      <td>23.764</td>\n",
       "      <td>0.008</td>\n",
       "      <td>23.796</td>\n",
       "      <td>0.012</td>\n",
       "      <td>...</td>\n",
       "      <td>-30.51</td>\n",
       "      <td>14.66</td>\n",
       "      <td>0.83</td>\n",
       "      <td>1.531381</td>\n",
       "      <td>33.849309</td>\n",
       "      <td>0.105</td>\n",
       "      <td>13.097756</td>\n",
       "      <td>1359.092004</td>\n",
       "      <td>10.666244</td>\n",
       "      <td>218.226637</td>\n",
       "    </tr>\n",
       "    <tr>\n",
       "      <th>906138</th>\n",
       "      <td>216.191</td>\n",
       "      <td>51.30080</td>\n",
       "      <td>24.695</td>\n",
       "      <td>0.048</td>\n",
       "      <td>24.313</td>\n",
       "      <td>0.012</td>\n",
       "      <td>24.354</td>\n",
       "      <td>0.011</td>\n",
       "      <td>24.496</td>\n",
       "      <td>0.021</td>\n",
       "      <td>...</td>\n",
       "      <td>-5.09</td>\n",
       "      <td>-13.91</td>\n",
       "      <td>1.40</td>\n",
       "      <td>1.103448</td>\n",
       "      <td>14.812029</td>\n",
       "      <td>-0.041</td>\n",
       "      <td>12.493070</td>\n",
       "      <td>2356.058636</td>\n",
       "      <td>11.860930</td>\n",
       "      <td>165.542590</td>\n",
       "    </tr>\n",
       "    <tr>\n",
       "      <th>906143</th>\n",
       "      <td>216.052</td>\n",
       "      <td>51.50110</td>\n",
       "      <td>24.797</td>\n",
       "      <td>0.054</td>\n",
       "      <td>24.437</td>\n",
       "      <td>0.013</td>\n",
       "      <td>24.467</td>\n",
       "      <td>0.012</td>\n",
       "      <td>24.543</td>\n",
       "      <td>0.022</td>\n",
       "      <td>...</td>\n",
       "      <td>-10.91</td>\n",
       "      <td>-9.49</td>\n",
       "      <td>1.52</td>\n",
       "      <td>1.211845</td>\n",
       "      <td>14.459882</td>\n",
       "      <td>-0.030</td>\n",
       "      <td>12.540292</td>\n",
       "      <td>2428.519093</td>\n",
       "      <td>11.926708</td>\n",
       "      <td>166.577133</td>\n",
       "    </tr>\n",
       "    <tr>\n",
       "      <th>906157</th>\n",
       "      <td>215.690</td>\n",
       "      <td>51.60210</td>\n",
       "      <td>25.751</td>\n",
       "      <td>0.113</td>\n",
       "      <td>24.660</td>\n",
       "      <td>0.016</td>\n",
       "      <td>24.112</td>\n",
       "      <td>0.009</td>\n",
       "      <td>23.918</td>\n",
       "      <td>0.013</td>\n",
       "      <td>...</td>\n",
       "      <td>-39.98</td>\n",
       "      <td>-23.68</td>\n",
       "      <td>1.13</td>\n",
       "      <td>-1.735562</td>\n",
       "      <td>46.466577</td>\n",
       "      <td>0.548</td>\n",
       "      <td>14.643263</td>\n",
       "      <td>782.974055</td>\n",
       "      <td>9.468737</td>\n",
       "      <td>172.582658</td>\n",
       "    </tr>\n",
       "  </tbody>\n",
       "</table>\n",
       "<p>175321 rows × 26 columns</p>\n",
       "</div>"
      ],
      "text/plain": [
       "             ra       dec    uObs   uErr    gObs   gErr    rObs   rErr  \\\n",
       "0       183.487  -1.36738  22.462  0.009  22.274  0.005  22.572  0.005   \n",
       "3       183.127  -1.13602  23.267  0.015  22.912  0.006  22.835  0.006   \n",
       "4       183.339  -1.39733  23.504  0.018  23.093  0.006  22.963  0.006   \n",
       "5       183.624  -1.42716  24.233  0.031  23.762  0.008  23.599  0.007   \n",
       "11      183.776  -1.55913  25.296  0.084  24.697  0.016  24.364  0.011   \n",
       "...         ...       ...     ...    ...     ...    ...     ...    ...   \n",
       "905971  220.372  48.20000  24.935  0.066  24.602  0.015  24.404  0.011   \n",
       "906097  216.576  51.05020  24.266  0.032  23.869  0.009  23.764  0.008   \n",
       "906138  216.191  51.30080  24.695  0.048  24.313  0.012  24.354  0.011   \n",
       "906143  216.052  51.50110  24.797  0.054  24.437  0.013  24.467  0.012   \n",
       "906157  215.690  51.60210  25.751  0.113  24.660  0.016  24.112  0.009   \n",
       "\n",
       "          iObs   iErr  ...  muRAObs  muDecObs  muErr       SNR         mu  \\\n",
       "0       22.842  0.007  ...    -1.60     -6.76   0.32  1.120879   6.946769   \n",
       "3       22.867  0.007  ...   -12.58      3.17   0.38  0.216216  12.973253   \n",
       "4       22.957  0.007  ...    -8.69    -10.08   0.42 -0.188525  13.308738   \n",
       "5       23.588  0.010  ...    -7.61      3.03   0.72  1.125604   8.191032   \n",
       "11      24.274  0.018  ...    -2.48     10.55   1.41  0.283619  10.837569   \n",
       "...        ...    ...  ...      ...       ...    ...       ...        ...   \n",
       "905971  24.421  0.020  ...   -19.55    -14.13   1.47  0.164319  24.121762   \n",
       "906097  23.796  0.012  ...   -30.51     14.66   0.83  1.531381  33.849309   \n",
       "906138  24.496  0.021  ...    -5.09    -13.91   1.40  1.103448  14.812029   \n",
       "906143  24.543  0.022  ...   -10.91     -9.49   1.52  1.211845  14.459882   \n",
       "906157  23.918  0.013  ...   -39.98    -23.68   1.13 -1.735562  46.466577   \n",
       "\n",
       "          g-r    Phot_Mr        D(pc)         DM        vTan  \n",
       "0      -0.298  11.335388  1767.348933  11.236612   58.239047  \n",
       "3       0.077  12.985650   932.975029   9.849350   57.415350  \n",
       "4       0.130  13.196236   898.158025   9.766764   56.702045  \n",
       "5       0.163  13.323885  1135.070922  10.275115   44.103261  \n",
       "11      0.333  13.940513  1215.338802  10.423487   62.479614  \n",
       "...       ...        ...          ...        ...         ...  \n",
       "905971  0.198  13.456361  1547.133340  10.947639  177.029594  \n",
       "906097  0.105  13.097756  1359.092004  10.666244  218.226637  \n",
       "906138 -0.041  12.493070  2356.058636  11.860930  165.542590  \n",
       "906143 -0.030  12.540292  2428.519093  11.926708  166.577133  \n",
       "906157  0.548  14.643263   782.974055   9.468737  172.582658  \n",
       "\n",
       "[175321 rows x 26 columns]"
      ]
     },
     "execution_count": 356,
     "metadata": {},
     "output_type": "execute_result"
    }
   ],
   "source": [
    "# spot check on ps_gold\n",
    "ps_gold"
   ]
  },
  {
   "cell_type": "markdown",
   "metadata": {},
   "source": [
    "### Calculate DMs using Photometric Mr"
   ]
  },
  {
   "cell_type": "code",
   "execution_count": 357,
   "metadata": {
    "scrolled": false
   },
   "outputs": [
    {
     "name": "stderr",
     "output_type": "stream",
     "text": [
      "<ipython-input-357-eafbb51ac754>:1: SettingWithCopyWarning: \n",
      "A value is trying to be set on a copy of a slice from a DataFrame.\n",
      "Try using .loc[row_indexer,col_indexer] = value instead\n",
      "\n",
      "See the caveats in the documentation: https://pandas.pydata.org/pandas-docs/stable/user_guide/indexing.html#returning-a-view-versus-a-copy\n",
      "  ps_gold['DM'] = ps_gold['rObs'] - ps_gold['Phot_Mr']\n"
     ]
    },
    {
     "data": {
      "image/png": "[encoded data removed]",
      "text/plain": [
       "<Figure size 720x432 with 1 Axes>"
      ]
     },
     "metadata": {
      "needs_background": "light"
     },
     "output_type": "display_data"
    }
   ],
   "source": [
    "ps_gold['DM'] = ps_gold['rObs'] - ps_gold['Phot_Mr']\n",
    "\n",
    "# Spot check with truth file\n",
    "plt.hist2d(ps_gold['rObs'] - ps_gold['Phot_Mr'], truth.loc[ps_mask, 'DM'], bins=100)\n",
    "plt.show()"
   ]
  },
  {
   "cell_type": "markdown",
   "metadata": {},
   "source": [
    "## Look at different cutoffs for determining Disk v Halo stars by $v_{tan}$"
   ]
  },
  {
   "cell_type": "markdown",
   "metadata": {},
   "source": [
    "Define a candidate disk sample as stars with vtan < vcutoff tan , and a candidate halo sample as stars with vtan > vcutoff tan . Using P from the truth file, plot the completeness and contamination for disk and halo samples as a function of v cutoff tan for 0 < vcutoff tan < 500 km/s (in steps of, say, 20 km/s). \n",
    "\n",
    "The completeness is defined as the number of (disk, halo) objects in the selected subsample divided by the total number of such objects, and contamination is the number of objects of the “wrong” type in the selected subsample divided by the total number in that subsample."
   ]
  },
  {
   "cell_type": "markdown",
   "metadata": {},
   "source": [
    "### Calculate $v_{tan}$"
   ]
  },
  {
   "cell_type": "code",
   "execution_count": 358,
   "metadata": {
    "scrolled": true
   },
   "outputs": [
    {
     "name": "stderr",
     "output_type": "stream",
     "text": [
      "<ipython-input-358-f6d328fb112e>:4: SettingWithCopyWarning: \n",
      "A value is trying to be set on a copy of a slice from a DataFrame.\n",
      "Try using .loc[row_indexer,col_indexer] = value instead\n",
      "\n",
      "See the caveats in the documentation: https://pandas.pydata.org/pandas-docs/stable/user_guide/indexing.html#returning-a-view-versus-a-copy\n",
      "  ps_gold['vTan'] =  rad_p_s * ps_gold['D(pc)'] * pc2km\n"
     ]
    }
   ],
   "source": [
    "yr2s = 3.154e7\n",
    "pc2km = 3.086e13\n",
    "rad_p_s = (ps_gold['mu'] / 1000 / 3600) * (np.pi / 180) / yr2s\n",
    "ps_gold['vTan'] =  rad_p_s * ps_gold['D(pc)'] * pc2km"
   ]
  },
  {
   "cell_type": "code",
   "execution_count": 359,
   "metadata": {
    "scrolled": true
   },
   "outputs": [
    {
     "data": {
      "text/plain": [
       "0          58.239047\n",
       "3          57.415350\n",
       "4          56.702045\n",
       "5          44.103261\n",
       "11         62.479614\n",
       "             ...    \n",
       "905971    177.029594\n",
       "906097    218.226637\n",
       "906138    165.542590\n",
       "906143    166.577133\n",
       "906157    172.582658\n",
       "Name: vTan, Length: 175321, dtype: float64"
      ]
     },
     "execution_count": 359,
     "metadata": {},
     "output_type": "execute_result"
    }
   ],
   "source": [
    "# spot check v_tan\n",
    "ps_gold['vTan']"
   ]
  },
  {
   "cell_type": "markdown",
   "metadata": {},
   "source": [
    "### Calculate completeness and contamination"
   ]
  },
  {
   "cell_type": "code",
   "execution_count": 337,
   "metadata": {},
   "outputs": [],
   "source": [
    "def get_comp_cont(sample_index, truth_df, seg):\n",
    "    n_seg = sum(truth_df['P'] == seg)\n",
    "    sample_len = len(sample_index)\n",
    "    \n",
    "    truth_values = truth_df.loc[sample_index, 'P']\n",
    "    right = sum(truth_values == seg)\n",
    "    wrong = sum(truth_values != seg)\n",
    "    return right / n_seg, wrong / sample_len\n",
    "\n",
    "\n",
    "disk_results = []\n",
    "halo_results = []\n",
    "for v_cutoff in np.linspace(20, 500, 25):\n",
    "    disk_mask = ps_gold['vTan'] < v_cutoff\n",
    "    halo_mask = ps_gold['vTan'] > v_cutoff\n",
    "    \n",
    "    disk_comp, disk_cont = get_comp_cont(ps_gold.loc[disk_mask].index, truth[ps_mask], 1)\n",
    "    halo_comp, halo_cont = get_comp_cont(ps_gold.loc[halo_mask].index, truth[ps_mask], 2)\n",
    "    disk_results.append((v_cutoff, disk_comp, disk_cont))\n",
    "    halo_results.append((v_cutoff, halo_comp, halo_cont))\n"
   ]
  },
  {
   "cell_type": "code",
   "execution_count": 338,
   "metadata": {},
   "outputs": [],
   "source": [
    "disk_df = pd.DataFrame(disk_results, columns=['vTan', 'completeness', 'contamination'])\n",
    "halo_df = pd.DataFrame(halo_results, columns=['vTan', 'completeness', 'contamination'])\n",
    "disk_df.set_index('vTan', inplace=True)\n",
    "halo_df.set_index('vTan', inplace=True)"
   ]
  },
  {
   "cell_type": "markdown",
   "metadata": {},
   "source": [
    "### Plot v_cutoff vs completeness, contamination for disk and halo\n",
    "Note that there are many more disk objects than halo objects"
   ]
  },
  {
   "cell_type": "code",
   "execution_count": 339,
   "metadata": {},
   "outputs": [
    {
     "data": {
      "text/plain": [
       "<AxesSubplot:title={'center':'Halo'}, xlabel='vTan'>"
      ]
     },
     "execution_count": 339,
     "metadata": {},
     "output_type": "execute_result"
    },
    {
     "data": {
      "image/png": "[encoded data removed]",
      "text/plain": [
       "<Figure size 720x432 with 1 Axes>"
      ]
     },
     "metadata": {
      "needs_background": "light"
     },
     "output_type": "display_data"
    },
    {
     "data": {
      "image/png": "[encoded data removed]",
      "text/plain": [
       "<Figure size 720x432 with 1 Axes>"
      ]
     },
     "metadata": {
      "needs_background": "light"
     },
     "output_type": "display_data"
    }
   ],
   "source": [
    "disk_df.plot(title='Disk')\n",
    "halo_df.plot(title='Halo')"
   ]
  },
  {
   "cell_type": "markdown",
   "metadata": {},
   "source": [
    "# Question D\n",
    "Using the “gold proper motion sample” from C, define a candidate disk sample by vtan < 150 km/s, and a candidate halo sample by vtan > 200 km/s. Using your results from C, estimate the completeness and contamination for each subsample. "
   ]
  },
  {
   "cell_type": "markdown",
   "metadata": {},
   "source": [
    "## Find confusion matrix of our cutoffs"
   ]
  },
  {
   "cell_type": "code",
   "execution_count": 360,
   "metadata": {},
   "outputs": [
    {
     "name": "stdout",
     "output_type": "stream",
     "text": [
      "     | completeness | contamination \n",
      "-----------------------------------\n",
      "disk |        0.994 |         0.010\n",
      "-----------------------------------\n",
      "halo |        0.653 |         0.010\n"
     ]
    }
   ],
   "source": [
    "v_cutoff = 150 #km/s\n",
    "disk_mask = ps_gold['vTan'] < v_cutoff\n",
    "halo_mask = ps_gold['vTan'] > 200 \n",
    "\n",
    "disk_comp, disk_cont = get_comp_cont(ps_gold.loc[disk_mask].index, truth[ps_mask], 1)\n",
    "halo_comp, halo_cont = get_comp_cont(ps_gold.loc[halo_mask].index, truth[ps_mask], 2)\n",
    "\n",
    "print(f'     | completeness | contamination \\n' + '-'*35 + \\\n",
    "f'\\ndisk |{disk_comp:13.3f} | {disk_cont:13.3f}\\n' + '-'*35 + \\\n",
    "f'\\nhalo |{halo_comp:13.3f} | {halo_cont:13.3f}')"
   ]
  },
  {
   "cell_type": "markdown",
   "metadata": {},
   "source": [
    "## Plot DM vs Mr to show our truncation at r_lim = 24"
   ]
  },
  {
   "cell_type": "markdown",
   "metadata": {},
   "source": [
    "### Disk"
   ]
  },
  {
   "cell_type": "code",
   "execution_count": 361,
   "metadata": {},
   "outputs": [
    {
     "data": {
      "image/png": "[encoded data removed]",
      "text/plain": [
       "<Figure size 720x432 with 1 Axes>"
      ]
     },
     "metadata": {
      "needs_background": "light"
     },
     "output_type": "display_data"
    }
   ],
   "source": [
    "plt.hist2d(ps_gold.loc[disk_mask, 'DM'], ps_gold.loc[disk_mask, 'Phot_Mr'], bins=100, cmin=1)\n",
    "plt.gca().invert_yaxis()\n",
    "plt.xlabel('DM')\n",
    "plt.ylabel('Mr')\n",
    "plt.show()"
   ]
  },
  {
   "cell_type": "markdown",
   "metadata": {},
   "source": [
    "### Halo"
   ]
  },
  {
   "cell_type": "code",
   "execution_count": 362,
   "metadata": {},
   "outputs": [
    {
     "data": {
      "image/png": "[encoded data removed]",
      "text/plain": [
       "<Figure size 720x432 with 1 Axes>"
      ]
     },
     "metadata": {
      "needs_background": "light"
     },
     "output_type": "display_data"
    }
   ],
   "source": [
    "plt.hist2d(ps_gold.loc[halo_mask, 'DM'], ps_gold.loc[halo_mask, 'Phot_Mr'], bins=100, cmin=1)\n",
    "plt.xlabel('DM')\n",
    "plt.ylabel('Mr')\n",
    "plt.gca().invert_yaxis()\n",
    "plt.show()"
   ]
  },
  {
   "cell_type": "markdown",
   "metadata": {},
   "source": [
    "## Uncorrected distribution of absolute magnitudes"
   ]
  },
  {
   "cell_type": "code",
   "execution_count": 572,
   "metadata": {},
   "outputs": [
    {
     "data": {
      "text/plain": [
       "<matplotlib.legend.Legend at 0x137b80d7bb0>"
      ]
     },
     "execution_count": 572,
     "metadata": {},
     "output_type": "execute_result"
    },
    {
     "data": {
      "image/png": "[encoded data removed]",
      "text/plain": [
       "<Figure size 720x432 with 1 Axes>"
      ]
     },
     "metadata": {
      "needs_background": "light"
     },
     "output_type": "display_data"
    }
   ],
   "source": [
    "plt.hist(x=disk_data['Phot_Mr'], bins=25, color='r', histtype='step', label = 'disk')\n",
    "plt.hist(x=halo_data['Phot_Mr'], bins=25, color='cornflowerblue', histtype='step', label = 'halo')\n",
    "plt.yscale('log') \n",
    "plt.ylim([1, 20000])\n",
    "plt.legend()"
   ]
  },
  {
   "cell_type": "markdown",
   "metadata": {},
   "source": [
    "## Use Cminus method to recover true distributions of DM and Mr\n",
    "We assume that DM is independent of Mr\n",
    "\n",
    "Using the C method implemented in astroML2, compute the differential luminosity function for each subsample (this is the hardest part of this project!). Explain how did you get the normalization constant. "
   ]
  },
  {
   "cell_type": "code",
   "execution_count": 344,
   "metadata": {},
   "outputs": [],
   "source": [
    "from astroML.lumfunc import bootstrap_Cminus"
   ]
  },
  {
   "cell_type": "code",
   "execution_count": 345,
   "metadata": {},
   "outputs": [],
   "source": [
    "r_lim = 24.5\n",
    "\n",
    "# aux arrays\n",
    "x_fit = np.linspace(0, 15, 42)\n",
    "y_fit = np.linspace(10, 17, 42)\n"
   ]
  },
  {
   "cell_type": "markdown",
   "metadata": {},
   "source": [
    "### For halo cut"
   ]
  },
  {
   "cell_type": "markdown",
   "metadata": {},
   "source": [
    "# debugging weird behavior"
   ]
  },
  {
   "cell_type": "code",
   "execution_count": 371,
   "metadata": {},
   "outputs": [],
   "source": [
    "halo_objects = pd.read_csv('../debugging.csv', delim_whitespace=True)"
   ]
  },
  {
   "cell_type": "code",
   "execution_count": 372,
   "metadata": {},
   "outputs": [],
   "source": [
    "halo_objects\n",
    "halo_objects.columns = ['DM', 'M_r', 'max_DM', 'max_Mr']\n",
    "halo_objects.columns = ['DM', 'max_DM', 'M_r', 'max_Mr']\n",
    "halo_objects = halo_objects[['DM', 'M_r', 'max_DM', 'max_Mr']]"
   ]
  },
  {
   "cell_type": "code",
   "execution_count": 368,
   "metadata": {},
   "outputs": [],
   "source": [
    "share_cols = [x for x in halo_objects.index if x in halo_data.index]"
   ]
  },
  {
   "cell_type": "code",
   "execution_count": 260,
   "metadata": {
    "collapsed": true
   },
   "outputs": [
    {
     "data": {
      "text/html": [
       "<div>\n",
       "<style scoped>\n",
       "    .dataframe tbody tr th:only-of-type {\n",
       "        vertical-align: middle;\n",
       "    }\n",
       "\n",
       "    .dataframe tbody tr th {\n",
       "        vertical-align: top;\n",
       "    }\n",
       "\n",
       "    .dataframe thead th {\n",
       "        text-align: right;\n",
       "    }\n",
       "</style>\n",
       "<table border=\"1\" class=\"dataframe\">\n",
       "  <thead>\n",
       "    <tr style=\"text-align: right;\">\n",
       "      <th></th>\n",
       "      <th>ra</th>\n",
       "      <th>dec</th>\n",
       "      <th>u</th>\n",
       "      <th>g</th>\n",
       "      <th>r</th>\n",
       "      <th>i</th>\n",
       "      <th>z</th>\n",
       "      <th>y</th>\n",
       "      <th>Mr</th>\n",
       "      <th>logg</th>\n",
       "      <th>vR</th>\n",
       "      <th>vPhi</th>\n",
       "      <th>vZ</th>\n",
       "      <th>T</th>\n",
       "      <th>P</th>\n",
       "      <th>DM</th>\n",
       "    </tr>\n",
       "  </thead>\n",
       "  <tbody>\n",
       "    <tr>\n",
       "      <th>0</th>\n",
       "      <td>183.487</td>\n",
       "      <td>-1.36738</td>\n",
       "      <td>22.454</td>\n",
       "      <td>22.269</td>\n",
       "      <td>22.566</td>\n",
       "      <td>22.846</td>\n",
       "      <td>23.133</td>\n",
       "      <td>23.420</td>\n",
       "      <td>11.338</td>\n",
       "      <td>8.0</td>\n",
       "      <td>-50.89</td>\n",
       "      <td>-134.57</td>\n",
       "      <td>40.51</td>\n",
       "      <td>1</td>\n",
       "      <td>1</td>\n",
       "      <td>11.228</td>\n",
       "    </tr>\n",
       "    <tr>\n",
       "      <th>1</th>\n",
       "      <td>183.261</td>\n",
       "      <td>-1.25781</td>\n",
       "      <td>25.549</td>\n",
       "      <td>25.183</td>\n",
       "      <td>25.235</td>\n",
       "      <td>25.364</td>\n",
       "      <td>25.546</td>\n",
       "      <td>25.729</td>\n",
       "      <td>12.346</td>\n",
       "      <td>8.0</td>\n",
       "      <td>-51.56</td>\n",
       "      <td>-53.51</td>\n",
       "      <td>-3.59</td>\n",
       "      <td>1</td>\n",
       "      <td>1</td>\n",
       "      <td>12.889</td>\n",
       "    </tr>\n",
       "    <tr>\n",
       "      <th>2</th>\n",
       "      <td>183.038</td>\n",
       "      <td>-1.32316</td>\n",
       "      <td>24.718</td>\n",
       "      <td>24.354</td>\n",
       "      <td>24.301</td>\n",
       "      <td>24.356</td>\n",
       "      <td>24.471</td>\n",
       "      <td>24.587</td>\n",
       "      <td>12.867</td>\n",
       "      <td>8.0</td>\n",
       "      <td>-47.11</td>\n",
       "      <td>-170.19</td>\n",
       "      <td>94.17</td>\n",
       "      <td>1</td>\n",
       "      <td>1</td>\n",
       "      <td>11.434</td>\n",
       "    </tr>\n",
       "    <tr>\n",
       "      <th>3</th>\n",
       "      <td>183.127</td>\n",
       "      <td>-1.13602</td>\n",
       "      <td>23.288</td>\n",
       "      <td>22.913</td>\n",
       "      <td>22.834</td>\n",
       "      <td>22.871</td>\n",
       "      <td>22.972</td>\n",
       "      <td>23.073</td>\n",
       "      <td>12.989</td>\n",
       "      <td>8.0</td>\n",
       "      <td>29.71</td>\n",
       "      <td>-196.22</td>\n",
       "      <td>33.81</td>\n",
       "      <td>1</td>\n",
       "      <td>1</td>\n",
       "      <td>9.845</td>\n",
       "    </tr>\n",
       "    <tr>\n",
       "      <th>4</th>\n",
       "      <td>183.339</td>\n",
       "      <td>-1.39733</td>\n",
       "      <td>23.517</td>\n",
       "      <td>23.099</td>\n",
       "      <td>22.959</td>\n",
       "      <td>22.960</td>\n",
       "      <td>23.030</td>\n",
       "      <td>23.100</td>\n",
       "      <td>13.249</td>\n",
       "      <td>8.0</td>\n",
       "      <td>-4.74</td>\n",
       "      <td>-187.17</td>\n",
       "      <td>-37.27</td>\n",
       "      <td>1</td>\n",
       "      <td>1</td>\n",
       "      <td>9.710</td>\n",
       "    </tr>\n",
       "    <tr>\n",
       "      <th>...</th>\n",
       "      <td>...</td>\n",
       "      <td>...</td>\n",
       "      <td>...</td>\n",
       "      <td>...</td>\n",
       "      <td>...</td>\n",
       "      <td>...</td>\n",
       "      <td>...</td>\n",
       "      <td>...</td>\n",
       "      <td>...</td>\n",
       "      <td>...</td>\n",
       "      <td>...</td>\n",
       "      <td>...</td>\n",
       "      <td>...</td>\n",
       "      <td>...</td>\n",
       "      <td>...</td>\n",
       "      <td>...</td>\n",
       "    </tr>\n",
       "    <tr>\n",
       "      <th>906212</th>\n",
       "      <td>213.948</td>\n",
       "      <td>52.60660</td>\n",
       "      <td>28.757</td>\n",
       "      <td>27.999</td>\n",
       "      <td>27.586</td>\n",
       "      <td>27.447</td>\n",
       "      <td>27.412</td>\n",
       "      <td>27.377</td>\n",
       "      <td>14.148</td>\n",
       "      <td>8.0</td>\n",
       "      <td>22.99</td>\n",
       "      <td>109.23</td>\n",
       "      <td>-68.96</td>\n",
       "      <td>1</td>\n",
       "      <td>2</td>\n",
       "      <td>13.438</td>\n",
       "    </tr>\n",
       "    <tr>\n",
       "      <th>906213</th>\n",
       "      <td>213.754</td>\n",
       "      <td>52.72680</td>\n",
       "      <td>28.255</td>\n",
       "      <td>27.437</td>\n",
       "      <td>26.981</td>\n",
       "      <td>26.819</td>\n",
       "      <td>26.768</td>\n",
       "      <td>26.716</td>\n",
       "      <td>14.291</td>\n",
       "      <td>8.0</td>\n",
       "      <td>-70.24</td>\n",
       "      <td>-181.66</td>\n",
       "      <td>-65.32</td>\n",
       "      <td>1</td>\n",
       "      <td>2</td>\n",
       "      <td>12.690</td>\n",
       "    </tr>\n",
       "    <tr>\n",
       "      <th>906214</th>\n",
       "      <td>214.194</td>\n",
       "      <td>52.52160</td>\n",
       "      <td>28.646</td>\n",
       "      <td>27.666</td>\n",
       "      <td>27.091</td>\n",
       "      <td>26.869</td>\n",
       "      <td>26.772</td>\n",
       "      <td>26.675</td>\n",
       "      <td>14.688</td>\n",
       "      <td>8.0</td>\n",
       "      <td>-154.37</td>\n",
       "      <td>-48.06</td>\n",
       "      <td>-1.92</td>\n",
       "      <td>1</td>\n",
       "      <td>2</td>\n",
       "      <td>12.403</td>\n",
       "    </tr>\n",
       "    <tr>\n",
       "      <th>906215</th>\n",
       "      <td>214.262</td>\n",
       "      <td>52.46750</td>\n",
       "      <td>28.967</td>\n",
       "      <td>27.827</td>\n",
       "      <td>27.141</td>\n",
       "      <td>26.856</td>\n",
       "      <td>26.714</td>\n",
       "      <td>26.571</td>\n",
       "      <td>15.077</td>\n",
       "      <td>8.0</td>\n",
       "      <td>-86.77</td>\n",
       "      <td>11.52</td>\n",
       "      <td>111.28</td>\n",
       "      <td>1</td>\n",
       "      <td>2</td>\n",
       "      <td>12.064</td>\n",
       "    </tr>\n",
       "    <tr>\n",
       "      <th>906216</th>\n",
       "      <td>214.261</td>\n",
       "      <td>52.43970</td>\n",
       "      <td>30.882</td>\n",
       "      <td>28.646</td>\n",
       "      <td>27.373</td>\n",
       "      <td>26.853</td>\n",
       "      <td>26.592</td>\n",
       "      <td>26.332</td>\n",
       "      <td>15.822</td>\n",
       "      <td>8.0</td>\n",
       "      <td>11.38</td>\n",
       "      <td>92.96</td>\n",
       "      <td>5.61</td>\n",
       "      <td>2</td>\n",
       "      <td>2</td>\n",
       "      <td>11.551</td>\n",
       "    </tr>\n",
       "  </tbody>\n",
       "</table>\n",
       "<p>906217 rows × 16 columns</p>\n",
       "</div>"
      ],
      "text/plain": [
       "             ra       dec       u       g       r       i       z       y  \\\n",
       "0       183.487  -1.36738  22.454  22.269  22.566  22.846  23.133  23.420   \n",
       "1       183.261  -1.25781  25.549  25.183  25.235  25.364  25.546  25.729   \n",
       "2       183.038  -1.32316  24.718  24.354  24.301  24.356  24.471  24.587   \n",
       "3       183.127  -1.13602  23.288  22.913  22.834  22.871  22.972  23.073   \n",
       "4       183.339  -1.39733  23.517  23.099  22.959  22.960  23.030  23.100   \n",
       "...         ...       ...     ...     ...     ...     ...     ...     ...   \n",
       "906212  213.948  52.60660  28.757  27.999  27.586  27.447  27.412  27.377   \n",
       "906213  213.754  52.72680  28.255  27.437  26.981  26.819  26.768  26.716   \n",
       "906214  214.194  52.52160  28.646  27.666  27.091  26.869  26.772  26.675   \n",
       "906215  214.262  52.46750  28.967  27.827  27.141  26.856  26.714  26.571   \n",
       "906216  214.261  52.43970  30.882  28.646  27.373  26.853  26.592  26.332   \n",
       "\n",
       "            Mr  logg      vR    vPhi      vZ  T  P      DM  \n",
       "0       11.338   8.0  -50.89 -134.57   40.51  1  1  11.228  \n",
       "1       12.346   8.0  -51.56  -53.51   -3.59  1  1  12.889  \n",
       "2       12.867   8.0  -47.11 -170.19   94.17  1  1  11.434  \n",
       "3       12.989   8.0   29.71 -196.22   33.81  1  1   9.845  \n",
       "4       13.249   8.0   -4.74 -187.17  -37.27  1  1   9.710  \n",
       "...        ...   ...     ...     ...     ... .. ..     ...  \n",
       "906212  14.148   8.0   22.99  109.23  -68.96  1  2  13.438  \n",
       "906213  14.291   8.0  -70.24 -181.66  -65.32  1  2  12.690  \n",
       "906214  14.688   8.0 -154.37  -48.06   -1.92  1  2  12.403  \n",
       "906215  15.077   8.0  -86.77   11.52  111.28  1  2  12.064  \n",
       "906216  15.822   8.0   11.38   92.96    5.61  2  2  11.551  \n",
       "\n",
       "[906217 rows x 16 columns]"
      ]
     },
     "execution_count": 260,
     "metadata": {},
     "output_type": "execute_result"
    }
   ],
   "source": [
    "truth"
   ]
  },
  {
   "cell_type": "code",
   "execution_count": 263,
   "metadata": {
    "collapsed": true
   },
   "outputs": [
    {
     "data": {
      "image/png": "[encoded data removed]",
      "text/plain": [
       "<Figure size 720x432 with 1 Axes>"
      ]
     },
     "metadata": {
      "needs_background": "light"
     },
     "output_type": "display_data"
    },
    {
     "data": {
      "image/png": "[encoded data removed]",
      "text/plain": [
       "<Figure size 720x432 with 1 Axes>"
      ]
     },
     "metadata": {
      "needs_background": "light"
     },
     "output_type": "display_data"
    },
    {
     "data": {
      "image/png": "[encoded data removed]",
      "text/plain": [
       "<Figure size 720x432 with 1 Axes>"
      ]
     },
     "metadata": {
      "needs_background": "light"
     },
     "output_type": "display_data"
    },
    {
     "data": {
      "text/plain": [
       "[<matplotlib.lines.Line2D at 0x137a69fe430>]"
      ]
     },
     "execution_count": 263,
     "metadata": {},
     "output_type": "execute_result"
    },
    {
     "data": {
      "image/png": "[encoded data removed]",
      "text/plain": [
       "<Figure size 720x432 with 1 Axes>"
      ]
     },
     "metadata": {
      "needs_background": "light"
     },
     "output_type": "display_data"
    }
   ],
   "source": [
    "for col in ['DM', 'max_DM', 'max_Mr']:\n",
    "    plt.plot(halo_objects.loc[share_cols,col], halo_data.loc[share_cols, col])\n",
    "    plt.show()\n",
    "plt.plot(halo_objects.loc[share_cols,'M_r'], truth.loc[share_cols, 'Mr'])\n",
    "plt.plot(halo_objects.loc[share_cols,'DM'], truth.loc[share_cols, 'DM'])"
   ]
  },
  {
   "cell_type": "code",
   "execution_count": 276,
   "metadata": {
    "collapsed": true
   },
   "outputs": [
    {
     "data": {
      "text/plain": [
       "[363,\n",
       " 823,\n",
       " 15422,\n",
       " 23739,\n",
       " 36651,\n",
       " 41332,\n",
       " 59659,\n",
       " 63594,\n",
       " 72033,\n",
       " 75499,\n",
       " 85498,\n",
       " 95154,\n",
       " 97276,\n",
       " 100135,\n",
       " 100137,\n",
       " 134537,\n",
       " 134839,\n",
       " 141686,\n",
       " 144132,\n",
       " 159716,\n",
       " 164018,\n",
       " 165650,\n",
       " 166383,\n",
       " 168947,\n",
       " 181524,\n",
       " 183323,\n",
       " 186067,\n",
       " 187409,\n",
       " 191635,\n",
       " 194116,\n",
       " 195662,\n",
       " 196985,\n",
       " 201831,\n",
       " 230759,\n",
       " 232442,\n",
       " 234556,\n",
       " 236562,\n",
       " 236711,\n",
       " 242018,\n",
       " 272885,\n",
       " 277266,\n",
       " 296218,\n",
       " 316163,\n",
       " 316405,\n",
       " 319651,\n",
       " 349400,\n",
       " 353262,\n",
       " 372434,\n",
       " 376730,\n",
       " 378530,\n",
       " 396166,\n",
       " 402533,\n",
       " 433347,\n",
       " 444108,\n",
       " 514775,\n",
       " 517682,\n",
       " 517719,\n",
       " 517858,\n",
       " 517931,\n",
       " 518034,\n",
       " 518139,\n",
       " 518141,\n",
       " 518147,\n",
       " 518171,\n",
       " 518178,\n",
       " 518275,\n",
       " 518367,\n",
       " 518465,\n",
       " 518482,\n",
       " 518523,\n",
       " 518565,\n",
       " 518639,\n",
       " 518751,\n",
       " 518764,\n",
       " 518765,\n",
       " 518805,\n",
       " 518859,\n",
       " 519115,\n",
       " 519119,\n",
       " 519125,\n",
       " 519235,\n",
       " 519236,\n",
       " 519271,\n",
       " 519384,\n",
       " 519414,\n",
       " 519451,\n",
       " 519716,\n",
       " 519740,\n",
       " 519842,\n",
       " 519848,\n",
       " 519893,\n",
       " 519936,\n",
       " 519992,\n",
       " 519996,\n",
       " 520035,\n",
       " 520175,\n",
       " 520210,\n",
       " 520284,\n",
       " 520294,\n",
       " 520523,\n",
       " 520583,\n",
       " 520590,\n",
       " 520610,\n",
       " 520750,\n",
       " 520869,\n",
       " 520875,\n",
       " 520954,\n",
       " 520972,\n",
       " 520980,\n",
       " 520996,\n",
       " 521207,\n",
       " 521357,\n",
       " 521403,\n",
       " 521485,\n",
       " 521516,\n",
       " 521587,\n",
       " 521704,\n",
       " 521960,\n",
       " 522059,\n",
       " 522108,\n",
       " 522177,\n",
       " 522271,\n",
       " 522339,\n",
       " 522391,\n",
       " 522424,\n",
       " 522633,\n",
       " 522654,\n",
       " 522682,\n",
       " 522715,\n",
       " 522758,\n",
       " 522887,\n",
       " 522929,\n",
       " 522955,\n",
       " 523217,\n",
       " 523234,\n",
       " 523361,\n",
       " 523365,\n",
       " 523386,\n",
       " 523414,\n",
       " 523447,\n",
       " 523466,\n",
       " 523550,\n",
       " 523553,\n",
       " 523646,\n",
       " 523654,\n",
       " 523669,\n",
       " 523671,\n",
       " 523676,\n",
       " 523683,\n",
       " 523718,\n",
       " 524076,\n",
       " 524083,\n",
       " 524103,\n",
       " 524194,\n",
       " 524202,\n",
       " 524210,\n",
       " 524213,\n",
       " 524345,\n",
       " 524395,\n",
       " 524472,\n",
       " 524476,\n",
       " 524500,\n",
       " 524518,\n",
       " 524540,\n",
       " 524562,\n",
       " 524602,\n",
       " 524656,\n",
       " 524732,\n",
       " 524735,\n",
       " 524756,\n",
       " 524898,\n",
       " 524990,\n",
       " 525019,\n",
       " 525092,\n",
       " 525147,\n",
       " 525179,\n",
       " 525238,\n",
       " 525242,\n",
       " 525397,\n",
       " 525460,\n",
       " 525485,\n",
       " 525539,\n",
       " 525558,\n",
       " 525901,\n",
       " 525912,\n",
       " 526068,\n",
       " 526086,\n",
       " 526245,\n",
       " 526260,\n",
       " 526262,\n",
       " 526401,\n",
       " 526480,\n",
       " 526527,\n",
       " 526540,\n",
       " 526541,\n",
       " 526606,\n",
       " 526695,\n",
       " 526740,\n",
       " 526837,\n",
       " 526854,\n",
       " 526920,\n",
       " 527036,\n",
       " 527159,\n",
       " 527182,\n",
       " 527192,\n",
       " 527295,\n",
       " 527430,\n",
       " 527546,\n",
       " 527602,\n",
       " 527655,\n",
       " 527743,\n",
       " 527753,\n",
       " 527856,\n",
       " 527861,\n",
       " 527866,\n",
       " 528112,\n",
       " 528115,\n",
       " 528128,\n",
       " 528217,\n",
       " 528259,\n",
       " 528363,\n",
       " 528368,\n",
       " 528375,\n",
       " 528388,\n",
       " 528404,\n",
       " 528412,\n",
       " 528476,\n",
       " 528505,\n",
       " 528750,\n",
       " 528773,\n",
       " 528813,\n",
       " 528839,\n",
       " 528858,\n",
       " 528981,\n",
       " 528995,\n",
       " 529009,\n",
       " 529055,\n",
       " 529232,\n",
       " 529276,\n",
       " 529351,\n",
       " 529363,\n",
       " 529461,\n",
       " 529514,\n",
       " 529526,\n",
       " 529529,\n",
       " 529828,\n",
       " 529855,\n",
       " 529886,\n",
       " 529989,\n",
       " 530004,\n",
       " 530019,\n",
       " 530025,\n",
       " 530026,\n",
       " 530033,\n",
       " 530081,\n",
       " 530123,\n",
       " 530202,\n",
       " 530213,\n",
       " 530451,\n",
       " 530468,\n",
       " 530494,\n",
       " 530507,\n",
       " 530563,\n",
       " 530673,\n",
       " 530674,\n",
       " 530713,\n",
       " 530934,\n",
       " 531097,\n",
       " 531109,\n",
       " 531119,\n",
       " 531126,\n",
       " 531202,\n",
       " 531250,\n",
       " 531408,\n",
       " 531804,\n",
       " 531807,\n",
       " 531872,\n",
       " 531919,\n",
       " 531929,\n",
       " 531982,\n",
       " 532056,\n",
       " 532308,\n",
       " 532413,\n",
       " 532426,\n",
       " 532465,\n",
       " 532491,\n",
       " 532727,\n",
       " 532757,\n",
       " 532798,\n",
       " 532806,\n",
       " 532808,\n",
       " 532856,\n",
       " 532942,\n",
       " 533005,\n",
       " 533082,\n",
       " 533085,\n",
       " 533141,\n",
       " 533143,\n",
       " 533223,\n",
       " 533270,\n",
       " 533295,\n",
       " 533337,\n",
       " 533415,\n",
       " 533560,\n",
       " 533589,\n",
       " 533637,\n",
       " 533648,\n",
       " 533747,\n",
       " 534001,\n",
       " 534009,\n",
       " 534027,\n",
       " 534168,\n",
       " 534271,\n",
       " 534433,\n",
       " 534551,\n",
       " 534568,\n",
       " 534609,\n",
       " 534638,\n",
       " 534696,\n",
       " 534726,\n",
       " 534730,\n",
       " 534881,\n",
       " 534932,\n",
       " 535034,\n",
       " 535048,\n",
       " 535122,\n",
       " 535185,\n",
       " 535192,\n",
       " 535255,\n",
       " 535376,\n",
       " 535432,\n",
       " 535727,\n",
       " 535754,\n",
       " 535777,\n",
       " 535811,\n",
       " 535877,\n",
       " 535929,\n",
       " 536016,\n",
       " 536125,\n",
       " 536139,\n",
       " 536154,\n",
       " 536155,\n",
       " 536273,\n",
       " 536277,\n",
       " 536293,\n",
       " 536440,\n",
       " 536530,\n",
       " 536542,\n",
       " 536577,\n",
       " 536592,\n",
       " 536685,\n",
       " 536696,\n",
       " 536829,\n",
       " 536838,\n",
       " 536855,\n",
       " 536872,\n",
       " 536985,\n",
       " 537016,\n",
       " 537149,\n",
       " 537204,\n",
       " 537239,\n",
       " 537333,\n",
       " 537432,\n",
       " 537568,\n",
       " 537668,\n",
       " 537685,\n",
       " 537689,\n",
       " 537696,\n",
       " 537714,\n",
       " 537735,\n",
       " 537743,\n",
       " 537837,\n",
       " 537879,\n",
       " 537960,\n",
       " 538024,\n",
       " 538092,\n",
       " 538162,\n",
       " 538182,\n",
       " 538207,\n",
       " 538314,\n",
       " 538422,\n",
       " 538562,\n",
       " 538563,\n",
       " 538618,\n",
       " 538740,\n",
       " 538751,\n",
       " 538761,\n",
       " 538781,\n",
       " 538804,\n",
       " 538806,\n",
       " 538951,\n",
       " 538978,\n",
       " 538984,\n",
       " 539168,\n",
       " 539326,\n",
       " 539510,\n",
       " 539658,\n",
       " 539789,\n",
       " 539821,\n",
       " 540074,\n",
       " 540097,\n",
       " 540126,\n",
       " 540127,\n",
       " 540205,\n",
       " 540277,\n",
       " 540464,\n",
       " 540578,\n",
       " 540625,\n",
       " 540935,\n",
       " 541073,\n",
       " 541083,\n",
       " 541087,\n",
       " 541382,\n",
       " 541414,\n",
       " 541496,\n",
       " 541612,\n",
       " 541712,\n",
       " 541719,\n",
       " 541778,\n",
       " 541806,\n",
       " 541842,\n",
       " 541906,\n",
       " 541933,\n",
       " 542039,\n",
       " 542053,\n",
       " 542074,\n",
       " 542192,\n",
       " 542245,\n",
       " 542366,\n",
       " 542427,\n",
       " 542518,\n",
       " 542583,\n",
       " 542667,\n",
       " 542689,\n",
       " 542728,\n",
       " 542778,\n",
       " 542816,\n",
       " 542818,\n",
       " 542819,\n",
       " 542848,\n",
       " 542945,\n",
       " 543083,\n",
       " 543293,\n",
       " 543382,\n",
       " 543406,\n",
       " 543412,\n",
       " 543508,\n",
       " 543511,\n",
       " 543516,\n",
       " 543550,\n",
       " 543577,\n",
       " 543618,\n",
       " 543632,\n",
       " 543654,\n",
       " 543818,\n",
       " 543829,\n",
       " 544147,\n",
       " 544174,\n",
       " 544238,\n",
       " 544323,\n",
       " 544407,\n",
       " 544446,\n",
       " 544533,\n",
       " 544777,\n",
       " 544854,\n",
       " 544861,\n",
       " 544872,\n",
       " 544882,\n",
       " 545020,\n",
       " 545285,\n",
       " 545335,\n",
       " 545348,\n",
       " 545638,\n",
       " 545651,\n",
       " 545652,\n",
       " 545656,\n",
       " 545699,\n",
       " 545780,\n",
       " 545796,\n",
       " 545894,\n",
       " 545950,\n",
       " 545971,\n",
       " 546078,\n",
       " 546094,\n",
       " 546123,\n",
       " 546136,\n",
       " 546138,\n",
       " 546197,\n",
       " 546330,\n",
       " 546344,\n",
       " 546370,\n",
       " 546436,\n",
       " 546487,\n",
       " 546569,\n",
       " 546675,\n",
       " 546684,\n",
       " 546695,\n",
       " 546804,\n",
       " 546819,\n",
       " 546968,\n",
       " 546973,\n",
       " 547065,\n",
       " 547085,\n",
       " 547098,\n",
       " 547208,\n",
       " 547320,\n",
       " 547321,\n",
       " 547324,\n",
       " 547330,\n",
       " 547579,\n",
       " 547627,\n",
       " 547685,\n",
       " 547721,\n",
       " 547806,\n",
       " 547887,\n",
       " 547913,\n",
       " 547950,\n",
       " 547952,\n",
       " 547975,\n",
       " 548165,\n",
       " 548182,\n",
       " 548193,\n",
       " 548225,\n",
       " 548310,\n",
       " 548446,\n",
       " 548448,\n",
       " 548506,\n",
       " 548509,\n",
       " 548512,\n",
       " 548536,\n",
       " 548656,\n",
       " 548714,\n",
       " 548742,\n",
       " 548809,\n",
       " 548847,\n",
       " 548884,\n",
       " 548924,\n",
       " 548943,\n",
       " 548945,\n",
       " 548982,\n",
       " 549072,\n",
       " 549093,\n",
       " 549115,\n",
       " 549181,\n",
       " 549241,\n",
       " 549280,\n",
       " 549284,\n",
       " 549294,\n",
       " 549301,\n",
       " 549428,\n",
       " 549480,\n",
       " 549537,\n",
       " 549606,\n",
       " 549608,\n",
       " 549655,\n",
       " 549712,\n",
       " 549794,\n",
       " 549806,\n",
       " 549810,\n",
       " 549837,\n",
       " 549926,\n",
       " 549958,\n",
       " 549976,\n",
       " 550119,\n",
       " 550131,\n",
       " 550198,\n",
       " 550275,\n",
       " 550317,\n",
       " 550331,\n",
       " 550686,\n",
       " 550821,\n",
       " 550895,\n",
       " 550966,\n",
       " 551035,\n",
       " 551135,\n",
       " 551287,\n",
       " 551334,\n",
       " 551426,\n",
       " 551556,\n",
       " 551568,\n",
       " 551571,\n",
       " 551589,\n",
       " 551605,\n",
       " 551657,\n",
       " 551674,\n",
       " 551816,\n",
       " 552015,\n",
       " 552018,\n",
       " 552123,\n",
       " 552158,\n",
       " 552233,\n",
       " 552317,\n",
       " 552321,\n",
       " 552330,\n",
       " 552341,\n",
       " 552442,\n",
       " 552527,\n",
       " 552576,\n",
       " 552617,\n",
       " 552676,\n",
       " 552711,\n",
       " 552905,\n",
       " 552986,\n",
       " 553050,\n",
       " 553177,\n",
       " 553219,\n",
       " 553239,\n",
       " 553287,\n",
       " 553333,\n",
       " 553345,\n",
       " 553387,\n",
       " 553560,\n",
       " 553601,\n",
       " 553606,\n",
       " 553715,\n",
       " 553729,\n",
       " 553744,\n",
       " 553746,\n",
       " 553796,\n",
       " 553808,\n",
       " 553831,\n",
       " 553840,\n",
       " 553842,\n",
       " 553925,\n",
       " 553969,\n",
       " 554070,\n",
       " 554162,\n",
       " 554308,\n",
       " 554377,\n",
       " 554410,\n",
       " 554424,\n",
       " 554479,\n",
       " 554525,\n",
       " 554543,\n",
       " 554637,\n",
       " 554651,\n",
       " 554702,\n",
       " 554780,\n",
       " 554814,\n",
       " 554863,\n",
       " 554904,\n",
       " 554984,\n",
       " 555010,\n",
       " 555052,\n",
       " 555113,\n",
       " 555121,\n",
       " 555265,\n",
       " 555401,\n",
       " 555407,\n",
       " 555448,\n",
       " 555459,\n",
       " 555599,\n",
       " 555625,\n",
       " 555639,\n",
       " 555809,\n",
       " 555810,\n",
       " 555821,\n",
       " 555835,\n",
       " 555884,\n",
       " 555957,\n",
       " 556022,\n",
       " 556117,\n",
       " 556125,\n",
       " 556143,\n",
       " 556270,\n",
       " 556424,\n",
       " 556600,\n",
       " 556642,\n",
       " 556782,\n",
       " 556825,\n",
       " 556847,\n",
       " 556904,\n",
       " 556923,\n",
       " 557069,\n",
       " 557145,\n",
       " 557156,\n",
       " 557173,\n",
       " 557194,\n",
       " 557264,\n",
       " 557292,\n",
       " 557370,\n",
       " 557436,\n",
       " 557443,\n",
       " 557583,\n",
       " 557659,\n",
       " 557661,\n",
       " 557702,\n",
       " 557739,\n",
       " 557781,\n",
       " 557893,\n",
       " 557901,\n",
       " 557903,\n",
       " 558054,\n",
       " 558058,\n",
       " 558072,\n",
       " 558113,\n",
       " 558182,\n",
       " 558243,\n",
       " 558279,\n",
       " 558439,\n",
       " 558557,\n",
       " 558577,\n",
       " 558831,\n",
       " 558836,\n",
       " 558869,\n",
       " 558974,\n",
       " 558989,\n",
       " 559018,\n",
       " 559183,\n",
       " 559334,\n",
       " 559351,\n",
       " 559377,\n",
       " 559518,\n",
       " 559521,\n",
       " 559599,\n",
       " 559613,\n",
       " 559652,\n",
       " 559713,\n",
       " 559719,\n",
       " 559745,\n",
       " 559789,\n",
       " 559876,\n",
       " 559881,\n",
       " 559962,\n",
       " 559980,\n",
       " 560148,\n",
       " 560164,\n",
       " 560208,\n",
       " 560219,\n",
       " 560267,\n",
       " 560302,\n",
       " 560343,\n",
       " 560378,\n",
       " 560496,\n",
       " 560526,\n",
       " 560564,\n",
       " 560629,\n",
       " 560644,\n",
       " 560810,\n",
       " 560845,\n",
       " 560851,\n",
       " 560867,\n",
       " 560880,\n",
       " 560891,\n",
       " 560909,\n",
       " 561119,\n",
       " 561122,\n",
       " 561131,\n",
       " 561159,\n",
       " 561193,\n",
       " 561225,\n",
       " 561294,\n",
       " 561485,\n",
       " 561487,\n",
       " 561543,\n",
       " 561553,\n",
       " 561638,\n",
       " 561735,\n",
       " 561747,\n",
       " 561845,\n",
       " 561856,\n",
       " 561885,\n",
       " 562058,\n",
       " 562091,\n",
       " 562226,\n",
       " 562599,\n",
       " 562720,\n",
       " 562760,\n",
       " 562846,\n",
       " 563210,\n",
       " 563251,\n",
       " 563254,\n",
       " 563400,\n",
       " 563418,\n",
       " 563419,\n",
       " 563474,\n",
       " 563545,\n",
       " 563552,\n",
       " 563577,\n",
       " 563666,\n",
       " 563689,\n",
       " 563855,\n",
       " 564013,\n",
       " 564028,\n",
       " 564095,\n",
       " 564373,\n",
       " 564418,\n",
       " 564473,\n",
       " 564493,\n",
       " 564526,\n",
       " 564640,\n",
       " 564750,\n",
       " 564761,\n",
       " 564768,\n",
       " 564769,\n",
       " 564857,\n",
       " 564910,\n",
       " 564977,\n",
       " 565030,\n",
       " 565037,\n",
       " 565038,\n",
       " 565047,\n",
       " 565048,\n",
       " 565057,\n",
       " 565091,\n",
       " 565140,\n",
       " 565218,\n",
       " 565700,\n",
       " 565705,\n",
       " 565720,\n",
       " 565733,\n",
       " 565808,\n",
       " 565812,\n",
       " 565888,\n",
       " 565896,\n",
       " 565927,\n",
       " 565981,\n",
       " 565989,\n",
       " 566136,\n",
       " 566381,\n",
       " 566408,\n",
       " 566422,\n",
       " 566479,\n",
       " 566480,\n",
       " 566487,\n",
       " 566512,\n",
       " 566523,\n",
       " 566606,\n",
       " 566732,\n",
       " 566736,\n",
       " 566914,\n",
       " 566932,\n",
       " 566960,\n",
       " 567029,\n",
       " 567050,\n",
       " 567119,\n",
       " 567141,\n",
       " 567156,\n",
       " 567163,\n",
       " 567167,\n",
       " 567174,\n",
       " 567259,\n",
       " 567324,\n",
       " 567353,\n",
       " 567489,\n",
       " 567533,\n",
       " 567587,\n",
       " 567630,\n",
       " 567668,\n",
       " 567731,\n",
       " 567847,\n",
       " 567854,\n",
       " 567873,\n",
       " 567933,\n",
       " 568085,\n",
       " 568103,\n",
       " 568106,\n",
       " 568163,\n",
       " 568289,\n",
       " 568440,\n",
       " 568470,\n",
       " 568679,\n",
       " 568697,\n",
       " 568755,\n",
       " 568850,\n",
       " 568856,\n",
       " 568984,\n",
       " 568991,\n",
       " 568995,\n",
       " 568999,\n",
       " 569146,\n",
       " 569167,\n",
       " 569195,\n",
       " 569288,\n",
       " 569318,\n",
       " 569378,\n",
       " 569460,\n",
       " 569655,\n",
       " 569662,\n",
       " 569685,\n",
       " 569701,\n",
       " 569724,\n",
       " 569732,\n",
       " 569890,\n",
       " 569942,\n",
       " 569948,\n",
       " 569959,\n",
       " 569961,\n",
       " 569980,\n",
       " 570148,\n",
       " 570212,\n",
       " 570241,\n",
       " 570242,\n",
       " 570246,\n",
       " 570247,\n",
       " 570325,\n",
       " 570421,\n",
       " 570431,\n",
       " 570563,\n",
       " 570715,\n",
       " 570848,\n",
       " 570902,\n",
       " 571322,\n",
       " 571378,\n",
       " 571412,\n",
       " 571442,\n",
       " 571443,\n",
       " 571476,\n",
       " 571488,\n",
       " 571657,\n",
       " 571692,\n",
       " 571712,\n",
       " 571733,\n",
       " 571772,\n",
       " 571836,\n",
       " 572345,\n",
       " 572350,\n",
       " 572365,\n",
       " 572411,\n",
       " 572450,\n",
       " 572477,\n",
       " 572528,\n",
       " 572577,\n",
       " 572752,\n",
       " 572786,\n",
       " 572826,\n",
       " 572835,\n",
       " 572840,\n",
       " 572869,\n",
       " 572950,\n",
       " 572952,\n",
       " 573081,\n",
       " 573085,\n",
       " 573225,\n",
       " 573271,\n",
       " 573294,\n",
       " 573404,\n",
       " 573405,\n",
       " 573406,\n",
       " 573509,\n",
       " 573583,\n",
       " 573615,\n",
       " 573638,\n",
       " 573652,\n",
       " 573708,\n",
       " 573740,\n",
       " 573852,\n",
       " 574181,\n",
       " 574192,\n",
       " 574196,\n",
       " 574303,\n",
       " 574345,\n",
       " 574505,\n",
       " 574555,\n",
       " 574699,\n",
       " 574756,\n",
       " 574876,\n",
       " 574877,\n",
       " 574880,\n",
       " 574916,\n",
       " 574919,\n",
       " 575184,\n",
       " 575322,\n",
       " 575327,\n",
       " 575379,\n",
       " 575460,\n",
       " 575646,\n",
       " 575654,\n",
       " 575659,\n",
       " 575721,\n",
       " 575836,\n",
       " 575842,\n",
       " 575845,\n",
       " 575881,\n",
       " 575920,\n",
       " 575993,\n",
       " 576000,\n",
       " 576141,\n",
       " 576291,\n",
       " 576340,\n",
       " 576343,\n",
       " 576428,\n",
       " 576485,\n",
       " 576535,\n",
       " 576638,\n",
       " 576711,\n",
       " 576838,\n",
       " 576984,\n",
       " 576987,\n",
       " 577085,\n",
       " 577099,\n",
       " 577103,\n",
       " 577268,\n",
       " 577338,\n",
       " 577431,\n",
       " 577692,\n",
       " 577785,\n",
       " 577830,\n",
       " 577856,\n",
       " 577939,\n",
       " ...]"
      ]
     },
     "execution_count": 276,
     "metadata": {},
     "output_type": "execute_result"
    }
   ],
   "source": [
    "share_cols"
   ]
  },
  {
   "cell_type": "code",
   "execution_count": 289,
   "metadata": {},
   "outputs": [
    {
     "data": {
      "text/plain": [
       "array([10.        , 10.17073171, 10.34146341, 10.51219512, 10.68292683,\n",
       "       10.85365854, 11.02439024, 11.19512195, 11.36585366, 11.53658537,\n",
       "       11.70731707, 11.87804878, 12.04878049, 12.2195122 , 12.3902439 ,\n",
       "       12.56097561, 12.73170732, 12.90243902, 13.07317073, 13.24390244,\n",
       "       13.41463415, 13.58536585, 13.75609756, 13.92682927, 14.09756098,\n",
       "       14.26829268, 14.43902439, 14.6097561 , 14.7804878 , 14.95121951,\n",
       "       15.12195122, 15.29268293, 15.46341463, 15.63414634, 15.80487805,\n",
       "       15.97560976, 16.14634146, 16.31707317, 16.48780488, 16.65853659,\n",
       "       16.82926829, 17.        ])"
      ]
     },
     "execution_count": 289,
     "metadata": {},
     "output_type": "execute_result"
    }
   ],
   "source": [
    "y_fit"
   ]
  },
  {
   "cell_type": "code",
   "execution_count": 298,
   "metadata": {},
   "outputs": [],
   "source": [
    "sam_only_rows = list(halo_objects[~halo_objects.index.isin(share_cols)].index)"
   ]
  },
  {
   "cell_type": "code",
   "execution_count": 309,
   "metadata": {},
   "outputs": [],
   "source": [
    "halo_objects.drop(216660, inplace=True)"
   ]
  },
  {
   "cell_type": "code",
   "execution_count": null,
   "metadata": {},
   "outputs": [],
   "source": []
  },
  {
   "cell_type": "code",
   "execution_count": 321,
   "metadata": {
    "collapsed": true
   },
   "outputs": [
    {
     "data": {
      "text/html": [
       "<div>\n",
       "<style scoped>\n",
       "    .dataframe tbody tr th:only-of-type {\n",
       "        vertical-align: middle;\n",
       "    }\n",
       "\n",
       "    .dataframe tbody tr th {\n",
       "        vertical-align: top;\n",
       "    }\n",
       "\n",
       "    .dataframe thead th {\n",
       "        text-align: right;\n",
       "    }\n",
       "</style>\n",
       "<table border=\"1\" class=\"dataframe\">\n",
       "  <thead>\n",
       "    <tr style=\"text-align: right;\">\n",
       "      <th></th>\n",
       "      <th>DM</th>\n",
       "      <th>M_r</th>\n",
       "      <th>max_DM</th>\n",
       "      <th>max_Mr</th>\n",
       "    </tr>\n",
       "  </thead>\n",
       "  <tbody>\n",
       "    <tr>\n",
       "      <th>363</th>\n",
       "      <td>9.174685</td>\n",
       "      <td>14.952315</td>\n",
       "      <td>9.547685</td>\n",
       "      <td>15.325315</td>\n",
       "    </tr>\n",
       "    <tr>\n",
       "      <th>823</th>\n",
       "      <td>12.547563</td>\n",
       "      <td>11.433437</td>\n",
       "      <td>13.066563</td>\n",
       "      <td>11.952437</td>\n",
       "    </tr>\n",
       "    <tr>\n",
       "      <th>15422</th>\n",
       "      <td>11.160072</td>\n",
       "      <td>11.691928</td>\n",
       "      <td>12.808072</td>\n",
       "      <td>13.339928</td>\n",
       "    </tr>\n",
       "    <tr>\n",
       "      <th>23739</th>\n",
       "      <td>12.527618</td>\n",
       "      <td>11.897382</td>\n",
       "      <td>12.602618</td>\n",
       "      <td>11.972382</td>\n",
       "    </tr>\n",
       "    <tr>\n",
       "      <th>36651</th>\n",
       "      <td>12.356402</td>\n",
       "      <td>12.095598</td>\n",
       "      <td>12.404402</td>\n",
       "      <td>12.143598</td>\n",
       "    </tr>\n",
       "    <tr>\n",
       "      <th>...</th>\n",
       "      <td>...</td>\n",
       "      <td>...</td>\n",
       "      <td>...</td>\n",
       "      <td>...</td>\n",
       "    </tr>\n",
       "    <tr>\n",
       "      <th>905491</th>\n",
       "      <td>11.329291</td>\n",
       "      <td>12.373709</td>\n",
       "      <td>12.126291</td>\n",
       "      <td>13.170709</td>\n",
       "    </tr>\n",
       "    <tr>\n",
       "      <th>905563</th>\n",
       "      <td>7.278719</td>\n",
       "      <td>14.099281</td>\n",
       "      <td>10.400719</td>\n",
       "      <td>17.221281</td>\n",
       "    </tr>\n",
       "    <tr>\n",
       "      <th>905617</th>\n",
       "      <td>12.587371</td>\n",
       "      <td>11.075629</td>\n",
       "      <td>13.424371</td>\n",
       "      <td>11.912629</td>\n",
       "    </tr>\n",
       "    <tr>\n",
       "      <th>905808</th>\n",
       "      <td>9.256929</td>\n",
       "      <td>14.600071</td>\n",
       "      <td>9.899929</td>\n",
       "      <td>15.243071</td>\n",
       "    </tr>\n",
       "    <tr>\n",
       "      <th>906097</th>\n",
       "      <td>10.665765</td>\n",
       "      <td>13.098235</td>\n",
       "      <td>11.401765</td>\n",
       "      <td>13.834235</td>\n",
       "    </tr>\n",
       "  </tbody>\n",
       "</table>\n",
       "<p>6249 rows × 4 columns</p>\n",
       "</div>"
      ],
      "text/plain": [
       "               DM        M_r     max_DM     max_Mr\n",
       "363      9.174685  14.952315   9.547685  15.325315\n",
       "823     12.547563  11.433437  13.066563  11.952437\n",
       "15422   11.160072  11.691928  12.808072  13.339928\n",
       "23739   12.527618  11.897382  12.602618  11.972382\n",
       "36651   12.356402  12.095598  12.404402  12.143598\n",
       "...           ...        ...        ...        ...\n",
       "905491  11.329291  12.373709  12.126291  13.170709\n",
       "905563   7.278719  14.099281  10.400719  17.221281\n",
       "905617  12.587371  11.075629  13.424371  11.912629\n",
       "905808   9.256929  14.600071   9.899929  15.243071\n",
       "906097  10.665765  13.098235  11.401765  13.834235\n",
       "\n",
       "[6249 rows x 4 columns]"
      ]
     },
     "execution_count": 321,
     "metadata": {},
     "output_type": "execute_result"
    }
   ],
   "source": [
    "halo_objects[~halo_objects.index.isin([216660])]"
   ]
  },
  {
   "cell_type": "code",
   "execution_count": 369,
   "metadata": {},
   "outputs": [
    {
     "data": {
      "text/html": [
       "<div>\n",
       "<style scoped>\n",
       "    .dataframe tbody tr th:only-of-type {\n",
       "        vertical-align: middle;\n",
       "    }\n",
       "\n",
       "    .dataframe tbody tr th {\n",
       "        vertical-align: top;\n",
       "    }\n",
       "\n",
       "    .dataframe thead th {\n",
       "        text-align: right;\n",
       "    }\n",
       "</style>\n",
       "<table border=\"1\" class=\"dataframe\">\n",
       "  <thead>\n",
       "    <tr style=\"text-align: right;\">\n",
       "      <th></th>\n",
       "      <th>DM</th>\n",
       "      <th>Phot_Mr</th>\n",
       "      <th>max_DM</th>\n",
       "      <th>max_Mr</th>\n",
       "    </tr>\n",
       "  </thead>\n",
       "  <tbody>\n",
       "    <tr>\n",
       "      <th>636480</th>\n",
       "      <td>11.450327</td>\n",
       "      <td>12.561673</td>\n",
       "      <td>11.938327</td>\n",
       "      <td>13.049673</td>\n",
       "    </tr>\n",
       "    <tr>\n",
       "      <th>685189</th>\n",
       "      <td>11.941850</td>\n",
       "      <td>12.523150</td>\n",
       "      <td>11.976850</td>\n",
       "      <td>12.558150</td>\n",
       "    </tr>\n",
       "    <tr>\n",
       "      <th>870124</th>\n",
       "      <td>12.018114</td>\n",
       "      <td>12.155886</td>\n",
       "      <td>12.344114</td>\n",
       "      <td>12.481886</td>\n",
       "    </tr>\n",
       "  </tbody>\n",
       "</table>\n",
       "</div>"
      ],
      "text/plain": [
       "               DM    Phot_Mr     max_DM     max_Mr\n",
       "636480  11.450327  12.561673  11.938327  13.049673\n",
       "685189  11.941850  12.523150  11.976850  12.558150\n",
       "870124  12.018114  12.155886  12.344114  12.481886"
      ]
     },
     "execution_count": 369,
     "metadata": {},
     "output_type": "execute_result"
    }
   ],
   "source": [
    "halo_data[~halo_data.index.isin(share_cols)]"
   ]
  },
  {
   "cell_type": "code",
   "execution_count": 315,
   "metadata": {},
   "outputs": [],
   "source": [
    "sam_only_rows = [144296, 216660, 263028, 389058, 396681, 402531, 499324]"
   ]
  },
  {
   "cell_type": "code",
   "execution_count": 305,
   "metadata": {},
   "outputs": [
    {
     "data": {
      "text/plain": [
       "[263028, 389058, 396681, 402531, 499324]"
      ]
     },
     "execution_count": 305,
     "metadata": {},
     "output_type": "execute_result"
    }
   ],
   "source": [
    "sam_only_rows[-5:]"
   ]
  },
  {
   "cell_type": "code",
   "execution_count": 380,
   "metadata": {},
   "outputs": [],
   "source": [
    "halo_x = halo_objects['DM']\n",
    "halo_y = halo_objects['M_r']\n",
    "halo_xmax = halo_objects['max_DM']\n",
    "halo_ymax = halo_objects['max_Mr']\n",
    "\n",
    "xH, dxH, dyH, yH = bootstrap_Cminus(halo_x, halo_y, halo_xmax, halo_ymax, x_fit, y_fit, Nbootstraps=1, normalize=True)\n"
   ]
  },
  {
   "cell_type": "code",
   "execution_count": 382,
   "metadata": {},
   "outputs": [
    {
     "data": {
      "text/plain": [
       "array([nan, nan, nan, nan, nan, nan, nan, nan, nan, nan, nan, nan, nan,\n",
       "       nan, nan, nan, nan, nan, nan, nan, nan, nan, nan, nan, nan, nan,\n",
       "       nan, nan, nan, nan, nan, nan, nan, nan, nan, nan, nan, nan, nan,\n",
       "       nan, nan])"
      ]
     },
     "execution_count": 382,
     "metadata": {},
     "output_type": "execute_result"
    }
   ],
   "source": [
    "yH"
   ]
  },
  {
   "cell_type": "markdown",
   "metadata": {},
   "source": [
    "## Bug in Cminus?!?!?"
   ]
  },
  {
   "cell_type": "code",
   "execution_count": 384,
   "metadata": {},
   "outputs": [],
   "source": [
    "from astroML.lumfunc import Cminus"
   ]
  },
  {
   "cell_type": "code",
   "execution_count": 479,
   "metadata": {},
   "outputs": [],
   "source": [
    "# Set state of random generator if trying to reproduce. Skip this cell if first time.\n",
    "np.random.set_state(test_state)"
   ]
  },
  {
   "cell_type": "code",
   "execution_count": 478,
   "metadata": {},
   "outputs": [],
   "source": [
    "# Save state of the random seed before each run\n",
    "test_state = np.random.get_state()"
   ]
  },
  {
   "cell_type": "markdown",
   "metadata": {},
   "source": [
    "### run the following cell until we get a sample that breaks cminus"
   ]
  },
  {
   "cell_type": "code",
   "execution_count": 562,
   "metadata": {
    "scrolled": true
   },
   "outputs": [
    {
     "name": "stdout",
     "output_type": "stream",
     "text": [
      "> \u001b[1;32m<ipython-input-559-fe795b7fa7ce>\u001b[0m(43)\u001b[0;36mtestCminus\u001b[1;34m()\u001b[0m\n",
      "\u001b[1;32m     41 \u001b[1;33m    \u001b[0mNy\u001b[0m\u001b[1;33m[\u001b[0m\u001b[1;36m0\u001b[0m\u001b[1;33m]\u001b[0m \u001b[1;33m=\u001b[0m \u001b[0mnp\u001b[0m\u001b[1;33m.\u001b[0m\u001b[0minf\u001b[0m\u001b[1;33m\u001b[0m\u001b[1;33m\u001b[0m\u001b[0m\n",
      "\u001b[0m\u001b[1;32m     42 \u001b[1;33m    \u001b[0mpdb\u001b[0m\u001b[1;33m.\u001b[0m\u001b[0mset_trace\u001b[0m\u001b[1;33m(\u001b[0m\u001b[1;33m)\u001b[0m\u001b[1;33m\u001b[0m\u001b[1;33m\u001b[0m\u001b[0m\n",
      "\u001b[0m\u001b[1;32m---> 43 \u001b[1;33m    \u001b[0mcuml_y\u001b[0m \u001b[1;33m=\u001b[0m \u001b[0mnp\u001b[0m\u001b[1;33m.\u001b[0m\u001b[0mcumprod\u001b[0m\u001b[1;33m(\u001b[0m\u001b[1;36m1.\u001b[0m \u001b[1;33m+\u001b[0m \u001b[1;36m1.\u001b[0m \u001b[1;33m/\u001b[0m \u001b[0mNy\u001b[0m\u001b[1;33m)\u001b[0m\u001b[1;33m\u001b[0m\u001b[1;33m\u001b[0m\u001b[0m\n",
      "\u001b[0m\u001b[1;32m     44 \u001b[1;33m    \u001b[0mNy\u001b[0m\u001b[1;33m[\u001b[0m\u001b[1;36m0\u001b[0m\u001b[1;33m]\u001b[0m \u001b[1;33m=\u001b[0m \u001b[1;36m0\u001b[0m\u001b[1;33m\u001b[0m\u001b[1;33m\u001b[0m\u001b[0m\n",
      "\u001b[0m\u001b[1;32m     45 \u001b[1;33m\u001b[1;33m\u001b[0m\u001b[0m\n",
      "\u001b[0m\n",
      "ipdb> c\n"
     ]
    }
   ],
   "source": [
    "ind = np.random.randint(0, len(halo_x), len(halo_x))\n",
    "test_x = halo_x.reset_index(drop=True)[ind]\n",
    "test_y = halo_y.reset_index(drop=True)[ind]\n",
    "test_xmax = halo_xmax.reset_index(drop=True)[ind]\n",
    "test_ymax = halo_ymax.reset_index(drop=True)[ind]\n",
    "xH, yH, cuml_xH, cuml_yH = Cminus(test_x, test_y, test_xmax, test_ymax)\n"
   ]
  },
  {
   "cell_type": "code",
   "execution_count": null,
   "metadata": {},
   "outputs": [],
   "source": [
    "# save example that seems to break Cminus\n",
    "pd.DataFrame({'xH':test_x, 'yH':test_y, 'xmaxH':test_xmax, 'ymaxH':test_ymax}).to_csv('../break_cminus.csv', index=False)"
   ]
  },
  {
   "cell_type": "markdown",
   "metadata": {},
   "source": [
    "### use pdb to examine internal variables of Cminus"
   ]
  },
  {
   "cell_type": "code",
   "execution_count": null,
   "metadata": {},
   "outputs": [],
   "source": [
    "test_data = pd.read_csv('../break_cminus.csv.gz')\n",
    "x = test_data['xH']\n",
    "y = test_data['yH']\n",
    "xmax = test_data['xmaxH']\n",
    "ymax = test_data['ymaxH']\n",
    "\n",
    "xH, yH, cuml_xH, cuml_yH = testCminus(x, y, xmax, ymax)\n",
    "print(cuml_yH) # nans"
   ]
  },
  {
   "cell_type": "markdown",
   "metadata": {},
   "source": [
    "## Toy example"
   ]
  },
  {
   "cell_type": "code",
   "execution_count": 542,
   "metadata": {},
   "outputs": [],
   "source": [
    "x1, y1, xmax1, ymax1 =map(np.array, ( [10.02, 10.00], [14.97, 14.99], [10.03, 10.01], [14.98, 15.00]))"
   ]
  },
  {
   "cell_type": "code",
   "execution_count": 543,
   "metadata": {},
   "outputs": [
    {
     "data": {
      "text/plain": [
       "(array([0., 0.]), array([0., 0.]), array([ 0., nan]), array([ 0., nan]))"
      ]
     },
     "execution_count": 543,
     "metadata": {},
     "output_type": "execute_result"
    }
   ],
   "source": [
    "Cminus(x1, y1, xmax1, ymax1)"
   ]
  },
  {
   "cell_type": "markdown",
   "metadata": {},
   "source": [
    "### check that all constraints hold"
   ]
  },
  {
   "cell_type": "code",
   "execution_count": 544,
   "metadata": {},
   "outputs": [
    {
     "data": {
      "text/plain": [
       "array([25., 25.])"
      ]
     },
     "execution_count": 544,
     "metadata": {},
     "output_type": "execute_result"
    }
   ],
   "source": [
    "x1 + ymax1"
   ]
  },
  {
   "cell_type": "code",
   "execution_count": 545,
   "metadata": {},
   "outputs": [
    {
     "data": {
      "text/plain": [
       "array([25., 25.])"
      ]
     },
     "execution_count": 545,
     "metadata": {},
     "output_type": "execute_result"
    }
   ],
   "source": [
    "y1 + xmax1"
   ]
  },
  {
   "cell_type": "code",
   "execution_count": 546,
   "metadata": {
    "scrolled": true
   },
   "outputs": [
    {
     "data": {
      "text/plain": [
       "array([ True,  True])"
      ]
     },
     "execution_count": 546,
     "metadata": {},
     "output_type": "execute_result"
    }
   ],
   "source": [
    "x1 < xmax1"
   ]
  },
  {
   "cell_type": "code",
   "execution_count": 547,
   "metadata": {
    "scrolled": true
   },
   "outputs": [
    {
     "data": {
      "text/plain": [
       "array([ True,  True])"
      ]
     },
     "execution_count": 547,
     "metadata": {},
     "output_type": "execute_result"
    }
   ],
   "source": [
    "y1 < ymax1"
   ]
  },
  {
   "cell_type": "markdown",
   "metadata": {},
   "source": [
    "### add python debugger to Cminus to examine variables while running "
   ]
  },
  {
   "cell_type": "code",
   "execution_count": 559,
   "metadata": {},
   "outputs": [],
   "source": [
    "import pdb\n",
    "def testCminus(x, y, xmax, ymax):\n",
    "    \"\"\"Lynden-Bell's C-minus method\n",
    "\n",
    "    Parameters\n",
    "    ----------\n",
    "    x : array_like\n",
    "        array of x values\n",
    "    y : array_like\n",
    "        array of y values\n",
    "    xmax : array_like\n",
    "        array of maximum x values for each y value\n",
    "    ymax : array_like\n",
    "        array of maximum y values for each x value\n",
    "\n",
    "    Returns\n",
    "    -------\n",
    "    Nx, Ny, cuml_x, cuml_y: ndarrays\n",
    "        Nx and cuml_x are in the order of the sorted x array\n",
    "        Ny and cuml_y are in the order of the sorted y array\n",
    "    \"\"\"\n",
    "    # make copies of input\n",
    "    x, y, xmax, ymax = map(np.array, (x, y, xmax, ymax))\n",
    "\n",
    "    Nall = len(x)\n",
    "\n",
    "    cuml_x = np.zeros(x.shape)\n",
    "    cuml_y = np.zeros(y.shape)\n",
    "    Nx = np.zeros(x.shape)\n",
    "    Ny = np.zeros(y.shape)\n",
    "\n",
    "    # first the y direction.\n",
    "    i_sort = np.argsort(y)\n",
    "    x = x[i_sort]\n",
    "    y = y[i_sort]\n",
    "    xmax = xmax[i_sort]\n",
    "    ymax = ymax[i_sort]\n",
    "\n",
    "    for j in range(1, Nall):\n",
    "        Ny[j] = np.sum(x[:j] < xmax[j])\n",
    "    Ny[0] = np.inf\n",
    "    pdb.set_trace()\n",
    "    cuml_y = np.cumprod(1. + 1. / Ny)\n",
    "    Ny[0] = 0\n",
    "\n",
    "    # renormalize\n",
    "    cuml_y *= Nall / cuml_y[-1]\n",
    "\n",
    "    #now the x direction\n",
    "    i_sort = np.argsort(x)\n",
    "    x = x[i_sort]\n",
    "    y = y[i_sort]\n",
    "    xmax = xmax[i_sort]\n",
    "    ymax = ymax[i_sort]\n",
    "\n",
    "    for i in range(1, Nall):\n",
    "        Nx[i] = np.sum(y[:i] < ymax[i])\n",
    "    Nx[0] = np.inf\n",
    "    cuml_x = np.cumprod(1. + 1. / Nx)\n",
    "    Nx[0] = 0\n",
    "\n",
    "    # renormalize\n",
    "    cuml_x *= Nall / cuml_x[-1]\n",
    "\n",
    "    return Nx, Ny, cuml_x, cuml_y"
   ]
  },
  {
   "cell_type": "code",
   "execution_count": 271,
   "metadata": {},
   "outputs": [
    {
     "data": {
      "text/plain": [
       "Index(['ra', 'dec', 'uObs', 'uErr', 'gObs', 'gErr', 'rObs', 'rErr', 'iObs',\n",
       "       'iErr', 'zObs', 'zErr', 'yObs', 'yErr', 'piObs', 'piErr', 'muRAObs',\n",
       "       'muDecObs', 'muErr', 'SNR', 'mu', 'g-r', 'Phot_Mr', 'D(pc)'],\n",
       "      dtype='object')"
      ]
     },
     "execution_count": 271,
     "metadata": {},
     "output_type": "execute_result"
    }
   ],
   "source": [
    "ps_gold.columns"
   ]
  },
  {
   "cell_type": "markdown",
   "metadata": {},
   "source": [
    "### Resume calculations for the halo cut"
   ]
  },
  {
   "cell_type": "code",
   "execution_count": 366,
   "metadata": {},
   "outputs": [],
   "source": [
    "halo_data = ps_gold.loc[halo_mask, ['DM', 'Phot_Mr']].copy()\n",
    "halo_data['max_DM'] = r_lim - halo_data['Phot_Mr']\n",
    "halo_data['max_Mr'] = r_lim - halo_data['DM']\n",
    "\n",
    "halo_x = halo_data['DM']\n",
    "halo_y = halo_data['Phot_Mr']\n",
    "halo_xmax = halo_data['max_DM']\n",
    "halo_ymax = halo_data['max_Mr']\n",
    "\n",
    "xH_distr, xH_err, yH_distr, yH_err = bootstrap_Cminus(halo_x, halo_y, halo_xmax, halo_ymax, x_fit, y_fit, Nbootstraps=20, normalize=True)\n"
   ]
  },
  {
   "cell_type": "code",
   "execution_count": 246,
   "metadata": {},
   "outputs": [
    {
     "data": {
      "text/html": [
       "<div>\n",
       "<style scoped>\n",
       "    .dataframe tbody tr th:only-of-type {\n",
       "        vertical-align: middle;\n",
       "    }\n",
       "\n",
       "    .dataframe tbody tr th {\n",
       "        vertical-align: top;\n",
       "    }\n",
       "\n",
       "    .dataframe thead th {\n",
       "        text-align: right;\n",
       "    }\n",
       "</style>\n",
       "<table border=\"1\" class=\"dataframe\">\n",
       "  <thead>\n",
       "    <tr style=\"text-align: right;\">\n",
       "      <th></th>\n",
       "      <th>Phot_Mr</th>\n",
       "      <th>DM</th>\n",
       "      <th>max_DM</th>\n",
       "      <th>max_Mr</th>\n",
       "    </tr>\n",
       "  </thead>\n",
       "  <tbody>\n",
       "    <tr>\n",
       "      <th>363</th>\n",
       "      <td>14.948522</td>\n",
       "      <td>9.178478</td>\n",
       "      <td>9.551478</td>\n",
       "      <td>15.321522</td>\n",
       "    </tr>\n",
       "    <tr>\n",
       "      <th>823</th>\n",
       "      <td>11.432426</td>\n",
       "      <td>12.548574</td>\n",
       "      <td>13.067574</td>\n",
       "      <td>11.951426</td>\n",
       "    </tr>\n",
       "    <tr>\n",
       "      <th>15422</th>\n",
       "      <td>11.690151</td>\n",
       "      <td>11.161849</td>\n",
       "      <td>12.809849</td>\n",
       "      <td>13.338151</td>\n",
       "    </tr>\n",
       "    <tr>\n",
       "      <th>23739</th>\n",
       "      <td>11.895304</td>\n",
       "      <td>12.529696</td>\n",
       "      <td>12.604696</td>\n",
       "      <td>11.970304</td>\n",
       "    </tr>\n",
       "    <tr>\n",
       "      <th>36651</th>\n",
       "      <td>12.093449</td>\n",
       "      <td>12.358551</td>\n",
       "      <td>12.406551</td>\n",
       "      <td>12.141449</td>\n",
       "    </tr>\n",
       "    <tr>\n",
       "      <th>...</th>\n",
       "      <td>...</td>\n",
       "      <td>...</td>\n",
       "      <td>...</td>\n",
       "      <td>...</td>\n",
       "    </tr>\n",
       "    <tr>\n",
       "      <th>905491</th>\n",
       "      <td>12.371755</td>\n",
       "      <td>11.331245</td>\n",
       "      <td>12.128245</td>\n",
       "      <td>13.168755</td>\n",
       "    </tr>\n",
       "    <tr>\n",
       "      <th>905563</th>\n",
       "      <td>14.100019</td>\n",
       "      <td>7.277981</td>\n",
       "      <td>10.399981</td>\n",
       "      <td>17.222019</td>\n",
       "    </tr>\n",
       "    <tr>\n",
       "      <th>905617</th>\n",
       "      <td>11.076555</td>\n",
       "      <td>12.586445</td>\n",
       "      <td>13.423445</td>\n",
       "      <td>11.913555</td>\n",
       "    </tr>\n",
       "    <tr>\n",
       "      <th>905808</th>\n",
       "      <td>14.599066</td>\n",
       "      <td>9.257934</td>\n",
       "      <td>9.900934</td>\n",
       "      <td>15.242066</td>\n",
       "    </tr>\n",
       "    <tr>\n",
       "      <th>906097</th>\n",
       "      <td>13.097756</td>\n",
       "      <td>10.666244</td>\n",
       "      <td>11.402244</td>\n",
       "      <td>13.833756</td>\n",
       "    </tr>\n",
       "  </tbody>\n",
       "</table>\n",
       "<p>6264 rows × 4 columns</p>\n",
       "</div>"
      ],
      "text/plain": [
       "          Phot_Mr         DM     max_DM     max_Mr\n",
       "363     14.948522   9.178478   9.551478  15.321522\n",
       "823     11.432426  12.548574  13.067574  11.951426\n",
       "15422   11.690151  11.161849  12.809849  13.338151\n",
       "23739   11.895304  12.529696  12.604696  11.970304\n",
       "36651   12.093449  12.358551  12.406551  12.141449\n",
       "...           ...        ...        ...        ...\n",
       "905491  12.371755  11.331245  12.128245  13.168755\n",
       "905563  14.100019   7.277981  10.399981  17.222019\n",
       "905617  11.076555  12.586445  13.423445  11.913555\n",
       "905808  14.599066   9.257934   9.900934  15.242066\n",
       "906097  13.097756  10.666244  11.402244  13.833756\n",
       "\n",
       "[6264 rows x 4 columns]"
      ]
     },
     "execution_count": 246,
     "metadata": {},
     "output_type": "execute_result"
    }
   ],
   "source": [
    "# Spot check halo data\n",
    "halo_data[['Phot_Mr', 'DM', 'max_DM', 'max_Mr']]"
   ]
  },
  {
   "cell_type": "markdown",
   "metadata": {},
   "source": [
    "### For disk cut"
   ]
  },
  {
   "cell_type": "code",
   "execution_count": 74,
   "metadata": {},
   "outputs": [],
   "source": [
    "disk_data = ps_gold.loc[disk_mask, ['DM', 'Phot_Mr']].copy()\n",
    "disk_data['max_DM'] = r_lim - disk_data['Phot_Mr']\n",
    "disk_data['max_Mr'] = r_lim - disk_data['DM']\n",
    "\n",
    "disk_x = disk_data['DM']\n",
    "disk_y = disk_data['Phot_Mr']\n",
    "disk_xmax = disk_data['max_DM']\n",
    "disk_ymax = disk_data['max_Mr']\n",
    "\n",
    "xD_distr, xD_err, yD_distr, yD_err = bootstrap_Cminus(disk_x, disk_y, disk_xmax, disk_ymax, x_fit, y_fit, Nbootstraps=20, normalize=True)\n"
   ]
  },
  {
   "cell_type": "markdown",
   "metadata": {},
   "source": []
  },
  {
   "cell_type": "markdown",
   "metadata": {},
   "source": [
    "## Plot unnormalized Mr distribution"
   ]
  },
  {
   "cell_type": "code",
   "execution_count": 353,
   "metadata": {},
   "outputs": [
    {
     "data": {
      "text/plain": [
       "<matplotlib.legend.Legend at 0x137ac165a60>"
      ]
     },
     "execution_count": 353,
     "metadata": {},
     "output_type": "execute_result"
    },
    {
     "data": {
      "image/png": "[encoded data removed]",
      "text/plain": [
       "<Figure size 720x432 with 1 Axes>"
      ]
     },
     "metadata": {
      "needs_background": "light"
     },
     "output_type": "display_data"
    }
   ],
   "source": [
    "plt.step(y_fit[:-1], yD_distr, label='Disk', color='r')\n",
    "plt.step(y_fit[:-1], yH_distr, label='Halo', color='b')\n",
    "plt.yscale('log')\n",
    "plt.xlim([10, 17])\n",
    "plt.ylim([0.0001, 1])\n",
    "plt.title(r'$M_r\\:vs. dN/dM_r$')\n",
    "plt.xlabel(r'$M_r$')\n",
    "plt.ylabel(r'$ dN/dM_r$')\n",
    "plt.legend()"
   ]
  },
  {
   "cell_type": "markdown",
   "metadata": {},
   "source": [
    "### Plot number density as a function of distance"
   ]
  },
  {
   "cell_type": "code",
   "execution_count": 201,
   "metadata": {},
   "outputs": [],
   "source": [
    "def dm_to_D(dm):\n",
    "    return 10 ** ((dm / 5) + 1)\n",
    "\n",
    "def get_vol_elements(bins, solid_angle, method='exact', disp=False):\n",
    "    def puck_vol(distance, sa, thickness):\n",
    "        return sa * distance ** 2 * thickness\n",
    "    def cone_vol(distance, sa):\n",
    "        return 1/3 * distance ** 3 * sa \n",
    "    \n",
    "    lower_bound = bins[:-1]\n",
    "    upper_bound = bins[1:]\n",
    "    lower_bound = np.round(lower_bound, 6)\n",
    "    upper_bound = np.round(upper_bound, 6)\n",
    "    \n",
    "    if method == 'avg':\n",
    "        dVs =  0.5 * (puck_vol(lower_bound, solid_angle, upper_bound-lower_bound) + \n",
    "                      puck_vol(upper_bound, solid_angle, upper_bound-lower_bound))\n",
    "        \n",
    "    elif method == 'lower':\n",
    "        dVs = puck_vol(lower_bound, solid_angle, upper_bound-lower_bound)\n",
    "            \n",
    "    elif method == 'upper':\n",
    "        dVs = puck_vol(upper_bound, solid_angle, upper_bound-lower_bound)\n",
    "        \n",
    "    elif method == 'exact':\n",
    "        dVs = cone_vol(upper_bound, solid_angle) - cone_vol(lower_bound, solid_angle)\n",
    "    \n",
    "    if disp:\n",
    "        for ii in range(n):\n",
    "            print(f'from {lower_bound[ii]} to {upper_bound[ii]}:\\t {dVs[ii]}')\n",
    "    \n",
    "    return dVs"
   ]
  },
  {
   "cell_type": "code",
   "execution_count": 206,
   "metadata": {},
   "outputs": [],
   "source": [
    "centers = (dm_to_D(x_fit[1:] )+ dm_to_D(x_fit[:-1])) / 2\n",
    "thicknesses = dm_to_D(x_fit[1:] )- dm_to_D(x_fit[:-1])\n",
    "\n",
    "vols = centers ** 2 * .8418 * thicknesses"
   ]
  },
  {
   "cell_type": "markdown",
   "metadata": {},
   "source": [
    "### Plot unnormalized DM distribution"
   ]
  },
  {
   "cell_type": "code",
   "execution_count": 569,
   "metadata": {},
   "outputs": [
    {
     "data": {
      "text/plain": [
       "Text(0.5, 0, 'DM')"
      ]
     },
     "execution_count": 569,
     "metadata": {},
     "output_type": "execute_result"
    },
    {
     "data": {
      "image/png": "[encoded data removed]",
      "text/plain": [
       "<Figure size 720x432 with 1 Axes>"
      ]
     },
     "metadata": {
      "needs_background": "light"
     },
     "output_type": "display_data"
    }
   ],
   "source": [
    "plt.errorbar(dm_to_D(x_fit[1:]), xD_distr, label='disk', yerr=xD_err, fmt='o', capsize=4)\n",
    "plt.errorbar(dm_to_D(x_fit[1:]), xH_distr, label='halo', yerr=xH_err, fmt='o', capsize=4)\n",
    "plt.legend()\n",
    "plt.xlabel('DM')"
   ]
  },
  {
   "cell_type": "markdown",
   "metadata": {},
   "source": [
    "## Plot densities as a function of distance"
   ]
  },
  {
   "cell_type": "code",
   "execution_count": 179,
   "metadata": {
    "scrolled": false
   },
   "outputs": [
    {
     "data": {
      "image/png": "[encoded data removed]",
      "text/plain": [
       "<Figure size 1440x576 with 1 Axes>"
      ]
     },
     "metadata": {
      "needs_background": "light"
     },
     "output_type": "display_data"
    }
   ],
   "source": [
    "errorD = xD_err/get_vol_elements(dm_to_D(x_fit), 0.8418)\n",
    "errorH = xH_err/get_vol_elements(dm_to_D(x_fit), 0.8418)\n",
    "\n",
    "plt.figure(figsize=(20, 8))\n",
    "plt.errorbar(dm_to_D(x_fit[:-1]), xD_distr/get_vol_elements(dm_to_D(x_fit), .8418), errorD, fmt='o', capsize=3, color='r', label='Disk')\n",
    "\n",
    "plt.errorbar(dm_to_D(x_fit[:-1]), xH_distr/get_vol_elements(dm_to_D(x_fit), .8418), errorH, fmt='o', capsize=3, color='b', label='Halo')\n",
    "plt.yscale('log')\n",
    "plt.xlim([0, 5000])\n",
    "plt.xlabel('D(pc)')\n",
    "plt.ylabel(r'$\\rho(D)(pc^{-3})$')\n",
    "plt.title(r'$Distance\\: vs. \\rho(D)$')\n",
    "plt.legend()\n",
    "# plt.ylim([0.01, 1000])\n",
    "plt.show()"
   ]
  },
  {
   "cell_type": "markdown",
   "metadata": {},
   "source": [
    "Zeljko question\n",
    "\n",
    "One thing I noticed is that in the uncorrected M_r distribution, the distributions extend out  to Mr~17. However, when we fitted the Mr(g-r) relation, we only fit it over points out to M~16.2--its it safe to extrapolate our function Mr(g-r) out to ranges we did not fit over? We currently are dropping the rows with g-r outside of our fitted range"
   ]
  },
  {
   "cell_type": "code",
   "execution_count": 190,
   "metadata": {
    "scrolled": true
   },
   "outputs": [
    {
     "data": {
      "text/plain": [
       "363       15.321522\n",
       "823       11.951426\n",
       "15422     13.338151\n",
       "23739     11.970304\n",
       "36651     12.141449\n",
       "41332     12.482835\n",
       "59659     11.735940\n",
       "63594     11.261784\n",
       "72033     11.691084\n",
       "75499     11.069604\n",
       "85498     11.536997\n",
       "95154     11.979644\n",
       "97276     11.403142\n",
       "100135    11.213446\n",
       "100137    11.861300\n",
       "134537    11.030403\n",
       "134839    11.349022\n",
       "141686    12.128901\n",
       "144132    11.883727\n",
       "159716    10.950287\n",
       "164018    11.745125\n",
       "165650    11.381154\n",
       "166383    11.866281\n",
       "168947    11.345253\n",
       "181524    11.903907\n",
       "183323    11.114160\n",
       "186067    11.512635\n",
       "187409    10.994403\n",
       "191635    12.600879\n",
       "194116    11.103370\n",
       "195662    11.974421\n",
       "196985    11.747892\n",
       "201831    11.137965\n",
       "230759    11.469525\n",
       "232442    11.044223\n",
       "234556    12.373018\n",
       "236562    11.443161\n",
       "236711    12.037740\n",
       "242018    11.636689\n",
       "272885    11.279965\n",
       "277266    11.489022\n",
       "296218    11.565365\n",
       "316163    12.080125\n",
       "316405    11.343657\n",
       "319651    14.376246\n",
       "349400    11.566515\n",
       "353262    11.847287\n",
       "372434    12.450504\n",
       "376730    13.343611\n",
       "378530    11.774067\n",
       "Name: max_Mr, dtype: float64"
      ]
     },
     "execution_count": 190,
     "metadata": {},
     "output_type": "execute_result"
    }
   ],
   "source": [
    "halo_ymax.iloc[:50]"
   ]
  },
  {
   "cell_type": "code",
   "execution_count": 91,
   "metadata": {},
   "outputs": [
    {
     "data": {
      "text/plain": [
       "0         13.164612\n",
       "3         11.514350\n",
       "4         11.303764\n",
       "5         11.176115\n",
       "11        10.559487\n",
       "            ...    \n",
       "904938    11.938327\n",
       "905331    13.280215\n",
       "905332    12.970700\n",
       "905621    12.819015\n",
       "905690    10.396631\n",
       "Name: max_DM, Length: 166188, dtype: float64"
      ]
     },
     "execution_count": 91,
     "metadata": {},
     "output_type": "execute_result"
    }
   ],
   "source": [
    "disk_xmax"
   ]
  },
  {
   "cell_type": "markdown",
   "metadata": {},
   "source": [
    "# Old work"
   ]
  },
  {
   "cell_type": "code",
   "execution_count": 61,
   "metadata": {},
   "outputs": [],
   "source": [
    "\n",
    "\n",
    "disk_data = ps_gold.loc[disk_mask, ['DM', 'Phot_Mr']].copy()\n",
    "disk_data['max_DM'] = r_lim - disk_data['Phot_Mr']\n",
    "disk_data['max_Mr'] = r_lim - disk_data['DM']\n",
    "\n",
    "disk_x = disk_data['D(pc)']\n",
    "disk_y = disk_data['Phot_Mr']\n",
    "disk_xmax = disk_data['max_DM']\n",
    "disk_ymax = disk_data['max_Phot_Mr']\n",
    "\n",
    "xD_distr, xD_err, yD_distr, yD_err = bootstrap_Cminus(disk_x, disk_y, disk_xmax, disk_ymax, x_fit, y_fit, Nbootstraps=20, normalize=True)\n",
    "\n",
    "\n",
    "\n",
    "halo_data = ps_gold.loc[halo_mask, ['DM', 'Phot_Mr']].copy()\n",
    "halo_data['max_DM'] = r_lim - halo_data['Phot_Mr']\n",
    "halo_data['max_Mr'] = r_lim - halo_data['DM']\n",
    "\n",
    "halo_x = halo_data['D(pc)']\n",
    "halo_y = halo_data['Phot_Mr']\n",
    "halo_xmax = halo_data['max_DM']\n",
    "halo_ymax = halo_data['max_Phot_Mr']\n",
    "\n",
    "xH_distr, xH_err, yH_distr, yH_err = bootstrap_Cminus(halo_x, halo_y, halo_xmax, halo_ymax, x_fit, y_fit, Nbootstraps=20, normalize=True)\n",
    "\n",
    "# disk_Nx, disk_Ny, disk_cuml_x, disk_cuml_y = Cminus(disk_x, disk_y, disk_xmax, disk_ymax)\n",
    "\n",
    "halo = ps_gold.loc[halo_mask, ['D(pc)', 'Phot_Mr']].round({'D(pc)':-2, 'Phot_Mr':1})\n",
    "halo_max_D = halo.groupby('Phot_Mr')['D(pc)'].apply(max)\n",
    "halo_max_Mr = halo.groupby('D(pc)')['Phot_Mr'].apply(max)\n",
    "\n",
    "halo_max_D.name = 'max D(pc)'\n",
    "halo_max_Mr.name = 'max Phot_Mr'\n",
    "\n",
    "halo_data = halo.merge(halo_max_D, left_on='Phot_Mr', right_index=True).merge(halo_max_Mr, left_on='D(pc)', right_index=True)\n",
    "\n",
    "halo_x = halo_data['D(pc)']\n",
    "halo_y = halo_data['Phot_Mr']\n",
    "halo_xmax = halo_data['max_DM']\n",
    "halo_ymax = halo_data['max_Mr']\n",
    "\n",
    "halo_Nx, halo_Ny, halo_cuml_x, halo_cuml_y = Cminus(halo_x, halo_y, halo_xmax, halo_ymax)"
   ]
  },
  {
   "cell_type": "code",
   "execution_count": 63,
   "metadata": {},
   "outputs": [
    {
     "data": {
      "text/plain": [
       "[<matplotlib.lines.Line2D at 0x2d8be03ea90>]"
      ]
     },
     "execution_count": 63,
     "metadata": {},
     "output_type": "execute_result"
    },
    {
     "data": {
      "image/png": "[encoded data removed]",
      "text/plain": [
       "<Figure size 720x432 with 1 Axes>"
      ]
     },
     "metadata": {
      "needs_background": "light"
     },
     "output_type": "display_data"
    }
   ],
   "source": [
    "plt.semilogy(halo_y.sort_values(), halo_Ny)\n",
    "plt.semilogy(disk_y.sort_values(), disk_Ny)"
   ]
  },
  {
   "cell_type": "code",
   "execution_count": 64,
   "metadata": {},
   "outputs": [
    {
     "data": {
      "text/plain": [
       "[<matplotlib.lines.Line2D at 0x2d8b2edf1f0>]"
      ]
     },
     "execution_count": 64,
     "metadata": {},
     "output_type": "execute_result"
    },
    {
     "data": {
      "image/png": "[encoded data removed]",
      "text/plain": [
       "<Figure size 720x432 with 1 Axes>"
      ]
     },
     "metadata": {
      "needs_background": "light"
     },
     "output_type": "display_data"
    }
   ],
   "source": [
    "plt.semilogy(halo_x.sort_values(), halo_Nx)\n",
    "plt.semilogy(disk_x.sort_values(), disk_Nx)"
   ]
  },
  {
   "cell_type": "markdown",
   "metadata": {},
   "source": [
    "Plot your results in a log(Φ) vs. Mr diagram (with error bars!), and overplot the true luminosity function listed in files WDlumfuncDisk.dat and WDlumfuncHalo.dat (the differential LF listed in the second column is expressed as the number of stars per pc3 and mag; the LFs are slightly inconsistent with the Harris et al. due to a bug in simulations but, importantly, they do correspond to the “true” LFs for the simulated sample). "
   ]
  },
  {
   "cell_type": "code",
   "execution_count": null,
   "metadata": {},
   "outputs": [],
   "source": []
  },
  {
   "cell_type": "markdown",
   "metadata": {},
   "source": [
    "Comment on (dis)agreement between your Φ and the true Φ (which was used to generate the simulated sample). IMPORTANT - YOU NEED TO FIX A BUG: Divide the halo Φ from file WDlumfuncHalo.dat by 200 to get a proper normalization in units of stars per pc3 and mag"
   ]
  },
  {
   "cell_type": "code",
   "execution_count": null,
   "metadata": {},
   "outputs": [],
   "source": []
  },
  {
   "cell_type": "code",
   "execution_count": null,
   "metadata": {},
   "outputs": [],
   "source": []
  },
  {
   "cell_type": "code",
   "execution_count": null,
   "metadata": {},
   "outputs": [],
   "source": []
  },
  {
   "cell_type": "code",
   "execution_count": null,
   "metadata": {},
   "outputs": [],
   "source": []
  },
  {
   "cell_type": "code",
   "execution_count": null,
   "metadata": {},
   "outputs": [],
   "source": []
  },
  {
   "cell_type": "code",
   "execution_count": null,
   "metadata": {},
   "outputs": [],
   "source": [
    "disk = ps_gold.loc[disk_mask, ['D(pc)', 'Phot_Mr']].round({'D(pc)':-2, 'Phot_Mr':1})\n",
    "disk_max_D = disk.groupby('Phot_Mr')['D(pc)'].apply(max)\n",
    "disk_max_Mr = disk.groupby('D(pc)')['Phot_Mr'].apply(max)\n",
    "\n",
    "disk_max_D.name = 'max D(pc)'\n",
    "disk_max_Mr.name = 'max Phot_Mr'\n",
    "\n",
    "disk_data = disk.merge(disk_max_D, left_on='Phot_Mr', right_index=True).merge(disk_max_Mr, left_on='D(pc)', right_index=True)\n",
    "\n",
    "disk_x = disk_data['D(pc)']\n",
    "disk_y = disk_data['Phot_Mr']\n",
    "disk_xmax = disk_data['max D(pc)']\n",
    "disk_ymax = disk_data['max Phot_Mr']\n",
    "\n",
    "disk_Nx, disk_Ny, disk_cuml_x, disk_cuml_y = Cminus(disk_x, disk_y, disk_xmax, disk_ymax)\n",
    "\n",
    "halo = ps_gold.loc[halo_mask, ['D(pc)', 'Phot_Mr']].round({'D(pc)':-2, 'Phot_Mr':1})\n",
    "halo_max_D = halo.groupby('Phot_Mr')['D(pc)'].apply(max)\n",
    "halo_max_Mr = halo.groupby('D(pc)')['Phot_Mr'].apply(max)\n",
    "\n",
    "halo_max_D.name = 'max D(pc)'\n",
    "halo_max_Mr.name = 'max Phot_Mr'\n",
    "\n",
    "halo_data = halo.merge(halo_max_D, left_on='Phot_Mr', right_index=True).merge(halo_max_Mr, left_on='D(pc)', right_index=True)\n",
    "\n",
    "halo_x = halo_data['D(pc)']\n",
    "halo_y = halo_data['Phot_Mr']\n",
    "halo_xmax = halo_data['max D(pc)']\n",
    "halo_ymax = halo_data['max Phot_Mr']\n",
    "\n",
    "halo_Nx, halo_Ny, halo_cuml_x, halo_cuml_y = Cminus(halo_x, halo_y, halo_xmax, halo_ymax)"
   ]
  },
  {
   "cell_type": "code",
   "execution_count": 64,
   "metadata": {},
   "outputs": [
    {
     "data": {
      "text/plain": [
       "<matplotlib.collections.PathCollection at 0x137837fae20>"
      ]
     },
     "execution_count": 64,
     "metadata": {},
     "output_type": "execute_result"
    },
    {
     "data": {
      "image/png": "[encoded data removed]",
      "text/plain": [
       "<Figure size 720x432 with 1 Axes>"
      ]
     },
     "metadata": {
      "needs_background": "light"
     },
     "output_type": "display_data"
    }
   ],
   "source": [
    "# (x, y) -> (DM, Phot_Mr)\n",
    "plt.scatter(ps_gold.loc[disk_mask, 'D(pc)'], ps_gold.loc[disk_mask, 'Phot_Mr'])"
   ]
  },
  {
   "cell_type": "code",
   "execution_count": 59,
   "metadata": {},
   "outputs": [
    {
     "data": {
      "text/plain": [
       "<matplotlib.collections.PathCollection at 0x13782dcad30>"
      ]
     },
     "execution_count": 59,
     "metadata": {},
     "output_type": "execute_result"
    },
    {
     "data": {
      "image/png": "[encoded data removed]",
      "text/plain": [
       "<Figure size 720x432 with 1 Axes>"
      ]
     },
     "metadata": {
      "needs_background": "light"
     },
     "output_type": "display_data"
    }
   ],
   "source": [
    "plt.scatter(ps_gold.loc[halo_mask, 'D(pc)'], ps_gold.loc[halo_mask, 'Phot_Mr'])"
   ]
  },
  {
   "cell_type": "code",
   "execution_count": null,
   "metadata": {},
   "outputs": [],
   "source": [
    "def get_Dmax_from_M(r_lim, Mr):\n",
    "    return 10 ** ((r_lim - Mr) / 5 + 1)\n",
    "\n",
    "def get_Mmax_from_D(r_lim, D):\n",
    "    return r_lim - 5 * np.log10(D / 10)"
   ]
  }
 ],
 "metadata": {
  "kernelspec": {
   "display_name": "Python 3",
   "language": "python",
   "name": "python3"
  },
  "language_info": {
   "codemirror_mode": {
    "name": "ipython",
    "version": 3
   },
   "file_extension": ".py",
   "mimetype": "text/x-python",
   "name": "python",
   "nbconvert_exporter": "python",
   "pygments_lexer": "ipython3",
   "version": "3.8.3"
  }
 },
 "nbformat": 4,
 "nbformat_minor": 4
}
