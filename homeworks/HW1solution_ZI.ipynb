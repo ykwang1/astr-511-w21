{
 "cells": [
  {
   "cell_type": "code",
   "execution_count": 20,
   "metadata": {},
   "outputs": [],
   "source": [
    "import numpy as np\n",
    "from matplotlib import pyplot as plt\n",
    "from astropy.table import Table\n",
    "import pandas as pd"
   ]
  },
  {
   "cell_type": "code",
   "execution_count": 21,
   "metadata": {},
   "outputs": [],
   "source": [
    "def file2df(file):\n",
    "    with open(file, 'r') as ff:\n",
    "        line = ff.readline()\n",
    "        cols = line.strip('#').split()\n",
    "    return pd.read_csv(file, comment='#', delim_whitespace=True, names=cols)"
   ]
  },
  {
   "cell_type": "code",
   "execution_count": 22,
   "metadata": {},
   "outputs": [
    {
     "name": "stdout",
     "output_type": "stream",
     "text": [
      "13 s ± 309 ms per loop (mean ± std. dev. of 7 runs, 1 loop each)\n"
     ]
    }
   ],
   "source": [
    "%timeit data = Table.read('Astr511HW1data.dat', format='ascii')"
   ]
  },
  {
   "cell_type": "code",
   "execution_count": 23,
   "metadata": {},
   "outputs": [
    {
     "name": "stdout",
     "output_type": "stream",
     "text": [
      "1.78 s ± 26.8 ms per loop (mean ± std. dev. of 7 runs, 1 loop each)\n"
     ]
    }
   ],
   "source": [
    "%timeit df = file2df('Astr511HW1data.dat')"
   ]
  },
  {
   "cell_type": "code",
   "execution_count": 51,
   "metadata": {},
   "outputs": [],
   "source": [
    "#  pandas wins over astropy Table by about a factor of 7! \n",
    "df['ug'] = df['u'] - df['g'] \n",
    "df['gr'] = df['g'] - df['r'] "
   ]
  },
  {
   "cell_type": "code",
   "execution_count": 57,
   "metadata": {},
   "outputs": [],
   "source": [
    "# photometric metallicity\n",
    "def FeHpoly(x, y):\n",
    "    # basic mapping from Ivezic++2008\n",
    "    A, B, C, D, E, F, G, H, I, J = -13.13, 14.09, 28.04, -5.51, -5.90, -58.68, 9.14, -20.61, 0.0, 58.20 \n",
    "    return A+B*x+C*y+D*x*y+E*x**2+F*y**2+G*x**2*y+H*x*y**2+I*x**3+J*y**3\n",
    "    \n",
    "def FeHpoly2(x, y):\n",
    "    # try dot product \n",
    "    C = np.array([-13.13, 14.09, 28.04, -5.51, -5.90, -58.68, 9.14, -20.61, 0.0, 58.20])  \n",
    "    A = np.array([1, x, y, x*y, x**2, y**2, x**2*y, x*y**2, x**3, y**3]) \n",
    "    return np.dot(C, A)  \n",
    "\n",
    "# set default FeH for red stars\n",
    "def photomFeH(ug, gr, grCutRed=0.6, redFeHdefault=-0.6):\n",
    "    return np.where(gr > grCutRed, redFeHdefault, FeHpoly(ug, gr))\n",
    "\n",
    "# like photomFeH but using dot product instead of explicit polynomial \n",
    "def photomFeH2(ug, gr, grCutRed=0.6, redFeHdefault=-0.6):\n",
    "    return np.where(gr > grCutRed, redFeHdefault, FeHpoly2(ug, gr))\n",
    "\n",
    "# it's always a good idea to control extremes...\n",
    "def limitRange(vec, min, max):\n",
    "    vec[vec < min] = min\n",
    "    vec[vec > max] = max\n",
    "    return vec"
   ]
  },
  {
   "cell_type": "code",
   "execution_count": 58,
   "metadata": {},
   "outputs": [],
   "source": [
    "def SlowMetallicity(x, y):\n",
    "    A, B, C, D, E, F, G, H, I, J = -13.13, 14.09, 28.04, -5.51, -5.90, -58.68, 9.14, -20.61, 0.0, 58.20 \n",
    "    \n",
    "    Fe_H = -0.6*np.ones(len(y)) # set default to -0.6 \n",
    "    for i in range(len(y)):\n",
    "        if y[i] < 0.6: \n",
    "            Fe_H[i] = A + B*x[i] + C*y[i] + D*x[i]*y[i] + E*x[i]**2 + F*y[i]**2 + G*x[i]**2*y[i] + H*x[i]*y[i]**2 + I*x[i]**3 + J*y[i]**3\n",
    "    \n",
    "    return Fe_H"
   ]
  },
  {
   "cell_type": "code",
   "execution_count": 73,
   "metadata": {},
   "outputs": [],
   "source": [
    "def getMainSequenceDistanceKpc(gi,FeH,r): \n",
    "    \"\"\"Get stellar distance in kpc\"\"\"\n",
    "\n",
    "    # valid for 0.2 < g-i < 4.0 and -2.5 < FeH < 0.2\n",
    "    Mr = getMainSequenceAbsMag(gi,FeH)\n",
    "    # distance in kpc\n",
    "    Dkpc = 0.01 * 10**(0.2*(r-Mr))\n",
    "    return Dkpc\n",
    "\n",
    "def getMainSequenceAbsMag(gi,FeH): \n",
    "    \"\"\"Get absolute magnitude for main sequence stars using eqs. 2, 5, and 7 from\n",
    "       Ivezic et al. 2008 (ApJ, 684, 287)\"\"\"\n",
    "\n",
    "    # valid for 0.2 < g-i < 4.0 \n",
    "    Mr0 = -5.06 + 14.32*gi - 12.97*gi**2 + 6.127*gi**3 - 1.267*gi**4 + 0.0967*gi**5\n",
    "    # offset for metallicity, valid for -2.5 < FeH < 0.2\n",
    "    Mr = Mr0 + 4.50 - 1.11*FeH - 0.18*FeH**2\n",
    "    return Mr"
   ]
  },
  {
   "cell_type": "code",
   "execution_count": 65,
   "metadata": {},
   "outputs": [
    {
     "name": "stdout",
     "output_type": "stream",
     "text": [
      "31.1 ms ± 718 µs per loop (mean ± std. dev. of 7 runs, 10 loops each)\n"
     ]
    }
   ],
   "source": [
    "# FeH limited to -2.5 to 0.5 range\n",
    "%timeit FeHfast = photomFeH(df['ug'], df['gr']) "
   ]
  },
  {
   "cell_type": "code",
   "execution_count": 66,
   "metadata": {},
   "outputs": [
    {
     "name": "stdout",
     "output_type": "stream",
     "text": [
      "230 ms ± 7.03 ms per loop (mean ± std. dev. of 7 runs, 1 loop each)\n"
     ]
    }
   ],
   "source": [
    "# try dot product (as Jess and Ed did)\n",
    "%timeit FeHfast2 = photomFeH2(df['ug'], df['gr']) "
   ]
  },
  {
   "cell_type": "code",
   "execution_count": 67,
   "metadata": {},
   "outputs": [
    {
     "name": "stdout",
     "output_type": "stream",
     "text": [
      "24.8 s ± 117 ms per loop (mean ± std. dev. of 7 runs, 1 loop each)\n"
     ]
    }
   ],
   "source": [
    "# demonstrate how awfully slow python loop is \n",
    "%timeit FeHslow = SlowMetallicity(df['ug'], df['gr']) "
   ]
  },
  {
   "cell_type": "code",
   "execution_count": 68,
   "metadata": {},
   "outputs": [],
   "source": [
    "# fast version is faster than slow version about 75 times! dot product slower about 8 times than fast version"
   ]
  },
  {
   "cell_type": "code",
   "execution_count": 71,
   "metadata": {},
   "outputs": [],
   "source": [
    "# and the winner is: \n",
    "df['FeH'] = limitRange(photomFeH(df['ug'], df['gr']), -2.5, 0.5)"
   ]
  },
  {
   "cell_type": "code",
   "execution_count": 74,
   "metadata": {},
   "outputs": [],
   "source": [
    "def doAstr511HW1(df):\n",
    "    \"\"\"Make a four-panel plot for Astr511 homework #1\"\"\"\n",
    "\n",
    "    # for consistency with old code\n",
    "    ug = df['ug']\n",
    "    gr = df['gr']\n",
    "    r = df['r']\n",
    "    gi = df['g']-df['i']\n",
    "    FeH = df['FeH']\n",
    "    Dkpc = getMainSequenceDistanceKpc(gi,FeH,r)\n",
    "\n",
    "    # get bin centers and ln(rho) from a vector of distances\n",
    "    def getLNrho(D):\n",
    "        # dN/dD \n",
    "        hist, bins = np.histogram(D, bins=250)\n",
    "        # here we need to go from counts per D bin to volume density\n",
    "        # rho = dN / dV = dN/dD * dD/dV,\n",
    "        # where dV/dD = (dOmega/Asky) * 4pi * Dmean^2  \n",
    "        # area of the full sky: Asky = 41,253 sq.deg. \n",
    "        # dOmega for this dataset: dOmega = 314 sq.deg. \n",
    "        dVdD = 314.0/41253 * 4*np.pi*(bins[1:]**2+bins[:-1]**2)/2\n",
    "        rho = hist / dVdD     \n",
    "        LNhist = np.log((1+rho))\n",
    "        center = (bins[:-1]+bins[1:])/2\n",
    "        # width = 0.7*(bins[1]-bins[0])\n",
    "        return center, LNhist\n",
    "\n",
    "    def plotBin(D, gr, grMin, grMax, ax, histcolor):\n",
    "        mask = ((gr>grMin) & (gr<=grMax)) \n",
    "        Dkpc1 = D[mask]\n",
    "        center, LNhist = getLNrho(Dkpc1)\n",
    "        ax.plot(center, LNhist, drawstyle='steps', color=histcolor)   \n",
    "\n",
    "    # \n",
    "    plot_kwargs = dict(color='k', linestyle='none', marker='.', markersize=1)\n",
    "    plt.subplots_adjust(bottom=0.1, top=0.93,\n",
    "                    left=0.1, right=0.9, wspace=0.3, hspace=0.5)\n",
    "\n",
    "    # 1) for stars with 0.2<g-r<0.4, plot ln[rho(Z)] \n",
    "    ax1 = plt.subplot(221)\n",
    "    mask = ((gr>0.2) & (gr<0.4)) \n",
    "    Dkpc1 = Dkpc[mask]\n",
    "    print('all:', np.size(Dkpc), '0.2<g-r<0.4:', np.size(Dkpc1))\n",
    "    # for problem 5: see p. 4 in http://faculty.washington.edu/ivezic/Teaching/Astr511/lec5.pdf\n",
    "    Dok = Dkpc1[(Dkpc1>4.8)&(Dkpc1<5.2)] \n",
    "    print('there are', np.size(Dok), 'blue stars between 4.8 kpc and 5.2 kpc')\n",
    "    center, LNhist = getLNrho(Dkpc1)\n",
    "    # plot \n",
    "    ax1.plot(center, LNhist, drawstyle='steps', color='blue')   \n",
    "    ax1.set_xlim(0, 25)\n",
    "    ax1.set_ylim(2, 11)\n",
    "    ax1.set_xlabel(r'$\\mathrm{D (kpc)}$')\n",
    "    ax1.set_ylabel(r'$\\mathrm{ln[\\rho(D)]}$')\n",
    "    ax1.set_title('0.2<g-r<0.4')\n",
    "    # the limit of data trustworthiness\n",
    "    ax1.plot([10, 10], [4, 10], '--k')\n",
    "    ax1.text(4.0, 3.0, r'good', ha='left', va='top')\n",
    "    ax1.text(12.0, 3.0, r'bad', ha='left', va='top')\n",
    " \n",
    "    # 2) as in 1), but for four g-r bins (0.2-0.4, 0.4-0.6, 0.6-0.8, 0.8-1.0)\n",
    "    ax2 = plt.subplot(222)\n",
    "    # color bins\n",
    "    plotBin(Dkpc, gr, 0.2, 0.4, ax2, 'blue')\n",
    "    plotBin(Dkpc, gr, 0.4, 0.6, ax2, 'red')\n",
    "    plotBin(Dkpc, gr, 0.6, 0.8, ax2, 'green')\n",
    "    plotBin(Dkpc, gr, 0.8, 1.0, ax2, 'black')\n",
    "    # \n",
    "    ax2.set_xlim(0, 25)\n",
    "    ax2.set_ylim(2, 11)\n",
    "    ax2.set_xlabel(r'$\\mathrm{D (kpc)}$')\n",
    "    ax2.set_ylabel(r'$\\mathrm{ln[\\rho(D)]}$')\n",
    "    ax2.set_title('Four g-r bins')\n",
    "\n",
    "\n",
    "    # 3) as in 1), but separately for [Fe/H] < -1, and [Fe/H] > -1\n",
    "    ax3 = plt.subplot(223)\n",
    "    mask = (FeH<=-1.0) \n",
    "    Dlow = Dkpc[mask]\n",
    "    plotBin(Dlow, gr, 0.2, 0.4, ax3, 'blue')\n",
    "    mask = (FeH>-1.0) \n",
    "    Dhigh = Dkpc[mask]\n",
    "    plotBin(Dhigh, gr, 0.2, 0.4, ax3, 'red')\n",
    "    # \n",
    "    ax3.set_xlim(0, 25)\n",
    "    ax3.set_ylim(1, 10)\n",
    "    ax3.set_xlabel(r'$\\mathrm{D (kpc)}$')\n",
    "    ax3.set_ylabel(r'$\\mathrm{ln[\\rho(D)]}$')\n",
    "    ax3.set_title('0.2<g-r<0.4 and [Fe/H]<,> -1')\n",
    "\n",
    "\n",
    "    # 4) plot r histograms for the two subsamples from 3) \n",
    "    ax4 = plt.subplot(224)\n",
    "    mask = ((gr>0.2) & (gr<0.4) & (FeH<-1.0)) \n",
    "    r1 = r[mask]\n",
    "    ax4.hist(r1, bins=20, log=True, histtype='step', color='blue')\n",
    "    mask = ((gr>0.2) & (gr<0.4) & (FeH>-1.0))\n",
    "    r1 = r[mask]\n",
    "    ax4.hist(r1, bins=20, log=True, histtype='step', color='red')\n",
    "    # \n",
    "    ax4.set_xlim(13, 22)\n",
    "    ax4.set_ylim(100, 20000)\n",
    "    ax4.set_xlabel(r'$\\mathrm{r}$')\n",
    "    ax4.set_ylabel(r'$\\mathrm{dN/dr}$')\n",
    "    ax4.set_title('0.2<g-r<0.4 and [Fe/H]<,> -1')\n",
    "\n",
    "    plt.show()\n",
    "    plt.savefig('HW1_figure1.png')"
   ]
  },
  {
   "cell_type": "code",
   "execution_count": 75,
   "metadata": {},
   "outputs": [
    {
     "name": "stdout",
     "output_type": "stream",
     "text": [
      "all: 576801 0.2<g-r<0.4: 107673\n",
      "there are 2588 blue stars between 4.8 kpc and 5.2 kpc\n"
     ]
    },
    {
     "data": {
      "image/png": "[encoded data removed]",
      "text/plain": [
       "<Figure size 432x288 with 4 Axes>"
      ]
     },
     "metadata": {
      "needs_background": "light"
     },
     "output_type": "display_data"
    },
    {
     "data": {
      "text/plain": [
       "<Figure size 432x288 with 0 Axes>"
      ]
     },
     "metadata": {},
     "output_type": "display_data"
    }
   ],
   "source": [
    "doAstr511HW1(df)"
   ]
  },
  {
   "cell_type": "code",
   "execution_count": null,
   "metadata": {},
   "outputs": [],
   "source": []
  }
 ],
 "metadata": {
  "kernelspec": {
   "display_name": "Python 3",
   "language": "python",
   "name": "python3"
  },
  "language_info": {
   "codemirror_mode": {
    "name": "ipython",
    "version": 3
   },
   "file_extension": ".py",
   "mimetype": "text/x-python",
   "name": "python",
   "nbconvert_exporter": "python",
   "pygments_lexer": "ipython3",
   "version": "3.8.3"
  }
 },
 "nbformat": 4,
 "nbformat_minor": 2
}
