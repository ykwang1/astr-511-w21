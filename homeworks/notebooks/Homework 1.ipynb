{
 "cells": [
  {
   "cell_type": "code",
   "execution_count": 1,
   "metadata": {},
   "outputs": [],
   "source": [
    "%matplotlib inline\n",
    "import matplotlib.pyplot as plt\n",
    "plt.rc('image', origin='lower')\n",
    "plt.rc('figure', figsize=(10, 6))"
   ]
  },
  {
   "cell_type": "code",
   "execution_count": 2,
   "metadata": {},
   "outputs": [],
   "source": [
    "import pandas as pd\n",
    "import numpy as np\n",
    "import astropy.units as u\n",
    "from matplotlib.colors import LogNorm\n",
    "from scipy.optimize import curve_fit"
   ]
  },
  {
   "cell_type": "markdown",
   "metadata": {},
   "source": [
    "## Read data as pd DataFrame"
   ]
  },
  {
   "cell_type": "code",
   "execution_count": 3,
   "metadata": {},
   "outputs": [],
   "source": [
    "with open('../Astr511HW1data.dat', 'r') as ff:\n",
    "    line1 = ff.readline()\n",
    "    cols = line1.strip('#').split()\n",
    "\n",
    "df = pd.read_csv('../Astr511HW1data.dat', comment='#', delim_whitespace=True, names=cols)"
   ]
  },
  {
   "cell_type": "code",
   "execution_count": 4,
   "metadata": {},
   "outputs": [
    {
     "name": "stdout",
     "output_type": "stream",
     "text": [
      "<class 'pandas.core.frame.DataFrame'>\n",
      "RangeIndex: 576801 entries, 0 to 576800\n",
      "Data columns (total 17 columns):\n",
      " #   Column  Non-Null Count   Dtype  \n",
      "---  ------  --------------   -----  \n",
      " 0   ra      576801 non-null  float64\n",
      " 1   dec     576801 non-null  float64\n",
      " 2   run     576801 non-null  int64  \n",
      " 3   Ar      576801 non-null  float64\n",
      " 4   u       576801 non-null  float64\n",
      " 5   g       576801 non-null  float64\n",
      " 6   r       576801 non-null  float64\n",
      " 7   i       576801 non-null  float64\n",
      " 8   z       576801 non-null  float64\n",
      " 9   uErr    576801 non-null  float64\n",
      " 10  gErr    576801 non-null  float64\n",
      " 11  rErr    576801 non-null  float64\n",
      " 12  iErr    576801 non-null  float64\n",
      " 13  zErr    576801 non-null  float64\n",
      " 14  pmL     576801 non-null  float64\n",
      " 15  pmB     576801 non-null  float64\n",
      " 16  pmErr   576801 non-null  float64\n",
      "dtypes: float64(16), int64(1)\n",
      "memory usage: 74.8 MB\n"
     ]
    }
   ],
   "source": [
    "df.info()"
   ]
  },
  {
   "cell_type": "code",
   "execution_count": 5,
   "metadata": {},
   "outputs": [
    {
     "data": {
      "text/html": [
       "<div>\n",
       "<style scoped>\n",
       "    .dataframe tbody tr th:only-of-type {\n",
       "        vertical-align: middle;\n",
       "    }\n",
       "\n",
       "    .dataframe tbody tr th {\n",
       "        vertical-align: top;\n",
       "    }\n",
       "\n",
       "    .dataframe thead th {\n",
       "        text-align: right;\n",
       "    }\n",
       "</style>\n",
       "<table border=\"1\" class=\"dataframe\">\n",
       "  <thead>\n",
       "    <tr style=\"text-align: right;\">\n",
       "      <th></th>\n",
       "      <th>ra</th>\n",
       "      <th>dec</th>\n",
       "      <th>run</th>\n",
       "      <th>Ar</th>\n",
       "      <th>u</th>\n",
       "      <th>g</th>\n",
       "      <th>r</th>\n",
       "      <th>i</th>\n",
       "      <th>z</th>\n",
       "      <th>uErr</th>\n",
       "      <th>gErr</th>\n",
       "      <th>rErr</th>\n",
       "      <th>iErr</th>\n",
       "      <th>zErr</th>\n",
       "      <th>pmL</th>\n",
       "      <th>pmB</th>\n",
       "      <th>pmErr</th>\n",
       "    </tr>\n",
       "  </thead>\n",
       "  <tbody>\n",
       "    <tr>\n",
       "      <th>0</th>\n",
       "      <td>181.61220</td>\n",
       "      <td>27.57260</td>\n",
       "      <td>5087</td>\n",
       "      <td>0.05</td>\n",
       "      <td>16.40</td>\n",
       "      <td>15.24</td>\n",
       "      <td>14.80</td>\n",
       "      <td>14.73</td>\n",
       "      <td>14.69</td>\n",
       "      <td>0.02</td>\n",
       "      <td>0.02</td>\n",
       "      <td>0.02</td>\n",
       "      <td>0.02</td>\n",
       "      <td>0.01</td>\n",
       "      <td>5.16</td>\n",
       "      <td>-1.45</td>\n",
       "      <td>2.72</td>\n",
       "    </tr>\n",
       "    <tr>\n",
       "      <th>1</th>\n",
       "      <td>181.61303</td>\n",
       "      <td>27.60770</td>\n",
       "      <td>5087</td>\n",
       "      <td>0.05</td>\n",
       "      <td>21.84</td>\n",
       "      <td>19.55</td>\n",
       "      <td>18.40</td>\n",
       "      <td>18.04</td>\n",
       "      <td>17.79</td>\n",
       "      <td>0.18</td>\n",
       "      <td>0.02</td>\n",
       "      <td>0.02</td>\n",
       "      <td>0.02</td>\n",
       "      <td>0.02</td>\n",
       "      <td>5.48</td>\n",
       "      <td>4.73</td>\n",
       "      <td>3.16</td>\n",
       "    </tr>\n",
       "    <tr>\n",
       "      <th>2</th>\n",
       "      <td>181.61416</td>\n",
       "      <td>27.35956</td>\n",
       "      <td>5112</td>\n",
       "      <td>0.05</td>\n",
       "      <td>19.76</td>\n",
       "      <td>17.56</td>\n",
       "      <td>16.61</td>\n",
       "      <td>16.23</td>\n",
       "      <td>16.07</td>\n",
       "      <td>0.03</td>\n",
       "      <td>0.01</td>\n",
       "      <td>0.02</td>\n",
       "      <td>0.03</td>\n",
       "      <td>0.03</td>\n",
       "      <td>3.14</td>\n",
       "      <td>7.92</td>\n",
       "      <td>2.79</td>\n",
       "    </tr>\n",
       "    <tr>\n",
       "      <th>3</th>\n",
       "      <td>181.61640</td>\n",
       "      <td>27.82464</td>\n",
       "      <td>5112</td>\n",
       "      <td>0.06</td>\n",
       "      <td>21.73</td>\n",
       "      <td>20.63</td>\n",
       "      <td>20.19</td>\n",
       "      <td>19.99</td>\n",
       "      <td>20.04</td>\n",
       "      <td>0.16</td>\n",
       "      <td>0.03</td>\n",
       "      <td>0.03</td>\n",
       "      <td>0.03</td>\n",
       "      <td>0.13</td>\n",
       "      <td>19.13</td>\n",
       "      <td>-1.08</td>\n",
       "      <td>5.08</td>\n",
       "    </tr>\n",
       "    <tr>\n",
       "      <th>4</th>\n",
       "      <td>181.62112</td>\n",
       "      <td>28.01623</td>\n",
       "      <td>5087</td>\n",
       "      <td>0.05</td>\n",
       "      <td>21.37</td>\n",
       "      <td>20.38</td>\n",
       "      <td>20.11</td>\n",
       "      <td>20.05</td>\n",
       "      <td>19.87</td>\n",
       "      <td>0.11</td>\n",
       "      <td>0.04</td>\n",
       "      <td>0.03</td>\n",
       "      <td>0.03</td>\n",
       "      <td>0.09</td>\n",
       "      <td>-3.65</td>\n",
       "      <td>-8.00</td>\n",
       "      <td>4.91</td>\n",
       "    </tr>\n",
       "  </tbody>\n",
       "</table>\n",
       "</div>"
      ],
      "text/plain": [
       "          ra       dec   run    Ar      u      g      r      i      z  uErr  \\\n",
       "0  181.61220  27.57260  5087  0.05  16.40  15.24  14.80  14.73  14.69  0.02   \n",
       "1  181.61303  27.60770  5087  0.05  21.84  19.55  18.40  18.04  17.79  0.18   \n",
       "2  181.61416  27.35956  5112  0.05  19.76  17.56  16.61  16.23  16.07  0.03   \n",
       "3  181.61640  27.82464  5112  0.06  21.73  20.63  20.19  19.99  20.04  0.16   \n",
       "4  181.62112  28.01623  5087  0.05  21.37  20.38  20.11  20.05  19.87  0.11   \n",
       "\n",
       "   gErr  rErr  iErr  zErr    pmL   pmB  pmErr  \n",
       "0  0.02  0.02  0.02  0.01   5.16 -1.45   2.72  \n",
       "1  0.02  0.02  0.02  0.02   5.48  4.73   3.16  \n",
       "2  0.01  0.02  0.03  0.03   3.14  7.92   2.79  \n",
       "3  0.03  0.03  0.03  0.13  19.13 -1.08   5.08  \n",
       "4  0.04  0.03  0.03  0.09  -3.65 -8.00   4.91  "
      ]
     },
     "execution_count": 5,
     "metadata": {},
     "output_type": "execute_result"
    }
   ],
   "source": [
    "df.head()"
   ]
  },
  {
   "cell_type": "markdown",
   "metadata": {},
   "source": [
    "## Calculate Metalliticites Fe/H\n",
    "\n",
    "\\begin{equation}\n",
    "[Fe/H] = A + Bx + Cy + Dxy + Ex^2 + Fy^2 + Gx^2y + Hxy^2 + Ix^3 + Jy^3\n",
    "\\end{equation}\n",
    "$x = (u - g) \\\\\n",
    "y = (g - r) \\\\\n",
    "(A - J) = (-13.13, 14.09, 28.04, -5.51, -5.90, -58.68, 9.14, -20.61, 0.0, 58.20)$"
   ]
  },
  {
   "cell_type": "code",
   "execution_count": 6,
   "metadata": {},
   "outputs": [],
   "source": [
    "df['x'] = df['u'] - df['g']\n",
    "df['y'] = df['g'] - df['r']\n",
    "\n",
    "coeff = (-13.13, 14.09, 28.04, -5.51, -5.90, -58.68, 9.14, -20.61, 0.0, 58.20)\n",
    "A, B, C, D, E, F, G, H, I, J = coeff\n",
    "\n",
    "metallicity = lambda x, y: A + B*x + C*y + D*x*y + E*x**2 + F*y**2 + G*x**2*y + H*x*y**2 + I*x**3 + J*y**3\n",
    "\n",
    "df['Fe/H'] = -0.6\n",
    "df.loc[(df['y'] < 0.6), 'Fe/H'] = metallicity(df.loc[(df['y'] < 0.6), 'x'], df.loc[(df['y'] < 0.6), 'y'])"
   ]
  },
  {
   "cell_type": "markdown",
   "metadata": {},
   "source": [
    "## Calculate Absolute Mag in r from Fe/H and g - r\n",
    "\n",
    "#### Fiducial Abs Mag in r $M^0_r$\n",
    "A7\n",
    "\\begin{equation}\n",
    "M^0_r (g - i) = -5.06 + 14.32x - 12.97x^2 + 6.127x^3 - 1.267x^4 + 0.0967x^5\n",
    "\\end{equation}\n",
    "\n",
    "#### Metalicity Correction $\\Delta M_r$\n",
    "A2\n",
    "\\begin{equation}\n",
    "\\Delta M_r([Fe/H]) = 4.50 - 1.11 [Fe/H] - 0.18[Fe/H]^2\n",
    "\\end{equation}\n",
    "\n",
    "#### Fitted Abs Mag in r $M_r$\n",
    "A3\n",
    "\\begin{equation}\n",
    "M_r(g - i, [Fe/H]) = M^0_r (g - i) + \\Delta M_r([Fe/H])\n",
    "\\end{equation}\n",
    "\n",
    "\n"
   ]
  },
  {
   "cell_type": "code",
   "execution_count": 7,
   "metadata": {},
   "outputs": [],
   "source": [
    "# A2\n",
    "df['DelMr'] = 4.50 - 1.11 * df['Fe/H'] - 0.18 * df['Fe/H'] ** 2\n",
    "\n",
    "# A7\n",
    "fiducial_M_r = lambda x: -5.06 + 14.32*x - 12.97*x**2 + 6.127*x**3 - 1.267*x**4 + 0.0967*x**5\n",
    "df['FidcMr'] = fiducial_M_r(df['g'] - df['i'])\n",
    "\n",
    "# A3\n",
    "df['Mr'] = df['FidcMr'] + df['DelMr']"
   ]
  },
  {
   "cell_type": "markdown",
   "metadata": {},
   "source": [
    "## Calculate Z, distance above galactic plane\n",
    "\n",
    "For distance from galactic plane Z\n",
    "\n",
    "We assume \n",
    "\n",
    "$Z = D$\n",
    "\n",
    "and \n",
    "\n",
    "$r - M_r = 5 * log(D/(10pc))$\n",
    "\n",
    "Solving for D:\n",
    "\n",
    "$D = 10^{0.2 * (r - M_r) + 1} pc$\n"
   ]
  },
  {
   "cell_type": "code",
   "execution_count": 8,
   "metadata": {},
   "outputs": [],
   "source": [
    "df['Z'] = 10 ** ((df['r'] - df['Mr']) / 5) * 10  # pc\n",
    "df['Z(kpc)'] = df['Z'] / 1000"
   ]
  },
  {
   "cell_type": "markdown",
   "metadata": {},
   "source": [
    "## Problem 1\n",
    "For stars with $0.2 < g - r < 0.4$, plot $ln(\\rho)$ vs. $Z$ where $\\rho$ is the stellar number density in a given bin, Approximate \n",
    "\n",
    "$\\rho(Z) = N(Z) / V(Z)$\n",
    "\n",
    "where N is the number of stars in a given bin, V is the bin volume."
   ]
  },
  {
   "cell_type": "code",
   "execution_count": 9,
   "metadata": {},
   "outputs": [],
   "source": [
    "gr24 = df.loc[((df['g'] - df['r']) < 0.4) & ((df['g'] - df['r']) > 0.2)]"
   ]
  },
  {
   "cell_type": "code",
   "execution_count": 10,
   "metadata": {},
   "outputs": [],
   "source": [
    "sa = (314 * u.deg **2).to(u.sr).value"
   ]
  },
  {
   "cell_type": "code",
   "execution_count": 11,
   "metadata": {},
   "outputs": [],
   "source": [
    "# Helper functions\n",
    "\n",
    "def get_vol_elements(n, bin_size, bin_start, solid_angle, method='avg', disp=False):\n",
    "    def puck_vol(distance, sa, thickness):\n",
    "        return sa * distance ** 2 * thickness\n",
    "    def cone_vol(distance, sa):\n",
    "        return 1/3 * distance ** 3 * sa \n",
    "    \n",
    "    lower_bound = np.arange(bin_start, round(bin_size * n + bin_start, 6), bin_size)\n",
    "    upper_bound = np.arange(bin_start + bin_size, round(bin_size * (n + 1) + bin_start, 6), bin_size)\n",
    "    lower_bound = np.round(lower_bound, 6)\n",
    "    upper_bound = np.round(upper_bound, 6)\n",
    "    \n",
    "    if method == 'avg':\n",
    "        dVs =  0.5 * (puck_vol(lower_bound, solid_angle, bin_size) + \n",
    "                      puck_vol(upper_bound, solid_angle, bin_size))\n",
    "        \n",
    "    elif method == 'lower':\n",
    "        dVs = puck_vol(lower_bound, solid_angle, bin_size)\n",
    "            \n",
    "    elif method == 'upper':\n",
    "        dVs = puck_vol(upper_bound, solid_angle, bin_size)\n",
    "        \n",
    "    elif method == 'exact':\n",
    "        dVs = cone_vol(upper_bound, solid_angle) - cone_vol(lower_bound, solid_angle)\n",
    "    \n",
    "    if disp:\n",
    "        for ii in range(n):\n",
    "            print(f'from {lower_bound[ii]} to {upper_bound[ii]}:\\t {dVs[ii]}')\n",
    "    \n",
    "    return dVs\n",
    "    \n",
    "def get_star_counts(distance_arr, n, bin_size, bin_start, disp_table=False):\n",
    "    bounds =  np.arange(bin_start, round(bin_size * (n + 1) + bin_start, 6), bin_size)\n",
    "    bounds = np.round(bounds, 6)\n",
    "    counts, bins = np.histogram(distance_arr, bins=bounds)\n",
    "    if disp_table:\n",
    "        for ii in range(n):\n",
    "            print(f'from {bounds[ii]} to {bounds[ii+1]}:\\t {counts[ii]}')\n",
    "    return counts\n",
    "       \n",
    "def plot_dens_hist(n, bin_size, bin_start, distance_arr, label, func=np.log, return_vals=False):\n",
    "    sa = (314 * u.deg **2).to(u.sr).value\n",
    "    V = get_vol_elements(n, bin_size, bin_start, sa)\n",
    "    N = get_star_counts(distance_arr, n, bin_size, bin_start)\n",
    "    bounds =  np.arange(bin_start, round(bin_size * n + bin_start, 6), bin_size)\n",
    "    bounds = np.round(bounds, 6)\n",
    "    plt.step(bounds, func(N/V), label=label)\n",
    "    if return_vals == True:\n",
    "        return bounds, N, N/V"
   ]
  },
  {
   "cell_type": "code",
   "execution_count": 12,
   "metadata": {
    "scrolled": true
   },
   "outputs": [
    {
     "data": {
      "text/plain": [
       "array([0.97435897, 0.98666667, 0.99186992, 0.99453552, 0.99607843,\n",
       "       0.99705015, 0.99770115, 0.99815838, 0.9984917 , 0.99874214,\n",
       "       0.99893504, 0.99908676, 0.99920823, 0.999307  , 0.99938838,\n",
       "       0.99945623, 0.99951338, 0.99956198, 0.99960365, 0.99963964,\n",
       "       0.99967094, 0.99969834, 0.99972245, 0.99974379, 0.99976275,\n",
       "       0.99977969, 0.99979487, 0.99980854, 0.99982088, 0.99983207,\n",
       "       0.99984225, 0.99985152, 0.99986   , 0.99986778, 0.99987492,\n",
       "       0.9998815 , 0.99988758, 0.9998932 , 0.9998984 , 0.99990324])"
      ]
     },
     "execution_count": 12,
     "metadata": {},
     "output_type": "execute_result"
    }
   ],
   "source": [
    "(get_vol_elements(40, 0.4, 0.8, sa, 'exact') / get_vol_elements(40, 0.4, 0.8, sa, 'avg'))"
   ]
  },
  {
   "cell_type": "code",
   "execution_count": 13,
   "metadata": {
    "scrolled": true
   },
   "outputs": [
    {
     "name": "stdout",
     "output_type": "stream",
     "text": [
      "from 0.8 to 1.2:\t 2102\n",
      "from 1.2 to 1.6:\t 3235\n",
      "from 1.6 to 2.0:\t 3409\n",
      "from 2.0 to 2.4:\t 3307\n",
      "from 2.4 to 2.8:\t 3194\n",
      "from 2.8 to 3.2:\t 2879\n",
      "from 3.2 to 3.6:\t 2792\n",
      "from 3.6 to 4.0:\t 2640\n",
      "from 4.0 to 4.4:\t 2657\n",
      "from 4.4 to 4.8:\t 2676\n",
      "from 4.8 to 5.2:\t 2590\n",
      "from 5.2 to 5.6:\t 2687\n",
      "from 5.6 to 6.0:\t 2713\n",
      "from 6.0 to 6.4:\t 2799\n",
      "from 6.4 to 6.8:\t 2834\n",
      "from 6.8 to 7.2:\t 2804\n",
      "from 7.2 to 7.6:\t 2942\n",
      "from 7.6 to 8.0:\t 2938\n",
      "from 8.0 to 8.4:\t 3050\n",
      "from 8.4 to 8.8:\t 3004\n"
     ]
    },
    {
     "data": {
      "text/plain": [
       "array([2102, 3235, 3409, 3307, 3194, 2879, 2792, 2640, 2657, 2676, 2590,\n",
       "       2687, 2713, 2799, 2834, 2804, 2942, 2938, 3050, 3004], dtype=int64)"
      ]
     },
     "execution_count": 13,
     "metadata": {},
     "output_type": "execute_result"
    }
   ],
   "source": [
    "get_star_counts(gr24['Z(kpc)'], 20, .4, .8, disp_table=True)"
   ]
  },
  {
   "cell_type": "code",
   "execution_count": 14,
   "metadata": {
    "scrolled": false
   },
   "outputs": [
    {
     "data": {
      "image/png": "[encoded data removed]",
      "text/plain": [
       "<Figure size 720x432 with 1 Axes>"
      ]
     },
     "metadata": {
      "needs_background": "light"
     },
     "output_type": "display_data"
    }
   ],
   "source": [
    "plt.title('Log Density vs. Z')\n",
    "plot_dens_hist(n=25, bin_size=1, bin_start=1, label='', distance_arr=gr24['Z(kpc)'])\n",
    "plt.xlabel('Z [kpc]')\n",
    "plt.ylabel(r'$ln(\\rho(Z)) [kpc^{-3}]$')\n",
    "plt.show()"
   ]
  },
  {
   "cell_type": "markdown",
   "metadata": {},
   "source": [
    "#### How far out do we trust our estimates for?"
   ]
  },
  {
   "cell_type": "code",
   "execution_count": 17,
   "metadata": {
    "scrolled": false
   },
   "outputs": [
    {
     "data": {
      "text/plain": [
       "<matplotlib.legend.Legend at 0x21383a64fa0>"
      ]
     },
     "execution_count": 17,
     "metadata": {},
     "output_type": "execute_result"
    },
    {
     "data": {
      "image/png": "[encoded data removed]",
      "text/plain": [
       "<Figure size 720x432 with 1 Axes>"
      ]
     },
     "metadata": {
      "needs_background": "light"
     },
     "output_type": "display_data"
    }
   ],
   "source": [
    "SDSS_maglim=22.5\n",
    "\n",
    "plt.scatter(gr24['Z(kpc)'], gr24['Mr'], label='Stars', marker='.', s=0.5)\n",
    "plt.axvline(5, label='Z = 5', color='r', linestyle='--')\n",
    "plt.axvline(10, label='Z = 10', color='r')\n",
    "# plt.plot(np.linspace(1, 100, 1001), -5 * np.log(np.linspace(1, 100, 1001)/10) - SDSS_maglim)\n",
    "plt.legend()"
   ]
  },
  {
   "cell_type": "markdown",
   "metadata": {},
   "source": [
    "Based on the plot above, we become flux limited at some distance between $Z = 5$ and $Z = 10$. Thus I would only trust our densities for $Z \\leq 7$ or so."
   ]
  },
  {
   "cell_type": "markdown",
   "metadata": {},
   "source": [
    "## Problem 2"
   ]
  },
  {
   "cell_type": "code",
   "execution_count": 19,
   "metadata": {},
   "outputs": [],
   "source": [
    "g_r_bounds = [(round(x, 2), round(x+.2, 2)) for x in np.arange(0.2, 1, 0.2)]"
   ]
  },
  {
   "cell_type": "code",
   "execution_count": 20,
   "metadata": {
    "scrolled": false
   },
   "outputs": [
    {
     "data": {
      "image/png": "[encoded data removed]",
      "text/plain": [
       "<Figure size 720x432 with 1 Axes>"
      ]
     },
     "metadata": {
      "needs_background": "light"
     },
     "output_type": "display_data"
    }
   ],
   "source": [
    "plt.figure()\n",
    "plt.title('Stellar Number Density')\n",
    "for lower, upper in g_r_bounds:\n",
    "    dists = df.loc[((df['g'] - df['r']) < upper) & ((df['g'] - df['r']) > lower), 'Z(kpc)']\n",
    "    label = f\"{lower} < g - r < {upper}\"\n",
    "    plot_dens_hist(n=30, bin_size=1, bin_start=1, distance_arr=dists, label=label, func=lambda x: x)\n",
    "plt.yscale('log')\n",
    "plt.xlabel(r'Distance ($kpc$)')\n",
    "plt.ylabel(r'Density ($kpc^{-3}$)')\n",
    "plt.legend()\n",
    "plt.show()"
   ]
  },
  {
   "cell_type": "markdown",
   "metadata": {},
   "source": [
    "Redder stars (higher g - r values) are generally dimmer. Thus the reddest stars in our sample tend to be the dimmest and we undercount them fairly early kpc, as the main sequence stars in those colors become flux-limited.\n",
    "\n",
    "Our photometric metalicity relation does not work well for very red stars (see Bond et al. 2010). Thus we use \\[Fe/H\\] = -0.6 for stars redder than g - r > 0.6. This estimate is more precise for stars between 0.6 < g - r < 0.8 than for stars with 0.8 < g - r < 1.0."
   ]
  },
  {
   "cell_type": "code",
   "execution_count": 38,
   "metadata": {},
   "outputs": [
    {
     "data": {
      "text/plain": [
       "<matplotlib.axes._subplots.AxesSubplot at 0x2138d7d79d0>"
      ]
     },
     "execution_count": 38,
     "metadata": {},
     "output_type": "execute_result"
    },
    {
     "data": {
      "image/png": "[encoded data removed]",
      "text/plain": [
       "<Figure size 720x432 with 1 Axes>"
      ]
     },
     "metadata": {
      "needs_background": "light"
     },
     "output_type": "display_data"
    }
   ],
   "source": [
    "df['Fe/H'].hist(bins=20)"
   ]
  },
  {
   "cell_type": "markdown",
   "metadata": {},
   "source": [
    "## Problem 3"
   ]
  },
  {
   "cell_type": "code",
   "execution_count": 15,
   "metadata": {
    "scrolled": true
   },
   "outputs": [
    {
     "data": {
      "image/png": "[encoded data removed]",
      "text/plain": [
       "<Figure size 720x432 with 1 Axes>"
      ]
     },
     "metadata": {
      "needs_background": "light"
     },
     "output_type": "display_data"
    }
   ],
   "source": [
    "plt.figure()\n",
    "plt.title('Log Stellar Number Density for Segmented by Metalicity')\n",
    "low_sample = gr24.loc[gr24['Fe/H'] < -1]\n",
    "high_sample = gr24.loc[gr24['Fe/H'] > -1]\n",
    "\n",
    "plot_dens_hist(30, 1, 1, low_sample.loc[:, 'Z(kpc)'], 'Low: Fe/H < -1', func=np.log)\n",
    "plot_dens_hist(30, 1, 1, high_sample.loc[:, 'Z(kpc)'], 'High: Fe/H > -1', func=np.log)\n",
    "# plt.yscale('log')\n",
    "plt.xlabel(r'Z ($kpc$)')\n",
    "plt.ylabel(r'$ln(\\rho(Z))$')\n",
    "plt.legend()\n",
    "plt.show()"
   ]
  },
  {
   "cell_type": "markdown",
   "metadata": {},
   "source": [
    "It appears that past Z~5 kpc, we become dominated by low metalicity stars. Thus it appears that most halo stars are low metallicity, which may have to do with the fact that they formed fairly long ago. \n",
    "\n",
    "At around Z~20kpc, our sample becomes dominated by high metallicity stars again. One possible explanation for this is that we are heavily biased toward the brightest stars in this sample, and thus are oversampling younger, brighter, and higher metallicity stars "
   ]
  },
  {
   "cell_type": "code",
   "execution_count": 22,
   "metadata": {
    "scrolled": true
   },
   "outputs": [
    {
     "name": "stderr",
     "output_type": "stream",
     "text": [
      "<ipython-input-22-7681d702a684>:1: SettingWithCopyWarning: \n",
      "A value is trying to be set on a copy of a slice from a DataFrame.\n",
      "Try using .loc[row_indexer,col_indexer] = value instead\n",
      "\n",
      "See the caveats in the documentation: https://pandas.pydata.org/pandas-docs/stable/user_guide/indexing.html#returning-a-view-versus-a-copy\n",
      "  low_sample['g_r'] = low_sample['g'] - low_sample['r']\n",
      "<ipython-input-22-7681d702a684>:2: SettingWithCopyWarning: \n",
      "A value is trying to be set on a copy of a slice from a DataFrame.\n",
      "Try using .loc[row_indexer,col_indexer] = value instead\n",
      "\n",
      "See the caveats in the documentation: https://pandas.pydata.org/pandas-docs/stable/user_guide/indexing.html#returning-a-view-versus-a-copy\n",
      "  high_sample['g_r'] = high_sample['g'] - high_sample['r']\n"
     ]
    }
   ],
   "source": [
    "low_sample['g_r'] = low_sample['g'] - low_sample['r']\n",
    "high_sample['g_r'] = high_sample['g'] - high_sample['r']"
   ]
  },
  {
   "cell_type": "code",
   "execution_count": 23,
   "metadata": {},
   "outputs": [],
   "source": [
    "# Explore high vs low metallicity for certain Z\n",
    "\n",
    "# low_sample.loc[low_sample['Z(kpc)'] > 10, 'Mr'].hist(label='low')\n",
    "# high_sample.loc[high_sample['Z(kpc)'] > 10, 'Mr'].hist(alpha=.5, label='high')\n",
    "# plt.legend()\n",
    "\n",
    "# low_sample.loc[low_sample['Z(kpc)'] > 20, 'g_r'].hist(label='low')\n",
    "# high_sample.loc[high_sample['Z(kpc)'] > 20, 'g_r'].hist(alpha=.5, label='high')\n",
    "\n",
    "\n",
    "# low_sample.loc[low_sample['Z(kpc)'] > 30, 'g_r'].hist(label='low')\n",
    "# high_sample.loc[high_sample['Z(kpc)'] > 30, 'g_r'].hist(alpha=.5, label='high')\n",
    "# plt.legend()"
   ]
  },
  {
   "cell_type": "markdown",
   "metadata": {},
   "source": [
    "## Problem 4"
   ]
  },
  {
   "cell_type": "code",
   "execution_count": 16,
   "metadata": {},
   "outputs": [],
   "source": [
    "low_counts, low_Mr = np.histogram(low_sample['r'], bins=np.linspace(14,21, 29))\n",
    "high_counts, high_Mr = np.histogram(high_sample['r'], bins=np.linspace(14, 21, 29))"
   ]
  },
  {
   "cell_type": "code",
   "execution_count": 18,
   "metadata": {},
   "outputs": [
    {
     "data": {
      "text/plain": [
       "<matplotlib.legend.Legend at 0x1a9816924c0>"
      ]
     },
     "execution_count": 18,
     "metadata": {},
     "output_type": "execute_result"
    },
    {
     "data": {
      "image/png": "[encoded data removed]",
      "text/plain": [
       "<Figure size 720x432 with 1 Axes>"
      ]
     },
     "metadata": {
      "needs_background": "light"
     },
     "output_type": "display_data"
    }
   ],
   "source": [
    "plt.title('r-band Magnitude distributions for stars 0.2 < g - r < 0.4')\n",
    "plt.step(low_Mr[:-1], np.log10(low_counts), label='[Fe/H] < -1')\n",
    "plt.step(high_Mr[:-1], np.log10(high_counts), label='[Fe/H] > -1')\n",
    "plt.legend()"
   ]
  },
  {
   "cell_type": "markdown",
   "metadata": {},
   "source": [
    "Our sample of higher metalicity stars appears to be bimodal, while lower metalicity stars drop off more consistently with respsect to apparent magnitude. "
   ]
  },
  {
   "cell_type": "markdown",
   "metadata": {},
   "source": [
    "## Problem 5"
   ]
  },
  {
   "cell_type": "markdown",
   "metadata": {},
   "source": [
    "In order to not be flux limited out to 100kpc, we would need a telescope that could detect stars of absolute magnitude ~6.5 in the r band. This corresponds to apparent magnitude of:"
   ]
  },
  {
   "cell_type": "code",
   "execution_count": 20,
   "metadata": {},
   "outputs": [
    {
     "name": "stdout",
     "output_type": "stream",
     "text": [
      "r = 26.5\n"
     ]
    }
   ],
   "source": [
    "r = 6.5 + 5 * np.log10(100000 / 10)\n",
    "print(f\"r = {r}\")"
   ]
  },
  {
   "cell_type": "markdown",
   "metadata": {},
   "source": [
    "Steps for estimating stars with 0.2 < g - r < 0.4 at 90-100kpc:\n",
    "\n",
    "1. Determine distance (upper bound on Z) at which stars in this band become flux limited\n",
    "2. Determine distance that we begin to be dominated by halo stars (lower bound on Z)\n",
    "3. Calculate distance from the galactic center assuming we are 8.0kpc from the center and using the Pythagorian Theorem: $R^ 2 = (8.0 kpc)^2 + Z^2$\n",
    "4. Fit distance, density relation with a $\\rho \\propto \\frac{1}{R^n}$ relation.\n",
    "5. Use the fit to extrapolate to distances between 90 and 100 kpc."
   ]
  },
  {
   "cell_type": "code",
   "execution_count": 41,
   "metadata": {},
   "outputs": [
    {
     "data": {
      "text/plain": [
       "<matplotlib.colorbar.Colorbar at 0x2138e38c280>"
      ]
     },
     "execution_count": 41,
     "metadata": {},
     "output_type": "execute_result"
    },
    {
     "data": {
      "image/png": "[encoded data removed]",
      "text/plain": [
       "<Figure size 720x432 with 2 Axes>"
      ]
     },
     "metadata": {
      "needs_background": "light"
     },
     "output_type": "display_data"
    }
   ],
   "source": [
    "h = plt.hist2d(gr24['Z(kpc)'], gr24['Mr'], label='Stars', bins=100, norm=LogNorm(), range=[[0, 20], [2, 7]])\n",
    "plt.colorbar(h[3])"
   ]
  },
  {
   "cell_type": "markdown",
   "metadata": {},
   "source": [
    "It appears flux limiting occurs around Z~7\n",
    "\n",
    "Additionally, we set Z ~ 4 to be the edge of the disk (See appendix A)"
   ]
  },
  {
   "cell_type": "code",
   "execution_count": 341,
   "metadata": {},
   "outputs": [
    {
     "name": "stderr",
     "output_type": "stream",
     "text": [
      "<ipython-input-341-918f1f72bd21>:3: SettingWithCopyWarning: \n",
      "A value is trying to be set on a copy of a slice from a DataFrame.\n",
      "Try using .loc[row_indexer,col_indexer] = value instead\n",
      "\n",
      "See the caveats in the documentation: https://pandas.pydata.org/pandas-docs/stable/user_guide/indexing.html#returning-a-view-versus-a-copy\n",
      "  non_limited['R_gc'] = np.sqrt(non_limited['Z(kpc)'] ** 2 + 8.0 ** 2)\n"
     ]
    }
   ],
   "source": [
    "Z_min, Z_max = 4, 7\n",
    "non_limited = gr24.loc[(gr24['Z(kpc)'] > Z_min) & (gr24['Z(kpc)'] < Z_max)]\n",
    "non_limited['R_gc'] = np.sqrt(non_limited['Z(kpc)'] ** 2 + 8.0 ** 2)\n",
    "\n",
    "# print(non_limited['R_gc'].min(), non_limited['R_gc'].max())\n",
    "# Rmin, Rmax = non_limited['R_gc'].min(), non_limited['R_gc'].max()"
   ]
  },
  {
   "cell_type": "code",
   "execution_count": 342,
   "metadata": {
    "scrolled": false
   },
   "outputs": [
    {
     "data": {
      "image/png": "[encoded data removed]",
      "text/plain": [
       "<Figure size 720x432 with 1 Axes>"
      ]
     },
     "metadata": {
      "needs_background": "light"
     },
     "output_type": "display_data"
    }
   ],
   "source": [
    "nsteps = 30\n",
    "step_size = (Z_max - Z_min)/nsteps\n",
    "dist_Z, num, dens = plot_dens_hist(nsteps, step_size, Z_min, non_limited['Z(kpc)'], label='', return_vals=True)"
   ]
  },
  {
   "cell_type": "code",
   "execution_count": 343,
   "metadata": {},
   "outputs": [],
   "source": [
    "def R_to_Z(R):\n",
    "    # pdb.set_trace()\n",
    "    R = np.array([max(x, 8) for x in R])\n",
    "    Z2 = np.array([R ** 2 - 8 ** 2])\n",
    "    return np.sqrt(Z2)[0]\n",
    "\n",
    "def Z_to_R(Z):\n",
    "    return np.sqrt(Z ** 2 + 8 ** 2)"
   ]
  },
  {
   "cell_type": "code",
   "execution_count": 344,
   "metadata": {},
   "outputs": [
    {
     "data": {
      "text/plain": [
       "array([ 8.94427191,  8.98943825,  9.0354856 ,  9.08240056,  9.13016977,\n",
       "        9.17877988,  9.2282176 ,  9.2784697 ,  9.32952303,  9.38136451,\n",
       "        9.43398113,  9.48736001,  9.54148835,  9.59635347,  9.65194281,\n",
       "        9.70824392,  9.76524449,  9.82293235,  9.88129546,  9.94032193,\n",
       "       10.        , 10.06031809, 10.12126474, 10.18282868, 10.24499878,\n",
       "       10.30776406, 10.37111373, 10.43503713, 10.4995238 , 10.56456341])"
      ]
     },
     "execution_count": 344,
     "metadata": {},
     "output_type": "execute_result"
    }
   ],
   "source": [
    "dist_R = Z_to_R(dist_Z)\n",
    "dist_R"
   ]
  },
  {
   "cell_type": "code",
   "execution_count": 354,
   "metadata": {},
   "outputs": [
    {
     "name": "stderr",
     "output_type": "stream",
     "text": [
      "<ipython-input-354-a1b4c660bd1c>:14: FutureWarning: Using a non-tuple sequence for multidimensional indexing is deprecated; use `arr[tuple(seq)]` instead of `arr[seq]`. In the future this will be interpreted as an array index, `arr[np.array(seq)]`, which will result either in an error or a different result.\n",
      "  param_f1, _ = curve_fit(f1, dist_R[halo_mask], dens[halo_mask])\n"
     ]
    }
   ],
   "source": [
    "from scipy.optimize import curve_fit\n",
    "\n",
    "def f1(r, A, n):\n",
    "    return A / r ** n\n",
    "\n",
    "halo_mask = [dist_Z > 4]\n",
    "\n",
    "param_f1, _ = curve_fit(f1, dist_R[halo_mask], dens[halo_mask])"
   ]
  },
  {
   "cell_type": "code",
   "execution_count": 359,
   "metadata": {},
   "outputs": [
    {
     "data": {
      "text/plain": [
       "<Figure size 720x432 with 0 Axes>"
      ]
     },
     "execution_count": 359,
     "metadata": {},
     "output_type": "execute_result"
    },
    {
     "data": {
      "image/png": "[encoded data removed]",
      "text/plain": [
       "<Figure size 720x432 with 1 Axes>"
      ]
     },
     "metadata": {
      "needs_background": "light"
     },
     "output_type": "display_data"
    },
    {
     "data": {
      "text/plain": [
       "<Figure size 720x432 with 0 Axes>"
      ]
     },
     "metadata": {},
     "output_type": "display_data"
    }
   ],
   "source": [
    "from matplotlib.transforms import Transform\n",
    "from matplotlib.ticker import (\n",
    "    AutoLocator, AutoMinorLocator)\n",
    "import pdb\n",
    "\n",
    "\n",
    "extr = np.linspace(9, 50, 92)\n",
    "\n",
    "ax = plt.subplot()\n",
    "ax.scatter(dist_R, dens)\n",
    "ax.plot(dist_R, f1(dist_R, *param_f1))\n",
    "secax = ax.secondary_xaxis('top', functions=(R_to_Z, Z_to_R))\n",
    "ax.set_xlabel('R [kpc]')\n",
    "ax.set_ylabel(r'$\\rho  [kpc^{-3}]$')\n",
    "secax.set_xlabel('Z [kpc]')\n",
    "\n",
    "plt.figure()\n",
    "# plt.plot(dist, f2(dist, *param_f2))"
   ]
  },
  {
   "cell_type": "code",
   "execution_count": 369,
   "metadata": {},
   "outputs": [
    {
     "data": {
      "text/plain": [
       "0.05120450142200082"
      ]
     },
     "execution_count": 369,
     "metadata": {},
     "output_type": "execute_result"
    }
   ],
   "source": [
    "sum(f1(np.linspace(90, 100, 10), *param_f1) * get_vol_elements(10, 1, 90, (1 * u.deg **2).to(u.sr).value)"
   ]
  },
  {
   "cell_type": "markdown",
   "metadata": {},
   "source": [
    "So there is about a 1/20 chance of finding a star between 90 kpc and 100 kpc"
   ]
  },
  {
   "cell_type": "markdown",
   "metadata": {},
   "source": [
    "## Appendix A\n",
    "Showing the two distribution nature of disk vs halo stars"
   ]
  },
  {
   "cell_type": "code",
   "execution_count": 370,
   "metadata": {},
   "outputs": [
    {
     "name": "stderr",
     "output_type": "stream",
     "text": [
      "<ipython-input-370-6eedf4ecde31>:3: SettingWithCopyWarning: \n",
      "A value is trying to be set on a copy of a slice from a DataFrame.\n",
      "Try using .loc[row_indexer,col_indexer] = value instead\n",
      "\n",
      "See the caveats in the documentation: https://pandas.pydata.org/pandas-docs/stable/user_guide/indexing.html#returning-a-view-versus-a-copy\n",
      "  non_limited['R_gc'] = np.sqrt(non_limited['Z(kpc)'] ** 2 + 8.0 ** 2)\n"
     ]
    }
   ],
   "source": [
    "Z_min, Z_max = 1, 7\n",
    "non_limited = gr24.loc[(gr24['Z(kpc)'] > Z_min) & (gr24['Z(kpc)'] < Z_max)]\n",
    "non_limited['R_gc'] = np.sqrt(non_limited['Z(kpc)'] ** 2 + 8.0 ** 2)"
   ]
  },
  {
   "cell_type": "code",
   "execution_count": 372,
   "metadata": {},
   "outputs": [
    {
     "data": {
      "image/png": "[encoded data removed]",
      "text/plain": [
       "<Figure size 720x432 with 1 Axes>"
      ]
     },
     "metadata": {
      "needs_background": "light"
     },
     "output_type": "display_data"
    }
   ],
   "source": [
    "nsteps = 60\n",
    "step_size = (Z_max - Z_min)/nsteps\n",
    "dist_Z, num, dens = plot_dens_hist(nsteps, step_size, Z_min, non_limited['Z(kpc)'], label='', return_vals=True)\n",
    "dist_R = Z_to_R(dist_Z)\n"
   ]
  },
  {
   "cell_type": "code",
   "execution_count": 373,
   "metadata": {},
   "outputs": [
    {
     "name": "stderr",
     "output_type": "stream",
     "text": [
      "<ipython-input-373-3c9f414fdd12>:9: FutureWarning: Using a non-tuple sequence for multidimensional indexing is deprecated; use `arr[tuple(seq)]` instead of `arr[seq]`. In the future this will be interpreted as an array index, `arr[np.array(seq)]`, which will result either in an error or a different result.\n",
      "  param_f1, _ = curve_fit(f1, dist_R[halo_mask], dens[halo_mask])\n",
      "<ipython-input-373-3c9f414fdd12>:12: FutureWarning: Using a non-tuple sequence for multidimensional indexing is deprecated; use `arr[tuple(seq)]` instead of `arr[seq]`. In the future this will be interpreted as an array index, `arr[np.array(seq)]`, which will result either in an error or a different result.\n",
      "  param_f2, _ = curve_fit(f2, dist_R[disk_mask], dens[disk_mask])\n"
     ]
    }
   ],
   "source": [
    "def f1(r, A, n):\n",
    "    return A / r ** n\n",
    "\n",
    "def f2(r, A, b, r0):\n",
    "    return A * np.exp(-b * (r - r0))\n",
    "\n",
    "halo_mask = [dist_Z > 4]\n",
    "\n",
    "param_f1, _ = curve_fit(f1, dist_R[halo_mask], dens[halo_mask])\n",
    "\n",
    "disk_mask = [dist_Z < 3]\n",
    "param_f2, _ = curve_fit(f2, dist_R[disk_mask], dens[disk_mask])"
   ]
  },
  {
   "cell_type": "code",
   "execution_count": 376,
   "metadata": {},
   "outputs": [
    {
     "data": {
      "text/plain": [
       "<Figure size 720x432 with 0 Axes>"
      ]
     },
     "execution_count": 376,
     "metadata": {},
     "output_type": "execute_result"
    },
    {
     "data": {
      "image/png": "[encoded data removed]",
      "text/plain": [
       "<Figure size 720x432 with 1 Axes>"
      ]
     },
     "metadata": {
      "needs_background": "light"
     },
     "output_type": "display_data"
    },
    {
     "data": {
      "text/plain": [
       "<Figure size 720x432 with 0 Axes>"
      ]
     },
     "metadata": {},
     "output_type": "display_data"
    }
   ],
   "source": [
    "extr = np.linspace(9, 50, 92)\n",
    "\n",
    "ax = plt.subplot()\n",
    "ax.scatter(dist_R, dens)\n",
    "ax.plot(dist_R, f1(dist_R, *param_f1))\n",
    "ax.plot(dist_R, f2(dist_R, *param_f2))\n",
    "# ax.plot(dist_R, f1(dist_R, *param_f1) + f2(dist_R, *param_f2))\n",
    "\n",
    "secax = ax.secondary_xaxis('top', functions=(R_to_Z, Z_to_R))\n",
    "ax.set_xlabel('R [kpc]')\n",
    "ax.set_ylabel(r'$\\rho  [kpc^{-3}]$')\n",
    "secax.set_xlabel('Z [kpc]')\n",
    "\n",
    "plt.figure()\n",
    "# plt.plot(dist, f2(dist, *param_f2))"
   ]
  },
  {
   "cell_type": "code",
   "execution_count": 378,
   "metadata": {},
   "outputs": [
    {
     "name": "stderr",
     "output_type": "stream",
     "text": [
      "<ipython-input-378-46471079cd86>:6: FutureWarning: Using a non-tuple sequence for multidimensional indexing is deprecated; use `arr[tuple(seq)]` instead of `arr[seq]`. In the future this will be interpreted as an array index, `arr[np.array(seq)]`, which will result either in an error or a different result.\n",
      "  ax.semilogy(dist_R[disk_mask], f2(dist_R[disk_mask], *param_f2))\n"
     ]
    },
    {
     "data": {
      "text/plain": [
       "<Figure size 720x432 with 0 Axes>"
      ]
     },
     "execution_count": 378,
     "metadata": {},
     "output_type": "execute_result"
    },
    {
     "data": {
      "image/png": "[encoded data removed]",
      "text/plain": [
       "<Figure size 720x432 with 1 Axes>"
      ]
     },
     "metadata": {
      "needs_background": "light"
     },
     "output_type": "display_data"
    },
    {
     "data": {
      "text/plain": [
       "<Figure size 720x432 with 0 Axes>"
      ]
     },
     "metadata": {},
     "output_type": "display_data"
    }
   ],
   "source": [
    "extr = np.linspace(9, 50, 92)\n",
    "\n",
    "ax = plt.subplot()\n",
    "ax.scatter(dist_R, dens)\n",
    "ax.semilogy(dist_R, f1(dist_R, *param_f1))\n",
    "ax.semilogy(dist_R[disk_mask], f2(dist_R[disk_mask], *param_f2))\n",
    "# ax.plot(dist_R, f1(dist_R, *param_f1) + f2(dist_R, *param_f2))\n",
    "\n",
    "secax = ax.secondary_xaxis('top', functions=(R_to_Z, Z_to_R))\n",
    "ax.set_xlabel('R [kpc]')\n",
    "ax.set_ylabel(r'$\\rho  [kpc^{-3}]$')\n",
    "secax.set_xlabel('Z [kpc]')\n",
    "\n",
    "plt.figure()\n",
    "# plt.plot(dist, f2(dist, *param_f2))"
   ]
  },
  {
   "cell_type": "markdown",
   "metadata": {},
   "source": [
    "# Ignore after this point\n",
    "\n",
    "#### Trying density function from the paper"
   ]
  },
  {
   "cell_type": "code",
   "execution_count": 292,
   "metadata": {},
   "outputs": [],
   "source": [
    "Z_sun = 25  # pc\n",
    "R_sun = 8000  #pc\n",
    "H1 = 245  # pc\n",
    "H2 = 743  # pc\n",
    "e_D = .13\n",
    "e_H = 0.0051\n",
    "q_H = 0.64\n",
    "n_H = 2.77\n",
    "L1 = 2150\n",
    "L2 = 3261\n",
    "rho_D0 = 560440   # counts / kpc^3     \n",
    "\n",
    "def rho_D(R):\n",
    "    Z = np.sqrt(R ** 2 - 8000 ** 2)\n",
    "    return rho_D0 * (np.exp(-np.abs(Z + Z_sun)/H1 - (R-R_sun)/L1) + e_D * np.exp(-np.abs(Z + Z_sun) / H2 - (R - R_sun) / L2)) \n",
    "\n",
    "def rho_H(R):\n",
    "    Z = np.sqrt(R ** 2 - 8000 ** 2)\n",
    "    return (rho_D0 * e_H * (R_sun ** 2 / (R ** 2 + (Z/q_H))) ** (n_H / 2))\n",
    "    "
   ]
  },
  {
   "cell_type": "code",
   "execution_count": 298,
   "metadata": {},
   "outputs": [
    {
     "name": "stderr",
     "output_type": "stream",
     "text": [
      "<ipython-input-292-6e2f5cec86d5>:14: RuntimeWarning: invalid value encountered in sqrt\n",
      "  Z = np.sqrt(R ** 2 - 8000 ** 2)\n",
      "<ipython-input-292-6e2f5cec86d5>:18: RuntimeWarning: invalid value encountered in sqrt\n",
      "  Z = np.sqrt(R ** 2 - 8000 ** 2)\n"
     ]
    },
    {
     "data": {
      "text/plain": [
       "[<matplotlib.lines.Line2D at 0x2138ecf41c0>]"
      ]
     },
     "execution_count": 298,
     "metadata": {},
     "output_type": "execute_result"
    },
    {
     "data": {
      "image/png": "[encoded data removed]",
      "text/plain": [
       "<Figure size 720x432 with 1 Axes>"
      ]
     },
     "metadata": {
      "needs_background": "light"
     },
     "output_type": "display_data"
    }
   ],
   "source": [
    "test = np.linspace(8.1, 15, 71)\n",
    "plt.plot(test, (rho_D(test))/ (rho_D(test) + rho_H(test)))"
   ]
  },
  {
   "cell_type": "code",
   "execution_count": 295,
   "metadata": {},
   "outputs": [
    {
     "data": {
      "text/plain": [
       "<Figure size 720x432 with 0 Axes>"
      ]
     },
     "execution_count": 295,
     "metadata": {},
     "output_type": "execute_result"
    },
    {
     "data": {
      "image/png": "[encoded data removed]",
      "text/plain": [
       "<Figure size 720x432 with 1 Axes>"
      ]
     },
     "metadata": {
      "needs_background": "light"
     },
     "output_type": "display_data"
    },
    {
     "data": {
      "text/plain": [
       "<Figure size 720x432 with 0 Axes>"
      ]
     },
     "metadata": {},
     "output_type": "display_data"
    }
   ],
   "source": [
    "from matplotlib.transforms import Transform\n",
    "from matplotlib.ticker import (\n",
    "    AutoLocator, AutoMinorLocator)\n",
    "import pdb\n",
    "\n",
    "\n",
    "extr = np.linspace(9, 100, 92)\n",
    "\n",
    "ax = plt.subplot()\n",
    "ax.scatter(dist_R, dens)\n",
    "# ax.plot(dist_R, f1(dist_R, *param_f1))\n",
    "# ax.plot(dist_R, f2(dist_R, *param_f2))\n",
    "# ax.plot(dist_R, rho_D(dist_R*1000))\n",
    "ax.plot(dist_R, rho_H(dist_R*1000))\n",
    "ax.set_xlabel('R')\n",
    "ax.set_ylabel(r'$\\rho$')\n",
    "plt.figure()"
   ]
  },
  {
   "cell_type": "code",
   "execution_count": 210,
   "metadata": {},
   "outputs": [
    {
     "data": {
      "text/plain": [
       "9.17877987534291"
      ]
     },
     "execution_count": 210,
     "metadata": {},
     "output_type": "execute_result"
    }
   ],
   "source": [
    "np.sqrt(4.5**2 + 64)"
   ]
  },
  {
   "cell_type": "code",
   "execution_count": 357,
   "metadata": {},
   "outputs": [
    {
     "data": {
      "text/plain": [
       "array([2.89301049e+09, 6.16653150e+00])"
      ]
     },
     "execution_count": 357,
     "metadata": {},
     "output_type": "execute_result"
    }
   ],
   "source": [
    "param_f1"
   ]
  },
  {
   "cell_type": "code",
   "execution_count": null,
   "metadata": {},
   "outputs": [],
   "source": []
  }
 ],
 "metadata": {
  "kernelspec": {
   "display_name": "Python 3",
   "language": "python",
   "name": "python3"
  },
  "language_info": {
   "codemirror_mode": {
    "name": "ipython",
    "version": 3
   },
   "file_extension": ".py",
   "mimetype": "text/x-python",
   "name": "python",
   "nbconvert_exporter": "python",
   "pygments_lexer": "ipython3",
   "version": "3.8.3"
  }
 },
 "nbformat": 4,
 "nbformat_minor": 4
}
