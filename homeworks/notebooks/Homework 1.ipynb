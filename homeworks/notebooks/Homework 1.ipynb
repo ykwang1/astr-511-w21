{
 "cells": [
  {
   "cell_type": "code",
   "execution_count": 35,
   "metadata": {},
   "outputs": [],
   "source": [
    "import pandas as pd\n",
    "import numpy as np\n",
    "import astropy.units as u\n",
    "import matplotlib.pyplot as plt"
   ]
  },
  {
   "cell_type": "markdown",
   "metadata": {},
   "source": [
    "## Read data as pd DataFrame"
   ]
  },
  {
   "cell_type": "code",
   "execution_count": 2,
   "metadata": {},
   "outputs": [],
   "source": [
    "with open('../Astr511HW1data.dat', 'r') as ff:\n",
    "    line1 = ff.readline()\n",
    "    cols = line1.strip('#').split()\n",
    "\n",
    "df = pd.read_csv('../Astr511HW1data.dat', comment='#', delim_whitespace=True, names=cols)"
   ]
  },
  {
   "cell_type": "code",
   "execution_count": 3,
   "metadata": {},
   "outputs": [
    {
     "data": {
      "text/html": [
       "<div>\n",
       "<style scoped>\n",
       "    .dataframe tbody tr th:only-of-type {\n",
       "        vertical-align: middle;\n",
       "    }\n",
       "\n",
       "    .dataframe tbody tr th {\n",
       "        vertical-align: top;\n",
       "    }\n",
       "\n",
       "    .dataframe thead th {\n",
       "        text-align: right;\n",
       "    }\n",
       "</style>\n",
       "<table border=\"1\" class=\"dataframe\">\n",
       "  <thead>\n",
       "    <tr style=\"text-align: right;\">\n",
       "      <th></th>\n",
       "      <th>ra</th>\n",
       "      <th>dec</th>\n",
       "      <th>run</th>\n",
       "      <th>Ar</th>\n",
       "      <th>u</th>\n",
       "      <th>g</th>\n",
       "      <th>r</th>\n",
       "      <th>i</th>\n",
       "      <th>z</th>\n",
       "      <th>uErr</th>\n",
       "      <th>gErr</th>\n",
       "      <th>rErr</th>\n",
       "      <th>iErr</th>\n",
       "      <th>zErr</th>\n",
       "      <th>pmL</th>\n",
       "      <th>pmB</th>\n",
       "      <th>pmErr</th>\n",
       "    </tr>\n",
       "  </thead>\n",
       "  <tbody>\n",
       "    <tr>\n",
       "      <th>0</th>\n",
       "      <td>181.61220</td>\n",
       "      <td>27.57260</td>\n",
       "      <td>5087</td>\n",
       "      <td>0.05</td>\n",
       "      <td>16.40</td>\n",
       "      <td>15.24</td>\n",
       "      <td>14.80</td>\n",
       "      <td>14.73</td>\n",
       "      <td>14.69</td>\n",
       "      <td>0.02</td>\n",
       "      <td>0.02</td>\n",
       "      <td>0.02</td>\n",
       "      <td>0.02</td>\n",
       "      <td>0.01</td>\n",
       "      <td>5.16</td>\n",
       "      <td>-1.45</td>\n",
       "      <td>2.72</td>\n",
       "    </tr>\n",
       "    <tr>\n",
       "      <th>1</th>\n",
       "      <td>181.61303</td>\n",
       "      <td>27.60770</td>\n",
       "      <td>5087</td>\n",
       "      <td>0.05</td>\n",
       "      <td>21.84</td>\n",
       "      <td>19.55</td>\n",
       "      <td>18.40</td>\n",
       "      <td>18.04</td>\n",
       "      <td>17.79</td>\n",
       "      <td>0.18</td>\n",
       "      <td>0.02</td>\n",
       "      <td>0.02</td>\n",
       "      <td>0.02</td>\n",
       "      <td>0.02</td>\n",
       "      <td>5.48</td>\n",
       "      <td>4.73</td>\n",
       "      <td>3.16</td>\n",
       "    </tr>\n",
       "    <tr>\n",
       "      <th>2</th>\n",
       "      <td>181.61416</td>\n",
       "      <td>27.35956</td>\n",
       "      <td>5112</td>\n",
       "      <td>0.05</td>\n",
       "      <td>19.76</td>\n",
       "      <td>17.56</td>\n",
       "      <td>16.61</td>\n",
       "      <td>16.23</td>\n",
       "      <td>16.07</td>\n",
       "      <td>0.03</td>\n",
       "      <td>0.01</td>\n",
       "      <td>0.02</td>\n",
       "      <td>0.03</td>\n",
       "      <td>0.03</td>\n",
       "      <td>3.14</td>\n",
       "      <td>7.92</td>\n",
       "      <td>2.79</td>\n",
       "    </tr>\n",
       "    <tr>\n",
       "      <th>3</th>\n",
       "      <td>181.61640</td>\n",
       "      <td>27.82464</td>\n",
       "      <td>5112</td>\n",
       "      <td>0.06</td>\n",
       "      <td>21.73</td>\n",
       "      <td>20.63</td>\n",
       "      <td>20.19</td>\n",
       "      <td>19.99</td>\n",
       "      <td>20.04</td>\n",
       "      <td>0.16</td>\n",
       "      <td>0.03</td>\n",
       "      <td>0.03</td>\n",
       "      <td>0.03</td>\n",
       "      <td>0.13</td>\n",
       "      <td>19.13</td>\n",
       "      <td>-1.08</td>\n",
       "      <td>5.08</td>\n",
       "    </tr>\n",
       "    <tr>\n",
       "      <th>4</th>\n",
       "      <td>181.62112</td>\n",
       "      <td>28.01623</td>\n",
       "      <td>5087</td>\n",
       "      <td>0.05</td>\n",
       "      <td>21.37</td>\n",
       "      <td>20.38</td>\n",
       "      <td>20.11</td>\n",
       "      <td>20.05</td>\n",
       "      <td>19.87</td>\n",
       "      <td>0.11</td>\n",
       "      <td>0.04</td>\n",
       "      <td>0.03</td>\n",
       "      <td>0.03</td>\n",
       "      <td>0.09</td>\n",
       "      <td>-3.65</td>\n",
       "      <td>-8.00</td>\n",
       "      <td>4.91</td>\n",
       "    </tr>\n",
       "  </tbody>\n",
       "</table>\n",
       "</div>"
      ],
      "text/plain": [
       "          ra       dec   run    Ar      u      g      r      i      z  uErr  \\\n",
       "0  181.61220  27.57260  5087  0.05  16.40  15.24  14.80  14.73  14.69  0.02   \n",
       "1  181.61303  27.60770  5087  0.05  21.84  19.55  18.40  18.04  17.79  0.18   \n",
       "2  181.61416  27.35956  5112  0.05  19.76  17.56  16.61  16.23  16.07  0.03   \n",
       "3  181.61640  27.82464  5112  0.06  21.73  20.63  20.19  19.99  20.04  0.16   \n",
       "4  181.62112  28.01623  5087  0.05  21.37  20.38  20.11  20.05  19.87  0.11   \n",
       "\n",
       "   gErr  rErr  iErr  zErr    pmL   pmB  pmErr  \n",
       "0  0.02  0.02  0.02  0.01   5.16 -1.45   2.72  \n",
       "1  0.02  0.02  0.02  0.02   5.48  4.73   3.16  \n",
       "2  0.01  0.02  0.03  0.03   3.14  7.92   2.79  \n",
       "3  0.03  0.03  0.03  0.13  19.13 -1.08   5.08  \n",
       "4  0.04  0.03  0.03  0.09  -3.65 -8.00   4.91  "
      ]
     },
     "execution_count": 3,
     "metadata": {},
     "output_type": "execute_result"
    }
   ],
   "source": [
    "df.head()"
   ]
  },
  {
   "cell_type": "markdown",
   "metadata": {},
   "source": [
    "## Calculate Metalliticites Fe/H\n",
    "\n",
    "\\begin{equation}\n",
    "[Fe/H] = A + Bx + Cy + Dxy + Ex^2 + Fy^2 + Gx^2y + Hxy^2 + Ix^3 + Jy^3\n",
    "\\end{equation}\n",
    "$x = (u - g) \\\\\n",
    "y = (g - r) \\\\\n",
    "(A - J) = (-13.13, 14.09, 28.04, -5.51, -5.90, -58.68, 9.14, -20.61, 0.0, 58.20)$"
   ]
  },
  {
   "cell_type": "code",
   "execution_count": 4,
   "metadata": {},
   "outputs": [],
   "source": [
    "df['x'] = df['u'] - df['g']\n",
    "df['y'] = df['g'] - df['r']\n",
    "\n",
    "coeff = (-13.13, 14.09, 28.04, -5.51, -5.90, -58.68, 9.14, -20.61, 0.0, 58.20)\n",
    "A, B, C, D, E, F, G, H, I, J = coeff\n",
    "\n",
    "metallicity = lambda x, y: A + B*x + C*y + D*x*y + E*x**2 + F*y**2 + G*x**2*y + H*x*y**2 + I*x**3 + J*y**3\n",
    "\n",
    "df['Fe/H'] = -0.6\n",
    "df.loc[(df['y'] < 0.6), 'Fe/H'] = metallicity(df.loc[(df['y'] < 0.6), 'x'], df.loc[(df['y'] < 0.6), 'y'])"
   ]
  },
  {
   "cell_type": "markdown",
   "metadata": {},
   "source": [
    "## Calculate Absolute Mag in r from Fe/H and g - r\n",
    "\n",
    "#### Fiducial Abs Mag in r $M^0_r$\n",
    "A7\n",
    "\\begin{equation}\n",
    "M^0_r (g - i) = -5.06 + 14.32x - 12.97x^2 + 6.127x^3 - 1.267x^4 + 0.0967x^5\n",
    "\\end{equation}\n",
    "\n",
    "#### Metalicity Correction $\\Delta M_r$\n",
    "A2\n",
    "\\begin{equation}\n",
    "\\Delta M_r([Fe/H]) = 4.50 - 1.11 [Fe/H] - 0.18[Fe/H]^2\n",
    "\\end{equation}\n",
    "\n",
    "#### Fitted Abs Mag in r $M_r$\n",
    "A3\n",
    "\\begin{equation}\n",
    "M_r(g - i, [Fe/H]) = M^0_r (g - i) + \\Delta M_r([Fe/H])\n",
    "\\end{equation}\n",
    "\n",
    "\n"
   ]
  },
  {
   "cell_type": "code",
   "execution_count": 6,
   "metadata": {},
   "outputs": [],
   "source": [
    "# A2\n",
    "df['DelMr'] = 4.50 - 1.11 * df['Fe/H'] - 0.18 * df['Fe/H'] ** 2\n",
    "\n",
    "# A7\n",
    "fiducial_M_r = lambda x: -5.06 + 14.32*x - 12.97*x**2 + 6.127*x**3 - 1.267*x**4 + 0.0967*x**5\n",
    "df['FidcMr'] = fiducial_M_r(df['g'] - df['i'])\n",
    "\n",
    "# A3\n",
    "df['Mr'] = df['FidcMr'] + df['DelMr']"
   ]
  },
  {
   "cell_type": "markdown",
   "metadata": {},
   "source": [
    "## Calculate Z, distance above galactic plane\n",
    "\n",
    "For distance from galactic plane Z\n",
    "\n",
    "We assume \n",
    "\n",
    "$Z = D$\n",
    "\n",
    "and \n",
    "\n",
    "$r - M_r = 5 * log(D/(10pc))$\n",
    "\n",
    "Solving for D:\n",
    "\n",
    "$D = 10^{0.2 * (r - M_r) + 1} pc$\n"
   ]
  },
  {
   "cell_type": "code",
   "execution_count": 187,
   "metadata": {},
   "outputs": [],
   "source": [
    "df['Z'] = 10 ** ((df['r'] - df['Mr']) / 5) * 10  # pc\n",
    "df['Z(kpc)'] = df['Z'] / 1000"
   ]
  },
  {
   "cell_type": "markdown",
   "metadata": {},
   "source": [
    "## Problem 1\n",
    "For stars with $0.2 < g - r < 0.4$, plot $ln(\\rho)$ vs. $Z$ where $\\rho$ is the stellar number density in a given bin, Approximate \n",
    "\n",
    "$\\rho(Z) = N(Z) / V(Z)$\n",
    "\n",
    "where N is the number of stars in a given bin, V is the bin volume."
   ]
  },
  {
   "cell_type": "code",
   "execution_count": 191,
   "metadata": {},
   "outputs": [],
   "source": [
    "gr24 = df.loc[((df['g'] - df['r']) < 0.4) & ((df['g'] - df['r']) > 0.2)]"
   ]
  },
  {
   "cell_type": "code",
   "execution_count": 186,
   "metadata": {},
   "outputs": [],
   "source": [
    "sa = (314 * u.deg **2).to(u.sr).value"
   ]
  },
  {
   "cell_type": "code",
   "execution_count": 184,
   "metadata": {},
   "outputs": [],
   "source": [
    "def get_vol_elements(n, bin_size, bin_start, solid_angle, method='avg', disp=False):\n",
    "    def puck_vol(distance, sa, thickness):\n",
    "        return sa * distance ** 2 * thickness\n",
    "    def cone_vol(distance, sa):\n",
    "        return 1/3 * distance ** 3 * sa \n",
    "    \n",
    "    lower_bound = np.arange(bin_start, round(bin_size * n + bin_start, 6), bin_size)\n",
    "    upper_bound = np.arange(bin_start + bin_size, round(bin_size * (n + 1) + bin_start, 6), bin_size)\n",
    "    lower_bound = np.round(lower_bound, 6)\n",
    "    upper_bound = np.round(upper_bound, 6)\n",
    "    \n",
    "    \n",
    "    if method == 'avg':\n",
    "        dVs =  0.5 * (puck_vol(lower_bound, solid_angle, bin_size) + \n",
    "                      puck_vol(upper_bound, solid_angle, bin_size))\n",
    "        \n",
    "    elif method == 'lower':\n",
    "        dVs = puck_vol(lower_bound, solid_angle, bin_size)\n",
    "            \n",
    "    elif method == 'upper':\n",
    "        dVs = puck_vol(upper_bound, solid_angle, bin_size)\n",
    "        \n",
    "    elif method == 'exact':\n",
    "        dVs = cone_vol(upper_bound, solid_angle) - cone_vol(lower_bound, solid_angle)\n",
    "    \n",
    "    if disp:\n",
    "        for ii in range(n):\n",
    "            print(f'from {lower_bound[ii]} to {upper_bound[ii]}:\\t {dVs[ii]}')\n",
    "    \n",
    "    return dVs\n",
    "    \n",
    "    \n"
   ]
  },
  {
   "cell_type": "code",
   "execution_count": 203,
   "metadata": {
    "scrolled": true
   },
   "outputs": [
    {
     "data": {
      "text/plain": [
       "0.9980937009788111"
      ]
     },
     "execution_count": 203,
     "metadata": {},
     "output_type": "execute_result"
    }
   ],
   "source": [
    "(get_vol_elements(40, 0.4, 0.8, sa, 'exact') / get_vol_elements(40, 0.4, 0.8, sa, 'avg')).mean()"
   ]
  },
  {
   "cell_type": "code",
   "execution_count": 209,
   "metadata": {},
   "outputs": [],
   "source": [
    "def get_star_counts(distance_arr, n, bin_size, bin_start, disp_table=False):\n",
    "    bounds =  np.arange(bin_start, round(bin_size * (n + 1) + bin_start, 6), bin_size)\n",
    "    bounds = np.round(bounds, 6)\n",
    "    counts, bins = np.histogram(distance_arr, bins=bounds)\n",
    "    if disp_table:\n",
    "        for ii in range(n):\n",
    "            print(f'from {bounds[ii]} to {bounds[ii+1]}:\\t {counts[ii]}')\n",
    "    return counts\n",
    "    "
   ]
  },
  {
   "cell_type": "code",
   "execution_count": 210,
   "metadata": {
    "scrolled": true
   },
   "outputs": [
    {
     "name": "stdout",
     "output_type": "stream",
     "text": [
      "from 0.8 to 1.2:\t 2102\n",
      "from 1.2 to 1.6:\t 3235\n",
      "from 1.6 to 2.0:\t 3409\n",
      "from 2.0 to 2.4:\t 3307\n",
      "from 2.4 to 2.8:\t 3194\n",
      "from 2.8 to 3.2:\t 2879\n",
      "from 3.2 to 3.6:\t 2792\n",
      "from 3.6 to 4.0:\t 2640\n",
      "from 4.0 to 4.4:\t 2657\n",
      "from 4.4 to 4.8:\t 2676\n",
      "from 4.8 to 5.2:\t 2590\n",
      "from 5.2 to 5.6:\t 2687\n",
      "from 5.6 to 6.0:\t 2713\n",
      "from 6.0 to 6.4:\t 2799\n",
      "from 6.4 to 6.8:\t 2834\n",
      "from 6.8 to 7.2:\t 2804\n",
      "from 7.2 to 7.6:\t 2942\n",
      "from 7.6 to 8.0:\t 2938\n",
      "from 8.0 to 8.4:\t 3050\n",
      "from 8.4 to 8.8:\t 3004\n"
     ]
    },
    {
     "data": {
      "text/plain": [
       "array([2102, 3235, 3409, 3307, 3194, 2879, 2792, 2640, 2657, 2676, 2590,\n",
       "       2687, 2713, 2799, 2834, 2804, 2942, 2938, 3050, 3004], dtype=int64)"
      ]
     },
     "execution_count": 210,
     "metadata": {},
     "output_type": "execute_result"
    }
   ],
   "source": [
    "get_star_counts(gr24['Z(kpc)'], 20, .4, .8, disp_table=True)"
   ]
  },
  {
   "cell_type": "code",
   "execution_count": 84,
   "metadata": {},
   "outputs": [
    {
     "data": {
      "text/plain": [
       "2590"
      ]
     },
     "execution_count": 84,
     "metadata": {},
     "output_type": "execute_result"
    }
   ],
   "source": [
    "# spot check on N(4.8 < Z < 5.2)\n",
    "sum((gr24['D(kpc)'] < 5.2) & (gr24['D(kpc)'] > 4.8)) "
   ]
  },
  {
   "cell_type": "code",
   "execution_count": 216,
   "metadata": {},
   "outputs": [],
   "source": [
    "def plot_hist(n, bin_size, bin_start, distance_arr):\n",
    "    sa = (314 * u.deg **2).to(u.sr).value\n",
    "    V = get_vol_elements(n, bin_size, bin_start, sa)\n",
    "    N = get_star_counts(distance_arr, n, bin_size, bin_start)\n",
    "    bounds =  np.arange(bin_start, round(bin_size * n + bin_start, 6), bin_size)\n",
    "    bounds = np.round(bounds, 6)    \n",
    "    plt.figure()\n",
    "    plt.step(bounds, np.log(N/V))\n",
    "    plt.xlabel('Z (kpc)')\n",
    "    plt.ylabel(r'$ln(\\rho(Z))$')"
   ]
  },
  {
   "cell_type": "code",
   "execution_count": 222,
   "metadata": {},
   "outputs": [
    {
     "data": {
      "image/png": "[encoded data removed]",
      "text/plain": [
       "<Figure size 432x288 with 1 Axes>"
      ]
     },
     "metadata": {
      "needs_background": "light"
     },
     "output_type": "display_data"
    }
   ],
   "source": [
    "plot_hist(n=25, bin_size=1, bin_start=0, distance_arr=gr24['Z(kpc)'])"
   ]
  },
  {
   "cell_type": "code",
   "execution_count": 220,
   "metadata": {},
   "outputs": [
    {
     "data": {
      "image/png": "[encoded data removed]",
      "text/plain": [
       "<Figure size 432x288 with 1 Axes>"
      ]
     },
     "metadata": {
      "needs_background": "light"
     },
     "output_type": "display_data"
    }
   ],
   "source": [
    "plot_hist(n=100, bin_size=.4, bin_start=1, distance_arr=gr24['Z(kpc)'])"
   ]
  },
  {
   "cell_type": "code",
   "execution_count": 213,
   "metadata": {},
   "outputs": [
    {
     "ename": "NameError",
     "evalue": "name 'Table' is not defined",
     "output_type": "error",
     "traceback": [
      "\u001b[1;31m---------------------------------------------------------------------------\u001b[0m",
      "\u001b[1;31mNameError\u001b[0m                                 Traceback (most recent call last)",
      "\u001b[1;32m<ipython-input-213-3050f85cbb05>\u001b[0m in \u001b[0;36m<module>\u001b[1;34m\u001b[0m\n\u001b[1;32m----> 1\u001b[1;33m \u001b[0mdata\u001b[0m \u001b[1;33m=\u001b[0m \u001b[0mTable\u001b[0m\u001b[1;33m.\u001b[0m\u001b[0mread\u001b[0m\u001b[1;33m(\u001b[0m\u001b[1;34m'../Astr511HW1data.dat'\u001b[0m\u001b[1;33m,\u001b[0m \u001b[0mformat\u001b[0m\u001b[1;33m=\u001b[0m\u001b[1;34m'ascii'\u001b[0m\u001b[1;33m)\u001b[0m\u001b[1;33m\u001b[0m\u001b[1;33m\u001b[0m\u001b[0m\n\u001b[0m",
      "\u001b[1;31mNameError\u001b[0m: name 'Table' is not defined"
     ]
    }
   ],
   "source": [
    "data = Table.read('../Astr511HW1data.dat', format='ascii')"
   ]
  }
 ],
 "metadata": {
  "kernelspec": {
   "display_name": "Python 3",
   "language": "python",
   "name": "python3"
  },
  "language_info": {
   "codemirror_mode": {
    "name": "ipython",
    "version": 3
   },
   "file_extension": ".py",
   "mimetype": "text/x-python",
   "name": "python",
   "nbconvert_exporter": "python",
   "pygments_lexer": "ipython3",
   "version": "3.8.3"
  }
 },
 "nbformat": 4,
 "nbformat_minor": 4
}
